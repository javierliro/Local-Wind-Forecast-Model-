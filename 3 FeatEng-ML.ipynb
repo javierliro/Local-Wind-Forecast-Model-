{
 "cells": [
  {
   "cell_type": "markdown",
   "metadata": {},
   "source": [
    "# Feature Engineering + Machine Learning"
   ]
  },
  {
   "cell_type": "code",
   "execution_count": 1,
   "metadata": {},
   "outputs": [],
   "source": [
    "%config Completer.use_jedi = False \n",
    "\n",
    "# Data manipulation\n",
    "\n",
    "import numpy as np\n",
    "import pandas as pd\n",
    "\n",
    "# Visualization \n",
    "\n",
    "import matplotlib.pyplot as plt\n",
    "import seaborn as sns\n",
    "\n",
    "# Machine Learning\n",
    "\n",
    "from sklearn.linear_model import LinearRegression\n",
    "from sklearn.neighbors import KNeighborsRegressor\n",
    "from sklearn.tree import DecisionTreeRegressor\n",
    "from sklearn.ensemble import RandomForestRegressor\n",
    "\n",
    "from sklearn.model_selection import train_test_split\n",
    "\n",
    "from sklearn.metrics import mean_squared_error, mean_absolute_error, explained_variance_score\n",
    "\n",
    "from sklearn.preprocessing import StandardScaler\n"
   ]
  },
  {
   "cell_type": "code",
   "execution_count": 2,
   "metadata": {
    "scrolled": true
   },
   "outputs": [
    {
     "data": {
      "text/html": [
       "<div>\n",
       "<style scoped>\n",
       "    .dataframe tbody tr th:only-of-type {\n",
       "        vertical-align: middle;\n",
       "    }\n",
       "\n",
       "    .dataframe tbody tr th {\n",
       "        vertical-align: top;\n",
       "    }\n",
       "\n",
       "    .dataframe thead th {\n",
       "        text-align: right;\n",
       "    }\n",
       "</style>\n",
       "<table border=\"1\" class=\"dataframe\">\n",
       "  <thead>\n",
       "    <tr style=\"text-align: right;\">\n",
       "      <th></th>\n",
       "      <th>slice dt iso</th>\n",
       "      <th>lat</th>\n",
       "      <th>lon</th>\n",
       "      <th>temperature</th>\n",
       "      <th>dew_point</th>\n",
       "      <th>pressure</th>\n",
       "      <th>humidity</th>\n",
       "      <th>clouds</th>\n",
       "      <th>wind_speed</th>\n",
       "      <th>wind_deg</th>\n",
       "      <th>rain</th>\n",
       "      <th>convective</th>\n",
       "      <th>Direction N-S</th>\n",
       "      <th>Direction E-W</th>\n",
       "      <th>Compass</th>\n",
       "      <th>Tarifa_WindGust</th>\n",
       "      <th>Tarifa_Wind</th>\n",
       "      <th>Tarifa_WindDirection</th>\n",
       "      <th>Tarifa_Direction N-S</th>\n",
       "      <th>Tarifa_Direction E-W</th>\n",
       "      <th>Tarifa Compass</th>\n",
       "      <th>delta_Wind</th>\n",
       "      <th>delta_N-S</th>\n",
       "      <th>delta_E-W</th>\n",
       "    </tr>\n",
       "  </thead>\n",
       "  <tbody>\n",
       "    <tr>\n",
       "      <th>0</th>\n",
       "      <td>2019-02-16 09:00:00</td>\n",
       "      <td>36.013158</td>\n",
       "      <td>-5.598892</td>\n",
       "      <td>13.79</td>\n",
       "      <td>11.13</td>\n",
       "      <td>1021.601</td>\n",
       "      <td>83.994</td>\n",
       "      <td>100.0</td>\n",
       "      <td>25.963871</td>\n",
       "      <td>95.202</td>\n",
       "      <td>0.125</td>\n",
       "      <td>0.125</td>\n",
       "      <td>-0.090667</td>\n",
       "      <td>0.995881</td>\n",
       "      <td>E</td>\n",
       "      <td>35.118709</td>\n",
       "      <td>17.624149</td>\n",
       "      <td>72.0</td>\n",
       "      <td>0.309017</td>\n",
       "      <td>0.951057</td>\n",
       "      <td>NEE</td>\n",
       "      <td>-8.339722</td>\n",
       "      <td>0.399684</td>\n",
       "      <td>-0.044825</td>\n",
       "    </tr>\n",
       "    <tr>\n",
       "      <th>1</th>\n",
       "      <td>2019-02-16 12:00:00</td>\n",
       "      <td>36.013158</td>\n",
       "      <td>-5.598892</td>\n",
       "      <td>13.81</td>\n",
       "      <td>11.16</td>\n",
       "      <td>1022.066</td>\n",
       "      <td>84.064</td>\n",
       "      <td>96.0</td>\n",
       "      <td>25.437090</td>\n",
       "      <td>93.856</td>\n",
       "      <td>0.375</td>\n",
       "      <td>0.375</td>\n",
       "      <td>-0.067249</td>\n",
       "      <td>0.997736</td>\n",
       "      <td>E</td>\n",
       "      <td>35.053915</td>\n",
       "      <td>21.835803</td>\n",
       "      <td>86.0</td>\n",
       "      <td>0.069756</td>\n",
       "      <td>0.997564</td>\n",
       "      <td>E</td>\n",
       "      <td>-3.601288</td>\n",
       "      <td>0.137006</td>\n",
       "      <td>-0.000172</td>\n",
       "    </tr>\n",
       "    <tr>\n",
       "      <th>2</th>\n",
       "      <td>2019-02-16 15:00:00</td>\n",
       "      <td>36.013158</td>\n",
       "      <td>-5.598892</td>\n",
       "      <td>13.82</td>\n",
       "      <td>11.15</td>\n",
       "      <td>1020.887</td>\n",
       "      <td>83.926</td>\n",
       "      <td>92.0</td>\n",
       "      <td>23.938390</td>\n",
       "      <td>93.883</td>\n",
       "      <td>0.188</td>\n",
       "      <td>0.188</td>\n",
       "      <td>-0.067719</td>\n",
       "      <td>0.997704</td>\n",
       "      <td>E</td>\n",
       "      <td>34.859531</td>\n",
       "      <td>20.539909</td>\n",
       "      <td>82.0</td>\n",
       "      <td>0.139173</td>\n",
       "      <td>0.990268</td>\n",
       "      <td>E</td>\n",
       "      <td>-3.398480</td>\n",
       "      <td>0.206892</td>\n",
       "      <td>-0.007436</td>\n",
       "    </tr>\n",
       "    <tr>\n",
       "      <th>3</th>\n",
       "      <td>2019-02-16 18:00:00</td>\n",
       "      <td>36.013158</td>\n",
       "      <td>-5.598892</td>\n",
       "      <td>13.77</td>\n",
       "      <td>11.27</td>\n",
       "      <td>1020.964</td>\n",
       "      <td>84.583</td>\n",
       "      <td>94.0</td>\n",
       "      <td>19.924360</td>\n",
       "      <td>95.812</td>\n",
       "      <td>0.312</td>\n",
       "      <td>0.312</td>\n",
       "      <td>-0.101265</td>\n",
       "      <td>0.994860</td>\n",
       "      <td>E</td>\n",
       "      <td>35.766656</td>\n",
       "      <td>23.326080</td>\n",
       "      <td>87.0</td>\n",
       "      <td>0.052336</td>\n",
       "      <td>0.998630</td>\n",
       "      <td>E</td>\n",
       "      <td>3.401720</td>\n",
       "      <td>0.153601</td>\n",
       "      <td>0.003770</td>\n",
       "    </tr>\n",
       "    <tr>\n",
       "      <th>4</th>\n",
       "      <td>2019-02-16 21:00:00</td>\n",
       "      <td>36.013158</td>\n",
       "      <td>-5.598892</td>\n",
       "      <td>13.74</td>\n",
       "      <td>11.24</td>\n",
       "      <td>1022.636</td>\n",
       "      <td>84.845</td>\n",
       "      <td>88.0</td>\n",
       "      <td>16.271885</td>\n",
       "      <td>94.213</td>\n",
       "      <td>0.000</td>\n",
       "      <td>0.000</td>\n",
       "      <td>-0.073464</td>\n",
       "      <td>0.997298</td>\n",
       "      <td>E</td>\n",
       "      <td>NaN</td>\n",
       "      <td>NaN</td>\n",
       "      <td>83.0</td>\n",
       "      <td>0.121869</td>\n",
       "      <td>0.992546</td>\n",
       "      <td>E</td>\n",
       "      <td>NaN</td>\n",
       "      <td>0.195334</td>\n",
       "      <td>-0.004752</td>\n",
       "    </tr>\n",
       "    <tr>\n",
       "      <th>5</th>\n",
       "      <td>2019-02-17 00:00:00</td>\n",
       "      <td>36.013158</td>\n",
       "      <td>-5.598892</td>\n",
       "      <td>13.46</td>\n",
       "      <td>11.32</td>\n",
       "      <td>1022.517</td>\n",
       "      <td>87.100</td>\n",
       "      <td>NaN</td>\n",
       "      <td>14.936467</td>\n",
       "      <td>85.708</td>\n",
       "      <td>NaN</td>\n",
       "      <td>NaN</td>\n",
       "      <td>0.074839</td>\n",
       "      <td>0.997196</td>\n",
       "      <td>E</td>\n",
       "      <td>NaN</td>\n",
       "      <td>NaN</td>\n",
       "      <td>86.0</td>\n",
       "      <td>0.069756</td>\n",
       "      <td>0.997564</td>\n",
       "      <td>E</td>\n",
       "      <td>NaN</td>\n",
       "      <td>-0.005083</td>\n",
       "      <td>0.000368</td>\n",
       "    </tr>\n",
       "    <tr>\n",
       "      <th>6</th>\n",
       "      <td>2019-02-17 03:00:00</td>\n",
       "      <td>36.013158</td>\n",
       "      <td>-5.598892</td>\n",
       "      <td>13.29</td>\n",
       "      <td>11.27</td>\n",
       "      <td>1022.013</td>\n",
       "      <td>87.910</td>\n",
       "      <td>30.0</td>\n",
       "      <td>13.045110</td>\n",
       "      <td>86.737</td>\n",
       "      <td>0.000</td>\n",
       "      <td>0.062</td>\n",
       "      <td>0.056919</td>\n",
       "      <td>0.998379</td>\n",
       "      <td>E</td>\n",
       "      <td>NaN</td>\n",
       "      <td>NaN</td>\n",
       "      <td>85.0</td>\n",
       "      <td>0.087156</td>\n",
       "      <td>0.996195</td>\n",
       "      <td>E</td>\n",
       "      <td>NaN</td>\n",
       "      <td>0.030236</td>\n",
       "      <td>-0.002184</td>\n",
       "    </tr>\n",
       "    <tr>\n",
       "      <th>7</th>\n",
       "      <td>2019-02-17 06:00:00</td>\n",
       "      <td>36.013158</td>\n",
       "      <td>-5.598892</td>\n",
       "      <td>13.06</td>\n",
       "      <td>11.45</td>\n",
       "      <td>1022.144</td>\n",
       "      <td>89.724</td>\n",
       "      <td>30.0</td>\n",
       "      <td>12.724377</td>\n",
       "      <td>82.540</td>\n",
       "      <td>0.000</td>\n",
       "      <td>0.062</td>\n",
       "      <td>0.129834</td>\n",
       "      <td>0.991536</td>\n",
       "      <td>E</td>\n",
       "      <td>NaN</td>\n",
       "      <td>NaN</td>\n",
       "      <td>82.0</td>\n",
       "      <td>0.139173</td>\n",
       "      <td>0.990268</td>\n",
       "      <td>E</td>\n",
       "      <td>NaN</td>\n",
       "      <td>0.009339</td>\n",
       "      <td>-0.001268</td>\n",
       "    </tr>\n",
       "    <tr>\n",
       "      <th>8</th>\n",
       "      <td>2019-02-17 09:00:00</td>\n",
       "      <td>36.013158</td>\n",
       "      <td>-5.598892</td>\n",
       "      <td>13.35</td>\n",
       "      <td>11.10</td>\n",
       "      <td>1022.389</td>\n",
       "      <td>86.763</td>\n",
       "      <td>26.0</td>\n",
       "      <td>13.155909</td>\n",
       "      <td>82.648</td>\n",
       "      <td>0.000</td>\n",
       "      <td>0.000</td>\n",
       "      <td>0.127965</td>\n",
       "      <td>0.991779</td>\n",
       "      <td>E</td>\n",
       "      <td>NaN</td>\n",
       "      <td>NaN</td>\n",
       "      <td>27.0</td>\n",
       "      <td>0.891007</td>\n",
       "      <td>0.453990</td>\n",
       "      <td>NNE</td>\n",
       "      <td>NaN</td>\n",
       "      <td>0.763042</td>\n",
       "      <td>-0.537788</td>\n",
       "    </tr>\n",
       "    <tr>\n",
       "      <th>9</th>\n",
       "      <td>2019-02-17 12:00:00</td>\n",
       "      <td>36.013158</td>\n",
       "      <td>-5.598892</td>\n",
       "      <td>13.84</td>\n",
       "      <td>11.07</td>\n",
       "      <td>1022.302</td>\n",
       "      <td>83.282</td>\n",
       "      <td>18.0</td>\n",
       "      <td>12.549431</td>\n",
       "      <td>92.281</td>\n",
       "      <td>0.000</td>\n",
       "      <td>0.000</td>\n",
       "      <td>-0.039800</td>\n",
       "      <td>0.999208</td>\n",
       "      <td>E</td>\n",
       "      <td>NaN</td>\n",
       "      <td>NaN</td>\n",
       "      <td>284.0</td>\n",
       "      <td>0.241922</td>\n",
       "      <td>-0.970296</td>\n",
       "      <td>WNW</td>\n",
       "      <td>NaN</td>\n",
       "      <td>0.281722</td>\n",
       "      <td>-1.969503</td>\n",
       "    </tr>\n",
       "    <tr>\n",
       "      <th>10</th>\n",
       "      <td>2019-02-17 15:00:00</td>\n",
       "      <td>36.013158</td>\n",
       "      <td>-5.598892</td>\n",
       "      <td>13.75</td>\n",
       "      <td>11.09</td>\n",
       "      <td>1020.335</td>\n",
       "      <td>83.905</td>\n",
       "      <td>8.0</td>\n",
       "      <td>12.438632</td>\n",
       "      <td>93.216</td>\n",
       "      <td>0.000</td>\n",
       "      <td>0.000</td>\n",
       "      <td>-0.056100</td>\n",
       "      <td>0.998425</td>\n",
       "      <td>E</td>\n",
       "      <td>NaN</td>\n",
       "      <td>NaN</td>\n",
       "      <td>NaN</td>\n",
       "      <td>NaN</td>\n",
       "      <td>NaN</td>\n",
       "      <td>0</td>\n",
       "      <td>NaN</td>\n",
       "      <td>NaN</td>\n",
       "      <td>NaN</td>\n",
       "    </tr>\n",
       "    <tr>\n",
       "      <th>11</th>\n",
       "      <td>2019-02-17 18:00:00</td>\n",
       "      <td>36.013158</td>\n",
       "      <td>-5.598892</td>\n",
       "      <td>13.14</td>\n",
       "      <td>11.11</td>\n",
       "      <td>1019.699</td>\n",
       "      <td>87.748</td>\n",
       "      <td>6.0</td>\n",
       "      <td>9.532591</td>\n",
       "      <td>90.280</td>\n",
       "      <td>0.000</td>\n",
       "      <td>0.000</td>\n",
       "      <td>-0.004887</td>\n",
       "      <td>0.999988</td>\n",
       "      <td>E</td>\n",
       "      <td>NaN</td>\n",
       "      <td>NaN</td>\n",
       "      <td>NaN</td>\n",
       "      <td>NaN</td>\n",
       "      <td>NaN</td>\n",
       "      <td>0</td>\n",
       "      <td>NaN</td>\n",
       "      <td>NaN</td>\n",
       "      <td>NaN</td>\n",
       "    </tr>\n",
       "    <tr>\n",
       "      <th>12</th>\n",
       "      <td>2019-02-17 21:00:00</td>\n",
       "      <td>36.013158</td>\n",
       "      <td>-5.598892</td>\n",
       "      <td>12.66</td>\n",
       "      <td>11.04</td>\n",
       "      <td>1020.505</td>\n",
       "      <td>89.440</td>\n",
       "      <td>32.0</td>\n",
       "      <td>8.665639</td>\n",
       "      <td>89.807</td>\n",
       "      <td>0.000</td>\n",
       "      <td>0.000</td>\n",
       "      <td>0.003368</td>\n",
       "      <td>0.999994</td>\n",
       "      <td>E</td>\n",
       "      <td>NaN</td>\n",
       "      <td>NaN</td>\n",
       "      <td>NaN</td>\n",
       "      <td>NaN</td>\n",
       "      <td>NaN</td>\n",
       "      <td>0</td>\n",
       "      <td>NaN</td>\n",
       "      <td>NaN</td>\n",
       "      <td>NaN</td>\n",
       "    </tr>\n",
       "    <tr>\n",
       "      <th>13</th>\n",
       "      <td>2019-02-18 00:00:00</td>\n",
       "      <td>36.013158</td>\n",
       "      <td>-5.598892</td>\n",
       "      <td>12.56</td>\n",
       "      <td>11.19</td>\n",
       "      <td>1019.809</td>\n",
       "      <td>91.379</td>\n",
       "      <td>NaN</td>\n",
       "      <td>12.275350</td>\n",
       "      <td>79.388</td>\n",
       "      <td>NaN</td>\n",
       "      <td>NaN</td>\n",
       "      <td>0.184157</td>\n",
       "      <td>0.982897</td>\n",
       "      <td>E</td>\n",
       "      <td>NaN</td>\n",
       "      <td>NaN</td>\n",
       "      <td>NaN</td>\n",
       "      <td>NaN</td>\n",
       "      <td>NaN</td>\n",
       "      <td>0</td>\n",
       "      <td>NaN</td>\n",
       "      <td>NaN</td>\n",
       "      <td>NaN</td>\n",
       "    </tr>\n",
       "    <tr>\n",
       "      <th>14</th>\n",
       "      <td>2019-02-18 03:00:00</td>\n",
       "      <td>36.013158</td>\n",
       "      <td>-5.598892</td>\n",
       "      <td>12.57</td>\n",
       "      <td>10.86</td>\n",
       "      <td>1018.514</td>\n",
       "      <td>89.420</td>\n",
       "      <td>99.0</td>\n",
       "      <td>10.263475</td>\n",
       "      <td>78.562</td>\n",
       "      <td>0.000</td>\n",
       "      <td>0.000</td>\n",
       "      <td>0.198307</td>\n",
       "      <td>0.980140</td>\n",
       "      <td>NEE</td>\n",
       "      <td>NaN</td>\n",
       "      <td>NaN</td>\n",
       "      <td>NaN</td>\n",
       "      <td>NaN</td>\n",
       "      <td>NaN</td>\n",
       "      <td>0</td>\n",
       "      <td>NaN</td>\n",
       "      <td>NaN</td>\n",
       "      <td>NaN</td>\n",
       "    </tr>\n",
       "    <tr>\n",
       "      <th>15</th>\n",
       "      <td>2019-02-18 06:00:00</td>\n",
       "      <td>36.013158</td>\n",
       "      <td>-5.598892</td>\n",
       "      <td>12.54</td>\n",
       "      <td>10.61</td>\n",
       "      <td>1017.426</td>\n",
       "      <td>88.300</td>\n",
       "      <td>100.0</td>\n",
       "      <td>9.853325</td>\n",
       "      <td>79.555</td>\n",
       "      <td>0.000</td>\n",
       "      <td>0.000</td>\n",
       "      <td>0.181292</td>\n",
       "      <td>0.983429</td>\n",
       "      <td>E</td>\n",
       "      <td>NaN</td>\n",
       "      <td>NaN</td>\n",
       "      <td>NaN</td>\n",
       "      <td>NaN</td>\n",
       "      <td>NaN</td>\n",
       "      <td>0</td>\n",
       "      <td>NaN</td>\n",
       "      <td>NaN</td>\n",
       "      <td>NaN</td>\n",
       "    </tr>\n",
       "    <tr>\n",
       "      <th>16</th>\n",
       "      <td>2019-02-18 09:00:00</td>\n",
       "      <td>36.013158</td>\n",
       "      <td>-5.598892</td>\n",
       "      <td>12.90</td>\n",
       "      <td>10.63</td>\n",
       "      <td>1016.936</td>\n",
       "      <td>85.879</td>\n",
       "      <td>100.0</td>\n",
       "      <td>10.457859</td>\n",
       "      <td>82.105</td>\n",
       "      <td>0.000</td>\n",
       "      <td>0.000</td>\n",
       "      <td>0.137358</td>\n",
       "      <td>0.990521</td>\n",
       "      <td>E</td>\n",
       "      <td>24.103616</td>\n",
       "      <td>10.010776</td>\n",
       "      <td>88.0</td>\n",
       "      <td>0.034899</td>\n",
       "      <td>0.999391</td>\n",
       "      <td>E</td>\n",
       "      <td>-0.447083</td>\n",
       "      <td>-0.102459</td>\n",
       "      <td>0.008869</td>\n",
       "    </tr>\n",
       "    <tr>\n",
       "      <th>17</th>\n",
       "      <td>2019-02-18 12:00:00</td>\n",
       "      <td>36.013158</td>\n",
       "      <td>-5.598892</td>\n",
       "      <td>13.43</td>\n",
       "      <td>10.87</td>\n",
       "      <td>1016.667</td>\n",
       "      <td>84.500</td>\n",
       "      <td>100.0</td>\n",
       "      <td>12.149000</td>\n",
       "      <td>86.423</td>\n",
       "      <td>0.000</td>\n",
       "      <td>0.000</td>\n",
       "      <td>0.062390</td>\n",
       "      <td>0.998052</td>\n",
       "      <td>E</td>\n",
       "      <td>NaN</td>\n",
       "      <td>NaN</td>\n",
       "      <td>56.0</td>\n",
       "      <td>0.559193</td>\n",
       "      <td>0.829038</td>\n",
       "      <td>NE</td>\n",
       "      <td>NaN</td>\n",
       "      <td>0.496803</td>\n",
       "      <td>-0.169014</td>\n",
       "    </tr>\n",
       "    <tr>\n",
       "      <th>18</th>\n",
       "      <td>2019-02-18 15:00:00</td>\n",
       "      <td>36.013158</td>\n",
       "      <td>-5.598892</td>\n",
       "      <td>13.33</td>\n",
       "      <td>10.93</td>\n",
       "      <td>1015.496</td>\n",
       "      <td>85.300</td>\n",
       "      <td>100.0</td>\n",
       "      <td>8.725898</td>\n",
       "      <td>83.065</td>\n",
       "      <td>1.125</td>\n",
       "      <td>0.500</td>\n",
       "      <td>0.120743</td>\n",
       "      <td>0.992684</td>\n",
       "      <td>E</td>\n",
       "      <td>NaN</td>\n",
       "      <td>NaN</td>\n",
       "      <td>70.0</td>\n",
       "      <td>0.342020</td>\n",
       "      <td>0.939693</td>\n",
       "      <td>NEE</td>\n",
       "      <td>NaN</td>\n",
       "      <td>0.221277</td>\n",
       "      <td>-0.052991</td>\n",
       "    </tr>\n",
       "  </tbody>\n",
       "</table>\n",
       "</div>"
      ],
      "text/plain": [
       "          slice dt iso        lat       lon  temperature  dew_point  pressure  \\\n",
       "0  2019-02-16 09:00:00  36.013158 -5.598892        13.79      11.13  1021.601   \n",
       "1  2019-02-16 12:00:00  36.013158 -5.598892        13.81      11.16  1022.066   \n",
       "2  2019-02-16 15:00:00  36.013158 -5.598892        13.82      11.15  1020.887   \n",
       "3  2019-02-16 18:00:00  36.013158 -5.598892        13.77      11.27  1020.964   \n",
       "4  2019-02-16 21:00:00  36.013158 -5.598892        13.74      11.24  1022.636   \n",
       "5  2019-02-17 00:00:00  36.013158 -5.598892        13.46      11.32  1022.517   \n",
       "6  2019-02-17 03:00:00  36.013158 -5.598892        13.29      11.27  1022.013   \n",
       "7  2019-02-17 06:00:00  36.013158 -5.598892        13.06      11.45  1022.144   \n",
       "8  2019-02-17 09:00:00  36.013158 -5.598892        13.35      11.10  1022.389   \n",
       "9  2019-02-17 12:00:00  36.013158 -5.598892        13.84      11.07  1022.302   \n",
       "10 2019-02-17 15:00:00  36.013158 -5.598892        13.75      11.09  1020.335   \n",
       "11 2019-02-17 18:00:00  36.013158 -5.598892        13.14      11.11  1019.699   \n",
       "12 2019-02-17 21:00:00  36.013158 -5.598892        12.66      11.04  1020.505   \n",
       "13 2019-02-18 00:00:00  36.013158 -5.598892        12.56      11.19  1019.809   \n",
       "14 2019-02-18 03:00:00  36.013158 -5.598892        12.57      10.86  1018.514   \n",
       "15 2019-02-18 06:00:00  36.013158 -5.598892        12.54      10.61  1017.426   \n",
       "16 2019-02-18 09:00:00  36.013158 -5.598892        12.90      10.63  1016.936   \n",
       "17 2019-02-18 12:00:00  36.013158 -5.598892        13.43      10.87  1016.667   \n",
       "18 2019-02-18 15:00:00  36.013158 -5.598892        13.33      10.93  1015.496   \n",
       "\n",
       "    humidity  clouds  wind_speed  wind_deg   rain  convective  Direction N-S  \\\n",
       "0     83.994   100.0   25.963871    95.202  0.125       0.125      -0.090667   \n",
       "1     84.064    96.0   25.437090    93.856  0.375       0.375      -0.067249   \n",
       "2     83.926    92.0   23.938390    93.883  0.188       0.188      -0.067719   \n",
       "3     84.583    94.0   19.924360    95.812  0.312       0.312      -0.101265   \n",
       "4     84.845    88.0   16.271885    94.213  0.000       0.000      -0.073464   \n",
       "5     87.100     NaN   14.936467    85.708    NaN         NaN       0.074839   \n",
       "6     87.910    30.0   13.045110    86.737  0.000       0.062       0.056919   \n",
       "7     89.724    30.0   12.724377    82.540  0.000       0.062       0.129834   \n",
       "8     86.763    26.0   13.155909    82.648  0.000       0.000       0.127965   \n",
       "9     83.282    18.0   12.549431    92.281  0.000       0.000      -0.039800   \n",
       "10    83.905     8.0   12.438632    93.216  0.000       0.000      -0.056100   \n",
       "11    87.748     6.0    9.532591    90.280  0.000       0.000      -0.004887   \n",
       "12    89.440    32.0    8.665639    89.807  0.000       0.000       0.003368   \n",
       "13    91.379     NaN   12.275350    79.388    NaN         NaN       0.184157   \n",
       "14    89.420    99.0   10.263475    78.562  0.000       0.000       0.198307   \n",
       "15    88.300   100.0    9.853325    79.555  0.000       0.000       0.181292   \n",
       "16    85.879   100.0   10.457859    82.105  0.000       0.000       0.137358   \n",
       "17    84.500   100.0   12.149000    86.423  0.000       0.000       0.062390   \n",
       "18    85.300   100.0    8.725898    83.065  1.125       0.500       0.120743   \n",
       "\n",
       "    Direction E-W Compass  Tarifa_WindGust  Tarifa_Wind  Tarifa_WindDirection  \\\n",
       "0        0.995881       E        35.118709    17.624149                  72.0   \n",
       "1        0.997736       E        35.053915    21.835803                  86.0   \n",
       "2        0.997704       E        34.859531    20.539909                  82.0   \n",
       "3        0.994860       E        35.766656    23.326080                  87.0   \n",
       "4        0.997298       E              NaN          NaN                  83.0   \n",
       "5        0.997196       E              NaN          NaN                  86.0   \n",
       "6        0.998379       E              NaN          NaN                  85.0   \n",
       "7        0.991536       E              NaN          NaN                  82.0   \n",
       "8        0.991779       E              NaN          NaN                  27.0   \n",
       "9        0.999208       E              NaN          NaN                 284.0   \n",
       "10       0.998425       E              NaN          NaN                   NaN   \n",
       "11       0.999988       E              NaN          NaN                   NaN   \n",
       "12       0.999994       E              NaN          NaN                   NaN   \n",
       "13       0.982897       E              NaN          NaN                   NaN   \n",
       "14       0.980140     NEE              NaN          NaN                   NaN   \n",
       "15       0.983429       E              NaN          NaN                   NaN   \n",
       "16       0.990521       E        24.103616    10.010776                  88.0   \n",
       "17       0.998052       E              NaN          NaN                  56.0   \n",
       "18       0.992684       E              NaN          NaN                  70.0   \n",
       "\n",
       "    Tarifa_Direction N-S  Tarifa_Direction E-W Tarifa Compass  delta_Wind  \\\n",
       "0               0.309017              0.951057            NEE   -8.339722   \n",
       "1               0.069756              0.997564              E   -3.601288   \n",
       "2               0.139173              0.990268              E   -3.398480   \n",
       "3               0.052336              0.998630              E    3.401720   \n",
       "4               0.121869              0.992546              E         NaN   \n",
       "5               0.069756              0.997564              E         NaN   \n",
       "6               0.087156              0.996195              E         NaN   \n",
       "7               0.139173              0.990268              E         NaN   \n",
       "8               0.891007              0.453990            NNE         NaN   \n",
       "9               0.241922             -0.970296            WNW         NaN   \n",
       "10                   NaN                   NaN              0         NaN   \n",
       "11                   NaN                   NaN              0         NaN   \n",
       "12                   NaN                   NaN              0         NaN   \n",
       "13                   NaN                   NaN              0         NaN   \n",
       "14                   NaN                   NaN              0         NaN   \n",
       "15                   NaN                   NaN              0         NaN   \n",
       "16              0.034899              0.999391              E   -0.447083   \n",
       "17              0.559193              0.829038             NE         NaN   \n",
       "18              0.342020              0.939693            NEE         NaN   \n",
       "\n",
       "    delta_N-S  delta_E-W  \n",
       "0    0.399684  -0.044825  \n",
       "1    0.137006  -0.000172  \n",
       "2    0.206892  -0.007436  \n",
       "3    0.153601   0.003770  \n",
       "4    0.195334  -0.004752  \n",
       "5   -0.005083   0.000368  \n",
       "6    0.030236  -0.002184  \n",
       "7    0.009339  -0.001268  \n",
       "8    0.763042  -0.537788  \n",
       "9    0.281722  -1.969503  \n",
       "10        NaN        NaN  \n",
       "11        NaN        NaN  \n",
       "12        NaN        NaN  \n",
       "13        NaN        NaN  \n",
       "14        NaN        NaN  \n",
       "15        NaN        NaN  \n",
       "16  -0.102459   0.008869  \n",
       "17   0.496803  -0.169014  \n",
       "18   0.221277  -0.052991  "
      ]
     },
     "execution_count": 2,
     "metadata": {},
     "output_type": "execute_result"
    }
   ],
   "source": [
    "pd.set_option('display.max_columns', 30, 'display.max_rows',30)\n",
    "df = pd.read_csv('Data/windProject_4ML.csv')\n",
    "df['slice dt iso'] = pd.to_datetime(df['slice dt iso'])\n",
    "df.reset_index(drop=True, inplace=True)\n",
    "df.head(19)"
   ]
  },
  {
   "cell_type": "markdown",
   "metadata": {},
   "source": [
    "## 1 NaN/Nulls Values Treatment\n",
    "\n",
    "Just one last step now that we have dropped few columns that are not interesed or can prvoce noise in our project,we can do a small paragraph and handle NaN / Null values before starting with machine learning "
   ]
  },
  {
   "cell_type": "code",
   "execution_count": 3,
   "metadata": {},
   "outputs": [
    {
     "data": {
      "text/plain": [
       "slice dt iso              0\n",
       "lat                       0\n",
       "lon                       0\n",
       "temperature               0\n",
       "dew_point                 0\n",
       "pressure                  0\n",
       "humidity                  0\n",
       "clouds                  793\n",
       "wind_speed                0\n",
       "wind_deg                  0\n",
       "rain                    120\n",
       "convective              793\n",
       "Direction N-S             0\n",
       "Direction E-W             0\n",
       "Compass                   0\n",
       "Tarifa_WindGust          29\n",
       "Tarifa_Wind              19\n",
       "Tarifa_WindDirection     17\n",
       "Tarifa_Direction N-S     17\n",
       "Tarifa_Direction E-W     17\n",
       "Tarifa Compass            0\n",
       "delta_Wind               19\n",
       "delta_N-S                17\n",
       "delta_E-W                17\n",
       "dtype: int64"
      ]
     },
     "execution_count": 3,
     "metadata": {},
     "output_type": "execute_result"
    }
   ],
   "source": [
    "df.isna().sum()"
   ]
  },
  {
   "cell_type": "markdown",
   "metadata": {},
   "source": [
    "- **Tarifa Wind**"
   ]
  },
  {
   "cell_type": "code",
   "execution_count": 4,
   "metadata": {
    "scrolled": true
   },
   "outputs": [
    {
     "data": {
      "text/plain": [
       "Int64Index([4, 5, 6, 7, 8, 9, 10, 11, 12, 13, 14, 15, 17, 18, 19, 20, 21, 22,\n",
       "            23],\n",
       "           dtype='int64')"
      ]
     },
     "execution_count": 4,
     "metadata": {},
     "output_type": "execute_result"
    }
   ],
   "source": [
    "df[df['Tarifa_Wind'].isna()==True].index"
   ]
  },
  {
   "cell_type": "markdown",
   "metadata": {},
   "source": [
    "**Strategy:**\n",
    "\n",
    "- Tarifa Wind NaN - This is the meassurement for the weather station, they are consecutive registers, probably due to a problem in the station. If they were distributed we couuld filled them with the forecast wind, but cause they are all consecutive and in a two days period, giving them an aritifical value just give us more artificial accuracy in the artificial model. Also they are 19 cases out of 6346 (0.2%) so we opt for delleting all the registers for that two days. "
   ]
  },
  {
   "cell_type": "code",
   "execution_count": 5,
   "metadata": {},
   "outputs": [],
   "source": [
    "df.dropna(subset=['Tarifa_Wind'], inplace=True)\n",
    "df.reset_index(drop=True, inplace=True)"
   ]
  },
  {
   "cell_type": "markdown",
   "metadata": {},
   "source": [
    "* **Wind direction**"
   ]
  },
  {
   "cell_type": "code",
   "execution_count": 6,
   "metadata": {},
   "outputs": [
    {
     "data": {
      "text/plain": [
       "slice dt iso              0\n",
       "lat                       0\n",
       "lon                       0\n",
       "temperature               0\n",
       "dew_point                 0\n",
       "pressure                  0\n",
       "humidity                  0\n",
       "clouds                  790\n",
       "wind_speed                0\n",
       "wind_deg                  0\n",
       "rain                    117\n",
       "convective              790\n",
       "Direction N-S             0\n",
       "Direction E-W             0\n",
       "Compass                   0\n",
       "Tarifa_WindGust          10\n",
       "Tarifa_Wind               0\n",
       "Tarifa_WindDirection     11\n",
       "Tarifa_Direction N-S     11\n",
       "Tarifa_Direction E-W     11\n",
       "Tarifa Compass            0\n",
       "delta_Wind                0\n",
       "delta_N-S                11\n",
       "delta_E-W                11\n",
       "dtype: int64"
      ]
     },
     "execution_count": 6,
     "metadata": {},
     "output_type": "execute_result"
    }
   ],
   "source": [
    "df.isna().sum()"
   ]
  },
  {
   "cell_type": "code",
   "execution_count": 7,
   "metadata": {},
   "outputs": [
    {
     "data": {
      "text/plain": [
       "Int64Index([6, 3262, 3263, 3264, 3265, 3266, 3267, 3268, 3269, 3270, 3271], dtype='int64')"
      ]
     },
     "execution_count": 7,
     "metadata": {},
     "output_type": "execute_result"
    }
   ],
   "source": [
    "df[df['Tarifa_WindDirection'].isna()==True].index"
   ]
  },
  {
   "cell_type": "code",
   "execution_count": 8,
   "metadata": {},
   "outputs": [
    {
     "data": {
      "text/plain": [
       "Int64Index([3262, 3263, 3264, 3265, 3266, 3267, 3268, 3269, 3270, 3271], dtype='int64')"
      ]
     },
     "execution_count": 8,
     "metadata": {},
     "output_type": "execute_result"
    }
   ],
   "source": [
    "df[df['Tarifa_WindGust'].isna()==True].index"
   ]
  },
  {
   "cell_type": "code",
   "execution_count": 9,
   "metadata": {
    "scrolled": true
   },
   "outputs": [
    {
     "data": {
      "text/html": [
       "<div>\n",
       "<style scoped>\n",
       "    .dataframe tbody tr th:only-of-type {\n",
       "        vertical-align: middle;\n",
       "    }\n",
       "\n",
       "    .dataframe tbody tr th {\n",
       "        vertical-align: top;\n",
       "    }\n",
       "\n",
       "    .dataframe thead th {\n",
       "        text-align: right;\n",
       "    }\n",
       "</style>\n",
       "<table border=\"1\" class=\"dataframe\">\n",
       "  <thead>\n",
       "    <tr style=\"text-align: right;\">\n",
       "      <th></th>\n",
       "      <th>slice dt iso</th>\n",
       "      <th>lat</th>\n",
       "      <th>lon</th>\n",
       "      <th>temperature</th>\n",
       "      <th>dew_point</th>\n",
       "      <th>pressure</th>\n",
       "      <th>humidity</th>\n",
       "      <th>clouds</th>\n",
       "      <th>wind_speed</th>\n",
       "      <th>wind_deg</th>\n",
       "      <th>rain</th>\n",
       "      <th>convective</th>\n",
       "      <th>Direction N-S</th>\n",
       "      <th>Direction E-W</th>\n",
       "      <th>Compass</th>\n",
       "      <th>Tarifa_WindGust</th>\n",
       "      <th>Tarifa_Wind</th>\n",
       "      <th>Tarifa_WindDirection</th>\n",
       "      <th>Tarifa_Direction N-S</th>\n",
       "      <th>Tarifa_Direction E-W</th>\n",
       "      <th>Tarifa Compass</th>\n",
       "      <th>delta_Wind</th>\n",
       "      <th>delta_N-S</th>\n",
       "      <th>delta_E-W</th>\n",
       "    </tr>\n",
       "  </thead>\n",
       "  <tbody>\n",
       "    <tr>\n",
       "      <th>6</th>\n",
       "      <td>2019-02-19 12:00:00</td>\n",
       "      <td>36.013158</td>\n",
       "      <td>-5.598892</td>\n",
       "      <td>14.08</td>\n",
       "      <td>9.95</td>\n",
       "      <td>1019.695</td>\n",
       "      <td>75.97</td>\n",
       "      <td>1.0</td>\n",
       "      <td>9.672548</td>\n",
       "      <td>97.588</td>\n",
       "      <td>0.000</td>\n",
       "      <td>0.000</td>\n",
       "      <td>-0.132049</td>\n",
       "      <td>0.991243</td>\n",
       "      <td>E</td>\n",
       "      <td>17.300176</td>\n",
       "      <td>12.051808</td>\n",
       "      <td>NaN</td>\n",
       "      <td>NaN</td>\n",
       "      <td>NaN</td>\n",
       "      <td>0</td>\n",
       "      <td>2.379260</td>\n",
       "      <td>NaN</td>\n",
       "      <td>NaN</td>\n",
       "    </tr>\n",
       "    <tr>\n",
       "      <th>3262</th>\n",
       "      <td>2020-04-23 15:00:00</td>\n",
       "      <td>36.013158</td>\n",
       "      <td>-5.598892</td>\n",
       "      <td>16.95</td>\n",
       "      <td>13.65</td>\n",
       "      <td>1012.612</td>\n",
       "      <td>80.90</td>\n",
       "      <td>100.0</td>\n",
       "      <td>20.602760</td>\n",
       "      <td>89.622</td>\n",
       "      <td>0.000</td>\n",
       "      <td>0.000</td>\n",
       "      <td>0.006597</td>\n",
       "      <td>0.999978</td>\n",
       "      <td>E</td>\n",
       "      <td>NaN</td>\n",
       "      <td>24.168411</td>\n",
       "      <td>NaN</td>\n",
       "      <td>NaN</td>\n",
       "      <td>NaN</td>\n",
       "      <td>0</td>\n",
       "      <td>3.565651</td>\n",
       "      <td>NaN</td>\n",
       "      <td>NaN</td>\n",
       "    </tr>\n",
       "    <tr>\n",
       "      <th>3263</th>\n",
       "      <td>2020-04-23 18:00:00</td>\n",
       "      <td>36.013158</td>\n",
       "      <td>-5.598892</td>\n",
       "      <td>16.16</td>\n",
       "      <td>13.67</td>\n",
       "      <td>1012.835</td>\n",
       "      <td>85.20</td>\n",
       "      <td>100.0</td>\n",
       "      <td>17.797799</td>\n",
       "      <td>85.383</td>\n",
       "      <td>0.000</td>\n",
       "      <td>0.000</td>\n",
       "      <td>0.080495</td>\n",
       "      <td>0.996755</td>\n",
       "      <td>E</td>\n",
       "      <td>NaN</td>\n",
       "      <td>22.094981</td>\n",
       "      <td>NaN</td>\n",
       "      <td>NaN</td>\n",
       "      <td>NaN</td>\n",
       "      <td>0</td>\n",
       "      <td>4.297182</td>\n",
       "      <td>NaN</td>\n",
       "      <td>NaN</td>\n",
       "    </tr>\n",
       "    <tr>\n",
       "      <th>3264</th>\n",
       "      <td>2020-04-23 21:00:00</td>\n",
       "      <td>36.013158</td>\n",
       "      <td>-5.598892</td>\n",
       "      <td>15.94</td>\n",
       "      <td>13.93</td>\n",
       "      <td>1014.030</td>\n",
       "      <td>88.00</td>\n",
       "      <td>100.0</td>\n",
       "      <td>18.371232</td>\n",
       "      <td>86.372</td>\n",
       "      <td>0.000</td>\n",
       "      <td>0.000</td>\n",
       "      <td>0.063278</td>\n",
       "      <td>0.997996</td>\n",
       "      <td>E</td>\n",
       "      <td>NaN</td>\n",
       "      <td>21.771008</td>\n",
       "      <td>NaN</td>\n",
       "      <td>NaN</td>\n",
       "      <td>NaN</td>\n",
       "      <td>0</td>\n",
       "      <td>3.399776</td>\n",
       "      <td>NaN</td>\n",
       "      <td>NaN</td>\n",
       "    </tr>\n",
       "    <tr>\n",
       "      <th>3265</th>\n",
       "      <td>2020-04-24 00:00:00</td>\n",
       "      <td>36.013158</td>\n",
       "      <td>-5.598892</td>\n",
       "      <td>15.74</td>\n",
       "      <td>14.06</td>\n",
       "      <td>1013.957</td>\n",
       "      <td>89.60</td>\n",
       "      <td>NaN</td>\n",
       "      <td>17.842507</td>\n",
       "      <td>87.502</td>\n",
       "      <td>1.000</td>\n",
       "      <td>NaN</td>\n",
       "      <td>0.043585</td>\n",
       "      <td>0.999050</td>\n",
       "      <td>E</td>\n",
       "      <td>NaN</td>\n",
       "      <td>20.345525</td>\n",
       "      <td>NaN</td>\n",
       "      <td>NaN</td>\n",
       "      <td>NaN</td>\n",
       "      <td>0</td>\n",
       "      <td>2.503018</td>\n",
       "      <td>NaN</td>\n",
       "      <td>NaN</td>\n",
       "    </tr>\n",
       "    <tr>\n",
       "      <th>3266</th>\n",
       "      <td>2020-04-24 03:00:00</td>\n",
       "      <td>36.013158</td>\n",
       "      <td>-5.598892</td>\n",
       "      <td>15.53</td>\n",
       "      <td>13.65</td>\n",
       "      <td>1011.309</td>\n",
       "      <td>89.00</td>\n",
       "      <td>92.0</td>\n",
       "      <td>18.655032</td>\n",
       "      <td>83.419</td>\n",
       "      <td>0.062</td>\n",
       "      <td>0.062</td>\n",
       "      <td>0.114608</td>\n",
       "      <td>0.993411</td>\n",
       "      <td>E</td>\n",
       "      <td>NaN</td>\n",
       "      <td>21.123061</td>\n",
       "      <td>NaN</td>\n",
       "      <td>NaN</td>\n",
       "      <td>NaN</td>\n",
       "      <td>0</td>\n",
       "      <td>2.468029</td>\n",
       "      <td>NaN</td>\n",
       "      <td>NaN</td>\n",
       "    </tr>\n",
       "    <tr>\n",
       "      <th>3267</th>\n",
       "      <td>2020-04-24 06:00:00</td>\n",
       "      <td>36.013158</td>\n",
       "      <td>-5.598892</td>\n",
       "      <td>15.55</td>\n",
       "      <td>13.09</td>\n",
       "      <td>1011.161</td>\n",
       "      <td>85.80</td>\n",
       "      <td>94.0</td>\n",
       "      <td>19.360646</td>\n",
       "      <td>88.095</td>\n",
       "      <td>0.062</td>\n",
       "      <td>0.062</td>\n",
       "      <td>0.033242</td>\n",
       "      <td>0.999447</td>\n",
       "      <td>E</td>\n",
       "      <td>NaN</td>\n",
       "      <td>21.965392</td>\n",
       "      <td>NaN</td>\n",
       "      <td>NaN</td>\n",
       "      <td>NaN</td>\n",
       "      <td>0</td>\n",
       "      <td>2.604746</td>\n",
       "      <td>NaN</td>\n",
       "      <td>NaN</td>\n",
       "    </tr>\n",
       "    <tr>\n",
       "      <th>3268</th>\n",
       "      <td>2020-04-24 09:00:00</td>\n",
       "      <td>36.013158</td>\n",
       "      <td>-5.598892</td>\n",
       "      <td>15.67</td>\n",
       "      <td>13.52</td>\n",
       "      <td>1010.775</td>\n",
       "      <td>86.70</td>\n",
       "      <td>100.0</td>\n",
       "      <td>20.653300</td>\n",
       "      <td>86.206</td>\n",
       "      <td>0.125</td>\n",
       "      <td>0.188</td>\n",
       "      <td>0.066169</td>\n",
       "      <td>0.997808</td>\n",
       "      <td>E</td>\n",
       "      <td>NaN</td>\n",
       "      <td>25.399509</td>\n",
       "      <td>NaN</td>\n",
       "      <td>NaN</td>\n",
       "      <td>NaN</td>\n",
       "      <td>0</td>\n",
       "      <td>4.746209</td>\n",
       "      <td>NaN</td>\n",
       "      <td>NaN</td>\n",
       "    </tr>\n",
       "    <tr>\n",
       "      <th>3269</th>\n",
       "      <td>2020-04-24 15:00:00</td>\n",
       "      <td>36.013158</td>\n",
       "      <td>-5.598892</td>\n",
       "      <td>16.15</td>\n",
       "      <td>13.95</td>\n",
       "      <td>1007.625</td>\n",
       "      <td>86.60</td>\n",
       "      <td>99.0</td>\n",
       "      <td>19.867989</td>\n",
       "      <td>82.456</td>\n",
       "      <td>0.125</td>\n",
       "      <td>0.500</td>\n",
       "      <td>0.131288</td>\n",
       "      <td>0.991344</td>\n",
       "      <td>E</td>\n",
       "      <td>NaN</td>\n",
       "      <td>21.447035</td>\n",
       "      <td>NaN</td>\n",
       "      <td>NaN</td>\n",
       "      <td>NaN</td>\n",
       "      <td>0</td>\n",
       "      <td>1.579046</td>\n",
       "      <td>NaN</td>\n",
       "      <td>NaN</td>\n",
       "    </tr>\n",
       "    <tr>\n",
       "      <th>3270</th>\n",
       "      <td>2020-04-24 18:00:00</td>\n",
       "      <td>36.013158</td>\n",
       "      <td>-5.598892</td>\n",
       "      <td>15.75</td>\n",
       "      <td>13.93</td>\n",
       "      <td>1008.270</td>\n",
       "      <td>88.70</td>\n",
       "      <td>99.0</td>\n",
       "      <td>18.176848</td>\n",
       "      <td>87.254</td>\n",
       "      <td>0.312</td>\n",
       "      <td>0.688</td>\n",
       "      <td>0.047908</td>\n",
       "      <td>0.998852</td>\n",
       "      <td>E</td>\n",
       "      <td>NaN</td>\n",
       "      <td>19.827168</td>\n",
       "      <td>NaN</td>\n",
       "      <td>NaN</td>\n",
       "      <td>NaN</td>\n",
       "      <td>0</td>\n",
       "      <td>1.650320</td>\n",
       "      <td>NaN</td>\n",
       "      <td>NaN</td>\n",
       "    </tr>\n",
       "    <tr>\n",
       "      <th>3271</th>\n",
       "      <td>2020-04-24 21:00:00</td>\n",
       "      <td>36.013158</td>\n",
       "      <td>-5.598892</td>\n",
       "      <td>15.50</td>\n",
       "      <td>14.30</td>\n",
       "      <td>1010.177</td>\n",
       "      <td>92.40</td>\n",
       "      <td>100.0</td>\n",
       "      <td>12.761310</td>\n",
       "      <td>81.371</td>\n",
       "      <td>0.500</td>\n",
       "      <td>1.188</td>\n",
       "      <td>0.150036</td>\n",
       "      <td>0.988681</td>\n",
       "      <td>E</td>\n",
       "      <td>NaN</td>\n",
       "      <td>13.153317</td>\n",
       "      <td>NaN</td>\n",
       "      <td>NaN</td>\n",
       "      <td>NaN</td>\n",
       "      <td>0</td>\n",
       "      <td>0.392008</td>\n",
       "      <td>NaN</td>\n",
       "      <td>NaN</td>\n",
       "    </tr>\n",
       "  </tbody>\n",
       "</table>\n",
       "</div>"
      ],
      "text/plain": [
       "            slice dt iso        lat       lon  temperature  dew_point  \\\n",
       "6    2019-02-19 12:00:00  36.013158 -5.598892        14.08       9.95   \n",
       "3262 2020-04-23 15:00:00  36.013158 -5.598892        16.95      13.65   \n",
       "3263 2020-04-23 18:00:00  36.013158 -5.598892        16.16      13.67   \n",
       "3264 2020-04-23 21:00:00  36.013158 -5.598892        15.94      13.93   \n",
       "3265 2020-04-24 00:00:00  36.013158 -5.598892        15.74      14.06   \n",
       "3266 2020-04-24 03:00:00  36.013158 -5.598892        15.53      13.65   \n",
       "3267 2020-04-24 06:00:00  36.013158 -5.598892        15.55      13.09   \n",
       "3268 2020-04-24 09:00:00  36.013158 -5.598892        15.67      13.52   \n",
       "3269 2020-04-24 15:00:00  36.013158 -5.598892        16.15      13.95   \n",
       "3270 2020-04-24 18:00:00  36.013158 -5.598892        15.75      13.93   \n",
       "3271 2020-04-24 21:00:00  36.013158 -5.598892        15.50      14.30   \n",
       "\n",
       "      pressure  humidity  clouds  wind_speed  wind_deg   rain  convective  \\\n",
       "6     1019.695     75.97     1.0    9.672548    97.588  0.000       0.000   \n",
       "3262  1012.612     80.90   100.0   20.602760    89.622  0.000       0.000   \n",
       "3263  1012.835     85.20   100.0   17.797799    85.383  0.000       0.000   \n",
       "3264  1014.030     88.00   100.0   18.371232    86.372  0.000       0.000   \n",
       "3265  1013.957     89.60     NaN   17.842507    87.502  1.000         NaN   \n",
       "3266  1011.309     89.00    92.0   18.655032    83.419  0.062       0.062   \n",
       "3267  1011.161     85.80    94.0   19.360646    88.095  0.062       0.062   \n",
       "3268  1010.775     86.70   100.0   20.653300    86.206  0.125       0.188   \n",
       "3269  1007.625     86.60    99.0   19.867989    82.456  0.125       0.500   \n",
       "3270  1008.270     88.70    99.0   18.176848    87.254  0.312       0.688   \n",
       "3271  1010.177     92.40   100.0   12.761310    81.371  0.500       1.188   \n",
       "\n",
       "      Direction N-S  Direction E-W Compass  Tarifa_WindGust  Tarifa_Wind  \\\n",
       "6         -0.132049       0.991243       E        17.300176    12.051808   \n",
       "3262       0.006597       0.999978       E              NaN    24.168411   \n",
       "3263       0.080495       0.996755       E              NaN    22.094981   \n",
       "3264       0.063278       0.997996       E              NaN    21.771008   \n",
       "3265       0.043585       0.999050       E              NaN    20.345525   \n",
       "3266       0.114608       0.993411       E              NaN    21.123061   \n",
       "3267       0.033242       0.999447       E              NaN    21.965392   \n",
       "3268       0.066169       0.997808       E              NaN    25.399509   \n",
       "3269       0.131288       0.991344       E              NaN    21.447035   \n",
       "3270       0.047908       0.998852       E              NaN    19.827168   \n",
       "3271       0.150036       0.988681       E              NaN    13.153317   \n",
       "\n",
       "      Tarifa_WindDirection  Tarifa_Direction N-S  Tarifa_Direction E-W  \\\n",
       "6                      NaN                   NaN                   NaN   \n",
       "3262                   NaN                   NaN                   NaN   \n",
       "3263                   NaN                   NaN                   NaN   \n",
       "3264                   NaN                   NaN                   NaN   \n",
       "3265                   NaN                   NaN                   NaN   \n",
       "3266                   NaN                   NaN                   NaN   \n",
       "3267                   NaN                   NaN                   NaN   \n",
       "3268                   NaN                   NaN                   NaN   \n",
       "3269                   NaN                   NaN                   NaN   \n",
       "3270                   NaN                   NaN                   NaN   \n",
       "3271                   NaN                   NaN                   NaN   \n",
       "\n",
       "     Tarifa Compass  delta_Wind  delta_N-S  delta_E-W  \n",
       "6                 0    2.379260        NaN        NaN  \n",
       "3262              0    3.565651        NaN        NaN  \n",
       "3263              0    4.297182        NaN        NaN  \n",
       "3264              0    3.399776        NaN        NaN  \n",
       "3265              0    2.503018        NaN        NaN  \n",
       "3266              0    2.468029        NaN        NaN  \n",
       "3267              0    2.604746        NaN        NaN  \n",
       "3268              0    4.746209        NaN        NaN  \n",
       "3269              0    1.579046        NaN        NaN  \n",
       "3270              0    1.650320        NaN        NaN  \n",
       "3271              0    0.392008        NaN        NaN  "
      ]
     },
     "execution_count": 9,
     "metadata": {},
     "output_type": "execute_result"
    }
   ],
   "source": [
    "df[df['Tarifa Compass']=='0']"
   ]
  },
  {
   "cell_type": "code",
   "execution_count": 10,
   "metadata": {},
   "outputs": [
    {
     "data": {
      "image/png": "[encoded data removed]",
      "text/plain": [
       "<Figure size 432x288 with 1 Axes>"
      ]
     },
     "metadata": {
      "needs_background": "light"
     },
     "output_type": "display_data"
    }
   ],
   "source": [
    "sns.boxenplot(x=df['delta_Wind']);"
   ]
  },
  {
   "cell_type": "markdown",
   "metadata": {},
   "source": [
    "**Strategy:**\n",
    "\n",
    "- Tarifa Wind direction (and artifical created variables N/S E/O and compass) . We have just 11 missing values. The boxplot above shows that the deviation is generally less than ~10º and it s centered on 0º so we can approximate that registers with the forecast meassure, then we dont loose information and we are not affecting signifcatnly the data. "
   ]
  },
  {
   "cell_type": "code",
   "execution_count": 11,
   "metadata": {},
   "outputs": [],
   "source": [
    "df['Tarifa_WindDirection'].fillna(df['wind_deg'], inplace=True)\n",
    "df['Tarifa_Direction N-S'].fillna(df['Direction N-S'], inplace=True)\n",
    "df['Tarifa_Direction E-W'].fillna(df['Direction E-W'], inplace=True)"
   ]
  },
  {
   "cell_type": "code",
   "execution_count": 12,
   "metadata": {},
   "outputs": [],
   "source": [
    "df['delta_Wind'] = df['Tarifa_Wind']-df['wind_speed']\n",
    "df['delta_N-S'] = df['Tarifa_Direction N-S'] - df['Direction N-S'] \n",
    "df['delta_E-W'] = df['Tarifa_Direction E-W'] - df['Direction E-W']"
   ]
  },
  {
   "cell_type": "code",
   "execution_count": 13,
   "metadata": {},
   "outputs": [
    {
     "data": {
      "text/plain": [
       "slice dt iso              0\n",
       "lat                       0\n",
       "lon                       0\n",
       "temperature               0\n",
       "dew_point                 0\n",
       "pressure                  0\n",
       "humidity                  0\n",
       "clouds                  790\n",
       "wind_speed                0\n",
       "wind_deg                  0\n",
       "rain                    117\n",
       "convective              790\n",
       "Direction N-S             0\n",
       "Direction E-W             0\n",
       "Compass                   0\n",
       "Tarifa_WindGust          10\n",
       "Tarifa_Wind               0\n",
       "Tarifa_WindDirection      0\n",
       "Tarifa_Direction N-S      0\n",
       "Tarifa_Direction E-W      0\n",
       "Tarifa Compass            0\n",
       "delta_Wind                0\n",
       "delta_N-S                 0\n",
       "delta_E-W                 0\n",
       "dtype: int64"
      ]
     },
     "execution_count": 13,
     "metadata": {},
     "output_type": "execute_result"
    }
   ],
   "source": [
    "df.isna().sum()"
   ]
  },
  {
   "cell_type": "markdown",
   "metadata": {},
   "source": [
    "- **Tarifa WindGust** . has a strong linear relation with wind, then we do a fast linear regression to fill the missing values"
   ]
  },
  {
   "cell_type": "code",
   "execution_count": 14,
   "metadata": {},
   "outputs": [
    {
     "data": {
      "image/png": "[encoded data removed]",
      "text/plain": [
       "<Figure size 432x288 with 1 Axes>"
      ]
     },
     "metadata": {
      "needs_background": "light"
     },
     "output_type": "display_data"
    }
   ],
   "source": [
    "plt.scatter(y = df['Tarifa_WindGust'],x = df['Tarifa_Wind']);"
   ]
  },
  {
   "cell_type": "code",
   "execution_count": 15,
   "metadata": {},
   "outputs": [
    {
     "data": {
      "text/plain": [
       "LinregressResult(slope=1.5001229469033877, intercept=2.3636408838850045, rvalue=0.9811683750312548, pvalue=0.0, stderr=0.003972669756927284)"
      ]
     },
     "execution_count": 15,
     "metadata": {},
     "output_type": "execute_result"
    }
   ],
   "source": [
    "from scipy.stats import linregress\n",
    "\n",
    "linregress(df.dropna()['Tarifa_Wind'], df.dropna()['Tarifa_WindGust'])"
   ]
  },
  {
   "cell_type": "code",
   "execution_count": 16,
   "metadata": {},
   "outputs": [],
   "source": [
    "df['Tarifa_WindGust'].fillna(df['Tarifa_Wind']*1.5+2.36, inplace=True)"
   ]
  },
  {
   "cell_type": "code",
   "execution_count": 17,
   "metadata": {},
   "outputs": [
    {
     "data": {
      "text/plain": [
       "slice dt iso              0\n",
       "lat                       0\n",
       "lon                       0\n",
       "temperature               0\n",
       "dew_point                 0\n",
       "pressure                  0\n",
       "humidity                  0\n",
       "clouds                  790\n",
       "wind_speed                0\n",
       "wind_deg                  0\n",
       "rain                    117\n",
       "convective              790\n",
       "Direction N-S             0\n",
       "Direction E-W             0\n",
       "Compass                   0\n",
       "Tarifa_WindGust           0\n",
       "Tarifa_Wind               0\n",
       "Tarifa_WindDirection      0\n",
       "Tarifa_Direction N-S      0\n",
       "Tarifa_Direction E-W      0\n",
       "Tarifa Compass            0\n",
       "delta_Wind                0\n",
       "delta_N-S                 0\n",
       "delta_E-W                 0\n",
       "dtype: int64"
      ]
     },
     "execution_count": 17,
     "metadata": {},
     "output_type": "execute_result"
    }
   ],
   "source": [
    "df.isna().sum()"
   ]
  },
  {
   "cell_type": "markdown",
   "metadata": {},
   "source": [
    "- **rain**"
   ]
  },
  {
   "cell_type": "code",
   "execution_count": 18,
   "metadata": {
    "scrolled": true
   },
   "outputs": [
    {
     "data": {
      "text/html": [
       "<div>\n",
       "<style scoped>\n",
       "    .dataframe tbody tr th:only-of-type {\n",
       "        vertical-align: middle;\n",
       "    }\n",
       "\n",
       "    .dataframe tbody tr th {\n",
       "        vertical-align: top;\n",
       "    }\n",
       "\n",
       "    .dataframe thead th {\n",
       "        text-align: right;\n",
       "    }\n",
       "</style>\n",
       "<table border=\"1\" class=\"dataframe\">\n",
       "  <thead>\n",
       "    <tr style=\"text-align: right;\">\n",
       "      <th></th>\n",
       "      <th>slice dt iso</th>\n",
       "      <th>lat</th>\n",
       "      <th>lon</th>\n",
       "      <th>temperature</th>\n",
       "      <th>dew_point</th>\n",
       "      <th>pressure</th>\n",
       "      <th>humidity</th>\n",
       "      <th>clouds</th>\n",
       "      <th>wind_speed</th>\n",
       "      <th>wind_deg</th>\n",
       "      <th>rain</th>\n",
       "      <th>convective</th>\n",
       "      <th>Direction N-S</th>\n",
       "      <th>Direction E-W</th>\n",
       "      <th>Compass</th>\n",
       "      <th>Tarifa_WindGust</th>\n",
       "      <th>Tarifa_Wind</th>\n",
       "      <th>Tarifa_WindDirection</th>\n",
       "      <th>Tarifa_Direction N-S</th>\n",
       "      <th>Tarifa_Direction E-W</th>\n",
       "      <th>Tarifa Compass</th>\n",
       "      <th>delta_Wind</th>\n",
       "      <th>delta_N-S</th>\n",
       "      <th>delta_E-W</th>\n",
       "    </tr>\n",
       "  </thead>\n",
       "  <tbody>\n",
       "    <tr>\n",
       "      <th>10</th>\n",
       "      <td>2019-02-20</td>\n",
       "      <td>36.013158</td>\n",
       "      <td>-5.598892</td>\n",
       "      <td>12.54</td>\n",
       "      <td>10.52</td>\n",
       "      <td>1021.143</td>\n",
       "      <td>87.831</td>\n",
       "      <td>NaN</td>\n",
       "      <td>8.564559</td>\n",
       "      <td>78.387</td>\n",
       "      <td>NaN</td>\n",
       "      <td>NaN</td>\n",
       "      <td>0.201300</td>\n",
       "      <td>0.979530</td>\n",
       "      <td>NEE</td>\n",
       "      <td>24.492384</td>\n",
       "      <td>15.421131</td>\n",
       "      <td>87.0</td>\n",
       "      <td>0.052336</td>\n",
       "      <td>0.998630</td>\n",
       "      <td>E</td>\n",
       "      <td>6.856572</td>\n",
       "      <td>-0.148964</td>\n",
       "      <td>0.019100</td>\n",
       "    </tr>\n",
       "    <tr>\n",
       "      <th>18</th>\n",
       "      <td>2019-02-21</td>\n",
       "      <td>36.013158</td>\n",
       "      <td>-5.598892</td>\n",
       "      <td>12.99</td>\n",
       "      <td>11.06</td>\n",
       "      <td>1024.057</td>\n",
       "      <td>88.100</td>\n",
       "      <td>NaN</td>\n",
       "      <td>15.274695</td>\n",
       "      <td>82.085</td>\n",
       "      <td>NaN</td>\n",
       "      <td>NaN</td>\n",
       "      <td>0.137704</td>\n",
       "      <td>0.990473</td>\n",
       "      <td>E</td>\n",
       "      <td>32.915691</td>\n",
       "      <td>20.539909</td>\n",
       "      <td>77.0</td>\n",
       "      <td>0.224951</td>\n",
       "      <td>0.974370</td>\n",
       "      <td>NEE</td>\n",
       "      <td>5.265215</td>\n",
       "      <td>0.087247</td>\n",
       "      <td>-0.016103</td>\n",
       "    </tr>\n",
       "    <tr>\n",
       "      <th>26</th>\n",
       "      <td>2019-02-22</td>\n",
       "      <td>36.013158</td>\n",
       "      <td>-5.598892</td>\n",
       "      <td>12.71</td>\n",
       "      <td>11.02</td>\n",
       "      <td>1029.674</td>\n",
       "      <td>89.551</td>\n",
       "      <td>NaN</td>\n",
       "      <td>14.932579</td>\n",
       "      <td>78.999</td>\n",
       "      <td>NaN</td>\n",
       "      <td>NaN</td>\n",
       "      <td>0.190826</td>\n",
       "      <td>0.981624</td>\n",
       "      <td>E</td>\n",
       "      <td>30.971851</td>\n",
       "      <td>18.725659</td>\n",
       "      <td>74.0</td>\n",
       "      <td>0.275637</td>\n",
       "      <td>0.961262</td>\n",
       "      <td>NEE</td>\n",
       "      <td>3.793080</td>\n",
       "      <td>0.084811</td>\n",
       "      <td>-0.020362</td>\n",
       "    </tr>\n",
       "    <tr>\n",
       "      <th>34</th>\n",
       "      <td>2019-02-23</td>\n",
       "      <td>36.013158</td>\n",
       "      <td>-5.598892</td>\n",
       "      <td>12.22</td>\n",
       "      <td>10.06</td>\n",
       "      <td>1029.572</td>\n",
       "      <td>86.651</td>\n",
       "      <td>NaN</td>\n",
       "      <td>6.756788</td>\n",
       "      <td>81.364</td>\n",
       "      <td>NaN</td>\n",
       "      <td>NaN</td>\n",
       "      <td>0.150157</td>\n",
       "      <td>0.988662</td>\n",
       "      <td>E</td>\n",
       "      <td>23.002107</td>\n",
       "      <td>14.125237</td>\n",
       "      <td>76.0</td>\n",
       "      <td>0.241922</td>\n",
       "      <td>0.970296</td>\n",
       "      <td>NEE</td>\n",
       "      <td>7.368449</td>\n",
       "      <td>0.091765</td>\n",
       "      <td>-0.018367</td>\n",
       "    </tr>\n",
       "    <tr>\n",
       "      <th>42</th>\n",
       "      <td>2019-02-24</td>\n",
       "      <td>36.013158</td>\n",
       "      <td>-5.598892</td>\n",
       "      <td>13.71</td>\n",
       "      <td>8.22</td>\n",
       "      <td>1026.179</td>\n",
       "      <td>69.222</td>\n",
       "      <td>NaN</td>\n",
       "      <td>3.491137</td>\n",
       "      <td>271.500</td>\n",
       "      <td>NaN</td>\n",
       "      <td>NaN</td>\n",
       "      <td>0.026177</td>\n",
       "      <td>-0.999657</td>\n",
       "      <td>W</td>\n",
       "      <td>4.017269</td>\n",
       "      <td>1.943840</td>\n",
       "      <td>23.0</td>\n",
       "      <td>0.920505</td>\n",
       "      <td>0.390731</td>\n",
       "      <td>NNE</td>\n",
       "      <td>-1.547297</td>\n",
       "      <td>0.894328</td>\n",
       "      <td>1.390388</td>\n",
       "    </tr>\n",
       "    <tr>\n",
       "      <th>...</th>\n",
       "      <td>...</td>\n",
       "      <td>...</td>\n",
       "      <td>...</td>\n",
       "      <td>...</td>\n",
       "      <td>...</td>\n",
       "      <td>...</td>\n",
       "      <td>...</td>\n",
       "      <td>...</td>\n",
       "      <td>...</td>\n",
       "      <td>...</td>\n",
       "      <td>...</td>\n",
       "      <td>...</td>\n",
       "      <td>...</td>\n",
       "      <td>...</td>\n",
       "      <td>...</td>\n",
       "      <td>...</td>\n",
       "      <td>...</td>\n",
       "      <td>...</td>\n",
       "      <td>...</td>\n",
       "      <td>...</td>\n",
       "      <td>...</td>\n",
       "      <td>...</td>\n",
       "      <td>...</td>\n",
       "      <td>...</td>\n",
       "    </tr>\n",
       "    <tr>\n",
       "      <th>898</th>\n",
       "      <td>2019-06-12</td>\n",
       "      <td>36.013158</td>\n",
       "      <td>-5.598892</td>\n",
       "      <td>16.65</td>\n",
       "      <td>14.45</td>\n",
       "      <td>1010.989</td>\n",
       "      <td>86.700</td>\n",
       "      <td>NaN</td>\n",
       "      <td>7.956137</td>\n",
       "      <td>250.060</td>\n",
       "      <td>NaN</td>\n",
       "      <td>NaN</td>\n",
       "      <td>-0.341036</td>\n",
       "      <td>-0.940050</td>\n",
       "      <td>SWW</td>\n",
       "      <td>9.006459</td>\n",
       "      <td>4.730011</td>\n",
       "      <td>290.0</td>\n",
       "      <td>0.342020</td>\n",
       "      <td>-0.939693</td>\n",
       "      <td>WNW</td>\n",
       "      <td>-3.226126</td>\n",
       "      <td>0.683056</td>\n",
       "      <td>0.000358</td>\n",
       "    </tr>\n",
       "    <tr>\n",
       "      <th>914</th>\n",
       "      <td>2019-06-14</td>\n",
       "      <td>36.013158</td>\n",
       "      <td>-5.598892</td>\n",
       "      <td>17.13</td>\n",
       "      <td>13.85</td>\n",
       "      <td>1014.610</td>\n",
       "      <td>80.800</td>\n",
       "      <td>NaN</td>\n",
       "      <td>9.779459</td>\n",
       "      <td>247.008</td>\n",
       "      <td>NaN</td>\n",
       "      <td>NaN</td>\n",
       "      <td>-0.390603</td>\n",
       "      <td>-0.920559</td>\n",
       "      <td>SWW</td>\n",
       "      <td>18.531275</td>\n",
       "      <td>11.922219</td>\n",
       "      <td>228.0</td>\n",
       "      <td>-0.669131</td>\n",
       "      <td>-0.743145</td>\n",
       "      <td>SW</td>\n",
       "      <td>2.142760</td>\n",
       "      <td>-0.278528</td>\n",
       "      <td>0.177415</td>\n",
       "    </tr>\n",
       "    <tr>\n",
       "      <th>922</th>\n",
       "      <td>2019-06-15</td>\n",
       "      <td>36.013158</td>\n",
       "      <td>-5.598892</td>\n",
       "      <td>15.15</td>\n",
       "      <td>11.55</td>\n",
       "      <td>1019.531</td>\n",
       "      <td>79.700</td>\n",
       "      <td>NaN</td>\n",
       "      <td>10.955482</td>\n",
       "      <td>278.551</td>\n",
       "      <td>NaN</td>\n",
       "      <td>NaN</td>\n",
       "      <td>0.148690</td>\n",
       "      <td>-0.988884</td>\n",
       "      <td>W</td>\n",
       "      <td>10.043173</td>\n",
       "      <td>5.831520</td>\n",
       "      <td>315.0</td>\n",
       "      <td>0.707107</td>\n",
       "      <td>-0.707107</td>\n",
       "      <td>NW</td>\n",
       "      <td>-5.123962</td>\n",
       "      <td>0.558417</td>\n",
       "      <td>0.281777</td>\n",
       "    </tr>\n",
       "    <tr>\n",
       "      <th>930</th>\n",
       "      <td>2019-06-16</td>\n",
       "      <td>36.013158</td>\n",
       "      <td>-5.598892</td>\n",
       "      <td>15.95</td>\n",
       "      <td>12.17</td>\n",
       "      <td>1017.110</td>\n",
       "      <td>77.800</td>\n",
       "      <td>NaN</td>\n",
       "      <td>6.080332</td>\n",
       "      <td>265.343</td>\n",
       "      <td>NaN</td>\n",
       "      <td>NaN</td>\n",
       "      <td>-0.081191</td>\n",
       "      <td>-0.996699</td>\n",
       "      <td>W</td>\n",
       "      <td>6.868235</td>\n",
       "      <td>3.110144</td>\n",
       "      <td>261.0</td>\n",
       "      <td>-0.156434</td>\n",
       "      <td>-0.987688</td>\n",
       "      <td>W</td>\n",
       "      <td>-2.970188</td>\n",
       "      <td>-0.075244</td>\n",
       "      <td>0.009010</td>\n",
       "    </tr>\n",
       "    <tr>\n",
       "      <th>938</th>\n",
       "      <td>2019-06-17</td>\n",
       "      <td>36.013158</td>\n",
       "      <td>-5.598892</td>\n",
       "      <td>16.33</td>\n",
       "      <td>14.73</td>\n",
       "      <td>1018.896</td>\n",
       "      <td>90.600</td>\n",
       "      <td>NaN</td>\n",
       "      <td>4.680767</td>\n",
       "      <td>36.199</td>\n",
       "      <td>NaN</td>\n",
       "      <td>NaN</td>\n",
       "      <td>0.806971</td>\n",
       "      <td>0.590592</td>\n",
       "      <td>NE</td>\n",
       "      <td>9.330432</td>\n",
       "      <td>6.025904</td>\n",
       "      <td>87.0</td>\n",
       "      <td>0.052336</td>\n",
       "      <td>0.998630</td>\n",
       "      <td>E</td>\n",
       "      <td>1.345137</td>\n",
       "      <td>-0.754635</td>\n",
       "      <td>0.408038</td>\n",
       "    </tr>\n",
       "  </tbody>\n",
       "</table>\n",
       "<p>117 rows × 24 columns</p>\n",
       "</div>"
      ],
      "text/plain": [
       "    slice dt iso        lat       lon  temperature  dew_point  pressure  \\\n",
       "10    2019-02-20  36.013158 -5.598892        12.54      10.52  1021.143   \n",
       "18    2019-02-21  36.013158 -5.598892        12.99      11.06  1024.057   \n",
       "26    2019-02-22  36.013158 -5.598892        12.71      11.02  1029.674   \n",
       "34    2019-02-23  36.013158 -5.598892        12.22      10.06  1029.572   \n",
       "42    2019-02-24  36.013158 -5.598892        13.71       8.22  1026.179   \n",
       "..           ...        ...       ...          ...        ...       ...   \n",
       "898   2019-06-12  36.013158 -5.598892        16.65      14.45  1010.989   \n",
       "914   2019-06-14  36.013158 -5.598892        17.13      13.85  1014.610   \n",
       "922   2019-06-15  36.013158 -5.598892        15.15      11.55  1019.531   \n",
       "930   2019-06-16  36.013158 -5.598892        15.95      12.17  1017.110   \n",
       "938   2019-06-17  36.013158 -5.598892        16.33      14.73  1018.896   \n",
       "\n",
       "     humidity  clouds  wind_speed  wind_deg  rain  convective  Direction N-S  \\\n",
       "10     87.831     NaN    8.564559    78.387   NaN         NaN       0.201300   \n",
       "18     88.100     NaN   15.274695    82.085   NaN         NaN       0.137704   \n",
       "26     89.551     NaN   14.932579    78.999   NaN         NaN       0.190826   \n",
       "34     86.651     NaN    6.756788    81.364   NaN         NaN       0.150157   \n",
       "42     69.222     NaN    3.491137   271.500   NaN         NaN       0.026177   \n",
       "..        ...     ...         ...       ...   ...         ...            ...   \n",
       "898    86.700     NaN    7.956137   250.060   NaN         NaN      -0.341036   \n",
       "914    80.800     NaN    9.779459   247.008   NaN         NaN      -0.390603   \n",
       "922    79.700     NaN   10.955482   278.551   NaN         NaN       0.148690   \n",
       "930    77.800     NaN    6.080332   265.343   NaN         NaN      -0.081191   \n",
       "938    90.600     NaN    4.680767    36.199   NaN         NaN       0.806971   \n",
       "\n",
       "     Direction E-W Compass  Tarifa_WindGust  Tarifa_Wind  \\\n",
       "10        0.979530     NEE        24.492384    15.421131   \n",
       "18        0.990473       E        32.915691    20.539909   \n",
       "26        0.981624       E        30.971851    18.725659   \n",
       "34        0.988662       E        23.002107    14.125237   \n",
       "42       -0.999657       W         4.017269     1.943840   \n",
       "..             ...     ...              ...          ...   \n",
       "898      -0.940050     SWW         9.006459     4.730011   \n",
       "914      -0.920559     SWW        18.531275    11.922219   \n",
       "922      -0.988884       W        10.043173     5.831520   \n",
       "930      -0.996699       W         6.868235     3.110144   \n",
       "938       0.590592      NE         9.330432     6.025904   \n",
       "\n",
       "     Tarifa_WindDirection  Tarifa_Direction N-S  Tarifa_Direction E-W  \\\n",
       "10                   87.0              0.052336              0.998630   \n",
       "18                   77.0              0.224951              0.974370   \n",
       "26                   74.0              0.275637              0.961262   \n",
       "34                   76.0              0.241922              0.970296   \n",
       "42                   23.0              0.920505              0.390731   \n",
       "..                    ...                   ...                   ...   \n",
       "898                 290.0              0.342020             -0.939693   \n",
       "914                 228.0             -0.669131             -0.743145   \n",
       "922                 315.0              0.707107             -0.707107   \n",
       "930                 261.0             -0.156434             -0.987688   \n",
       "938                  87.0              0.052336              0.998630   \n",
       "\n",
       "    Tarifa Compass  delta_Wind  delta_N-S  delta_E-W  \n",
       "10               E    6.856572  -0.148964   0.019100  \n",
       "18             NEE    5.265215   0.087247  -0.016103  \n",
       "26             NEE    3.793080   0.084811  -0.020362  \n",
       "34             NEE    7.368449   0.091765  -0.018367  \n",
       "42             NNE   -1.547297   0.894328   1.390388  \n",
       "..             ...         ...        ...        ...  \n",
       "898            WNW   -3.226126   0.683056   0.000358  \n",
       "914             SW    2.142760  -0.278528   0.177415  \n",
       "922             NW   -5.123962   0.558417   0.281777  \n",
       "930              W   -2.970188  -0.075244   0.009010  \n",
       "938              E    1.345137  -0.754635   0.408038  \n",
       "\n",
       "[117 rows x 24 columns]"
      ]
     },
     "execution_count": 18,
     "metadata": {},
     "output_type": "execute_result"
    }
   ],
   "source": [
    "mask = df['rain'].isna()\n",
    "df[mask]"
   ]
  },
  {
   "cell_type": "code",
   "execution_count": 19,
   "metadata": {},
   "outputs": [
    {
     "name": "stdout",
     "output_type": "stream",
     "text": [
      "median:  0.0 \n",
      "mean : 0.21884959742351004\n",
      "percentage of 3h slice without rain 77.9 %\n",
      "\n"
     ]
    },
    {
     "data": {
      "image/png": "[encoded data removed]",
      "text/plain": [
       "<Figure size 432x288 with 1 Axes>"
      ]
     },
     "metadata": {
      "needs_background": "light"
     },
     "output_type": "display_data"
    }
   ],
   "source": [
    "plt.hist(df['rain'], bins=10, range = (0,1));\n",
    "print(\"median: \" , df['rain'].median(),\"\\nmean :\", df['rain'].mean())\n",
    "print(\"percentage of 3h slice without rain\", round (df[df['rain']==0]['rain'].count()/len(df)*100,1) , \"%\\n\")"
   ]
  },
  {
   "cell_type": "markdown",
   "metadata": {},
   "source": [
    "- **Strategy** Because 77.9 % of 3h slices has no rain, we better approximate the NaN in rain with the median 0.0 than with the mean value, what would imply commiting sistematic error in 77.9 % of the cases in average. In the 22.1 % of the cases where there should be rain and we fill the na with 0.0 rain we would have a deviation of 0,21 from the mean value. "
   ]
  },
  {
   "cell_type": "code",
   "execution_count": 20,
   "metadata": {},
   "outputs": [],
   "source": [
    "df['rain'].fillna(0, inplace=True)"
   ]
  },
  {
   "cell_type": "markdown",
   "metadata": {},
   "source": [
    "- **clouds**"
   ]
  },
  {
   "cell_type": "code",
   "execution_count": 21,
   "metadata": {},
   "outputs": [
    {
     "data": {
      "text/plain": [
       "<seaborn.axisgrid.FacetGrid at 0x7f8e2c2f2b20>"
      ]
     },
     "execution_count": 21,
     "metadata": {},
     "output_type": "execute_result"
    },
    {
     "data": {
      "image/png": "[encoded data removed]",
      "text/plain": [
       "<Figure size 360x360 with 1 Axes>"
      ]
     },
     "metadata": {
      "needs_background": "light"
     },
     "output_type": "display_data"
    }
   ],
   "source": [
    "sns.displot(df['clouds'])"
   ]
  },
  {
   "cell_type": "code",
   "execution_count": 22,
   "metadata": {},
   "outputs": [
    {
     "name": "stdout",
     "output_type": "stream",
     "text": [
      "median:  33.0 % ; mean:  42.71 %\n",
      "average clouds when no rain 33.9 %\n",
      "average clouds when it is rainy 75.96 %\n"
     ]
    },
    {
     "data": {
      "image/png": "[encoded data removed]",
      "text/plain": [
       "<Figure size 432x432 with 3 Axes>"
      ]
     },
     "metadata": {
      "needs_background": "light"
     },
     "output_type": "display_data"
    }
   ],
   "source": [
    "sns.jointplot(x=df['clouds'],y=df['rain'], kind = 'kde', fill = True, xlim=(0,100),  ylim=(0,2.5));\n",
    "print(\"median: \", df['clouds'].median(), \"%\", \"; mean: \", round(df['clouds'].mean(),2), \"%\")\n",
    "print(\"average clouds when no rain\", round (df[df['rain']==0]['clouds'].mean(),2), \"%\")\n",
    "print(\"average clouds when it is rainy\", round(df[df['rain']!=0]['clouds'].mean(),2), \"%\")"
   ]
  },
  {
   "cell_type": "markdown",
   "metadata": {},
   "source": [
    "- **Strategy** We are going to fill the na in clouds with this values:\n",
    "\n",
    "average clouds when no rain 33.9 %\n",
    "average clouds when it is rainy 75.96 %\n",
    "\n",
    "## *!!! Por ahora lo he rellenado con la mediana arreglar más adelante!!!*"
   ]
  },
  {
   "cell_type": "code",
   "execution_count": 23,
   "metadata": {},
   "outputs": [],
   "source": [
    "df['clouds'].fillna(df['clouds'].mean(), inplace=True)"
   ]
  },
  {
   "cell_type": "markdown",
   "metadata": {},
   "source": [
    "* **convective**"
   ]
  },
  {
   "cell_type": "code",
   "execution_count": 24,
   "metadata": {},
   "outputs": [
    {
     "data": {
      "text/plain": [
       "slice dt iso              0\n",
       "lat                       0\n",
       "lon                       0\n",
       "temperature               0\n",
       "dew_point                 0\n",
       "pressure                  0\n",
       "humidity                  0\n",
       "clouds                    0\n",
       "wind_speed                0\n",
       "wind_deg                  0\n",
       "rain                      0\n",
       "convective              790\n",
       "Direction N-S             0\n",
       "Direction E-W             0\n",
       "Compass                   0\n",
       "Tarifa_WindGust           0\n",
       "Tarifa_Wind               0\n",
       "Tarifa_WindDirection      0\n",
       "Tarifa_Direction N-S      0\n",
       "Tarifa_Direction E-W      0\n",
       "Tarifa Compass            0\n",
       "delta_Wind                0\n",
       "delta_N-S                 0\n",
       "delta_E-W                 0\n",
       "dtype: int64"
      ]
     },
     "execution_count": 24,
     "metadata": {},
     "output_type": "execute_result"
    }
   ],
   "source": [
    "df.isna().sum()"
   ]
  },
  {
   "cell_type": "code",
   "execution_count": 25,
   "metadata": {},
   "outputs": [
    {
     "data": {
      "image/png": "[encoded data removed]",
      "text/plain": [
       "<Figure size 360x360 with 1 Axes>"
      ]
     },
     "metadata": {
      "needs_background": "light"
     },
     "output_type": "display_data"
    }
   ],
   "source": [
    "sns.relplot(x = df['rain'], y = df['convective']);"
   ]
  },
  {
   "cell_type": "code",
   "execution_count": 26,
   "metadata": {},
   "outputs": [
    {
     "data": {
      "image/png": "[encoded data removed]",
      "text/plain": [
       "<Figure size 432x288 with 1 Axes>"
      ]
     },
     "metadata": {
      "needs_background": "light"
     },
     "output_type": "display_data"
    }
   ],
   "source": [
    "plt.hist(x= df['convective'], bins = 20, range=(0,1));"
   ]
  },
  {
   "cell_type": "code",
   "execution_count": 27,
   "metadata": {},
   "outputs": [
    {
     "name": "stdout",
     "output_type": "stream",
     "text": [
      "0.3436812353259879\n",
      "0.21480259206574953\n"
     ]
    }
   ],
   "source": [
    "print(df['convective'].mean())\n",
    "print(df['rain'].mean())"
   ]
  },
  {
   "cell_type": "code",
   "execution_count": 28,
   "metadata": {},
   "outputs": [
    {
     "name": "stdout",
     "output_type": "stream",
     "text": [
      "convective median value when no rain 0.0\n",
      "convective median value when rain 0.625\n"
     ]
    }
   ],
   "source": [
    "print('convective median value when no rain', df[df['rain']==0]['convective'].median())\n",
    "print('convective median value when rain', df[df['rain']!=0]['convective'].median())"
   ]
  },
  {
   "cell_type": "code",
   "execution_count": 29,
   "metadata": {},
   "outputs": [
    {
     "name": "stdout",
     "output_type": "stream",
     "text": [
      "convective nan with no rain 671\n",
      "convective nan with rain 119\n"
     ]
    }
   ],
   "source": [
    "aux = df[df['convective'].isna()]\n",
    "print ('convective nan with no rain', aux[aux['rain']==0].shape[0])\n",
    "print ('convective nan with rain', aux[aux['rain']!=0].shape[0])\n"
   ]
  },
  {
   "cell_type": "markdown",
   "metadata": {},
   "source": [
    "- **Strategy**\n",
    "\n",
    "We dont find a clear linear relation between rain and convective (convective rain).\n",
    "what we found is that when there rain = 0, convective rain median value is also 0.\n",
    "Then...\n",
    "\n",
    "WE can approximate the missing values of convective (rain) by:\n",
    "-  **0 when rain is 0**\n",
    "-  **0.625 (median value of convective rain when rain != 0 .**\n",
    "\n",
    "\n",
    "- *Lo aproximo provisionalmente con el valor de la lluvia cambiar más adelante!!*"
   ]
  },
  {
   "cell_type": "code",
   "execution_count": 30,
   "metadata": {},
   "outputs": [],
   "source": [
    "df['convective'].fillna(df['rain'], inplace =True)"
   ]
  },
  {
   "cell_type": "markdown",
   "metadata": {},
   "source": [
    "-  Outliers treatment (*En stand by*)"
   ]
  },
  {
   "cell_type": "markdown",
   "metadata": {},
   "source": [
    "- Wind Degree treatment (hecho en el capitulo 1 pasar aqui)"
   ]
  },
  {
   "cell_type": "markdown",
   "metadata": {},
   "source": [
    "# Machine Learning Model Optimization"
   ]
  },
  {
   "cell_type": "code",
   "execution_count": 31,
   "metadata": {},
   "outputs": [],
   "source": [
    "# Function to evaluate model errors\n",
    "\n",
    "def evaluate(model, target_test, prediction):\n",
    "    \n",
    "    mse_baseline = 14.736625426488391\n",
    "    \n",
    "    mse = round(mean_squared_error(target_test, prediction), 3)\n",
    "    mae = round(mean_absolute_error(target_test, prediction), 3)\n",
    "    mape = \"standby\"\n",
    "    #mape = round(float(np.mean(np.abs(target_test - prediction) / target_test)),3)\n",
    "    ev = round(explained_variance_score(target_test, prediction), 3)\n",
    "    r2 = round(1 - mse/mse_baseline,3)\n",
    "    \n",
    "    new_row = {\"model\" : model , \"mse\": mse, \"mae\" : mae, \n",
    "          \"mape\": mape, \"ev\" : ev, \"r2\" : r2}\n",
    "    \n",
    "    return new_row"
   ]
  },
  {
   "cell_type": "code",
   "execution_count": 32,
   "metadata": {},
   "outputs": [],
   "source": [
    "# We re going to create a Dataframe to collect metric values\n",
    "\n",
    "metrics = pd.DataFrame(columns = (\"model\", \"mse\", \"mae\",\"mape\", \"ev\", \"r2\"))"
   ]
  },
  {
   "cell_type": "markdown",
   "metadata": {},
   "source": [
    "## 1.-  Evaluation of openweathermap.org forecast model (baseline)\n",
    "\n",
    "First step is to measure how good is the forecast model that for us is used as features, and it s going to be the model to challenge. \n",
    "\n",
    "**We are going to use the metric R2 with the MSE of the Weather Forecast as a baseline, to see how do we improve in relation to that model.**"
   ]
  },
  {
   "cell_type": "code",
   "execution_count": 33,
   "metadata": {},
   "outputs": [],
   "source": [
    "target_baseline = df['Tarifa_Wind']\n",
    "prediction_baseline = df['wind_speed']"
   ]
  },
  {
   "cell_type": "code",
   "execution_count": 34,
   "metadata": {},
   "outputs": [
    {
     "data": {
      "text/html": [
       "<div>\n",
       "<style scoped>\n",
       "    .dataframe tbody tr th:only-of-type {\n",
       "        vertical-align: middle;\n",
       "    }\n",
       "\n",
       "    .dataframe tbody tr th {\n",
       "        vertical-align: top;\n",
       "    }\n",
       "\n",
       "    .dataframe thead th {\n",
       "        text-align: right;\n",
       "    }\n",
       "</style>\n",
       "<table border=\"1\" class=\"dataframe\">\n",
       "  <thead>\n",
       "    <tr style=\"text-align: right;\">\n",
       "      <th></th>\n",
       "      <th>model</th>\n",
       "      <th>mse</th>\n",
       "      <th>mae</th>\n",
       "      <th>mape</th>\n",
       "      <th>ev</th>\n",
       "      <th>r2</th>\n",
       "    </tr>\n",
       "  </thead>\n",
       "  <tbody>\n",
       "    <tr>\n",
       "      <th>0</th>\n",
       "      <td>baseline</td>\n",
       "      <td>14.737</td>\n",
       "      <td>3.102</td>\n",
       "      <td>standby</td>\n",
       "      <td>0.617</td>\n",
       "      <td>-0.0</td>\n",
       "    </tr>\n",
       "  </tbody>\n",
       "</table>\n",
       "</div>"
      ],
      "text/plain": [
       "      model     mse    mae     mape     ev   r2\n",
       "0  baseline  14.737  3.102  standby  0.617 -0.0"
      ]
     },
     "execution_count": 34,
     "metadata": {},
     "output_type": "execute_result"
    }
   ],
   "source": [
    "metrics = metrics.append(evaluate(\"baseline\", target_baseline,prediction_baseline), \n",
    "                         ignore_index=True)\n",
    "\n",
    "metrics"
   ]
  },
  {
   "cell_type": "markdown",
   "metadata": {},
   "source": [
    "## 2.- Regressors  without further preprocesing\n",
    "\n",
    "- Linnear Regressor\n",
    "- KNeighbours\n",
    "- Decission Tree\n",
    "- Random Forest"
   ]
  },
  {
   "cell_type": "code",
   "execution_count": 35,
   "metadata": {},
   "outputs": [
    {
     "data": {
      "text/plain": [
       "Index(['slice dt iso', 'lat', 'lon', 'temperature', 'dew_point', 'pressure',\n",
       "       'humidity', 'clouds', 'wind_speed', 'wind_deg', 'rain', 'convective',\n",
       "       'Direction N-S', 'Direction E-W', 'Compass', 'Tarifa_WindGust',\n",
       "       'Tarifa_Wind', 'Tarifa_WindDirection', 'Tarifa_Direction N-S',\n",
       "       'Tarifa_Direction E-W', 'Tarifa Compass', 'delta_Wind', 'delta_N-S',\n",
       "       'delta_E-W'],\n",
       "      dtype='object')"
      ]
     },
     "execution_count": 35,
     "metadata": {},
     "output_type": "execute_result"
    }
   ],
   "source": [
    "df.columns"
   ]
  },
  {
   "cell_type": "code",
   "execution_count": 36,
   "metadata": {},
   "outputs": [],
   "source": [
    "features = df.loc[:,['temperature', 'dew_point', 'pressure','humidity', 'clouds',\n",
    "                     'wind_speed', 'rain', 'convective','Direction N-S', 'Direction E-W']]"
   ]
  },
  {
   "cell_type": "code",
   "execution_count": 37,
   "metadata": {},
   "outputs": [],
   "source": [
    "target = df.loc[:,['Tarifa_Wind']]"
   ]
  },
  {
   "cell_type": "code",
   "execution_count": 38,
   "metadata": {},
   "outputs": [
    {
     "data": {
      "text/plain": [
       "<AxesSubplot:>"
      ]
     },
     "execution_count": 38,
     "metadata": {},
     "output_type": "execute_result"
    },
    {
     "data": {
      "image/png": "[encoded data removed]",
      "text/plain": [
       "<Figure size 720x576 with 2 Axes>"
      ]
     },
     "metadata": {
      "needs_background": "light"
     },
     "output_type": "display_data"
    }
   ],
   "source": [
    "plt.figure(figsize=(10,8))\n",
    "sns.heatmap(pd.concat([features,target],axis =1).corr(),annot=True)"
   ]
  },
  {
   "cell_type": "code",
   "execution_count": 39,
   "metadata": {},
   "outputs": [],
   "source": [
    "# Loading naive models\n",
    "\n",
    "lr = LinearRegression()\n",
    "knr = KNeighborsRegressor()\n",
    "tree = DecisionTreeRegressor()\n",
    "forest = RandomForestRegressor()\n",
    "\n",
    "# Setting up train / test\n",
    "\n",
    "features_train, features_test, target_train, target_test = train_test_split(features,target)\n"
   ]
  },
  {
   "cell_type": "code",
   "execution_count": 40,
   "metadata": {},
   "outputs": [],
   "source": [
    "lr.fit(features_train,target_train)\n",
    "prediction = lr.predict(features_test)\n",
    "\n",
    "metrics = metrics.append(evaluate(\"lr\", target_test, prediction), ignore_index=True)"
   ]
  },
  {
   "cell_type": "code",
   "execution_count": 41,
   "metadata": {},
   "outputs": [],
   "source": [
    "knr.fit(features_train,target_train)\n",
    "prediction = knr.predict(features_test)\n",
    "\n",
    "metrics = metrics.append(evaluate(\"knr\", target_test, prediction), ignore_index=True)"
   ]
  },
  {
   "cell_type": "code",
   "execution_count": 42,
   "metadata": {},
   "outputs": [],
   "source": [
    "tree.fit(features_train,target_train)\n",
    "prediction = tree.predict(features_test)\n",
    "\n",
    "metrics = metrics.append(evaluate(\"tree\", target_test, prediction), ignore_index=True)"
   ]
  },
  {
   "cell_type": "code",
   "execution_count": 43,
   "metadata": {},
   "outputs": [
    {
     "name": "stderr",
     "output_type": "stream",
     "text": [
      "<ipython-input-43-364559d53b08>:1: DataConversionWarning: A column-vector y was passed when a 1d array was expected. Please change the shape of y to (n_samples,), for example using ravel().\n",
      "  forest.fit(features_train,target_train)\n"
     ]
    }
   ],
   "source": [
    "forest.fit(features_train,target_train)\n",
    "prediction = forest.predict(features_test)\n",
    "\n",
    "metrics = metrics.append(evaluate(\"forest\", target_test, prediction), ignore_index=True)"
   ]
  },
  {
   "cell_type": "code",
   "execution_count": 44,
   "metadata": {},
   "outputs": [
    {
     "data": {
      "text/html": [
       "<div>\n",
       "<style scoped>\n",
       "    .dataframe tbody tr th:only-of-type {\n",
       "        vertical-align: middle;\n",
       "    }\n",
       "\n",
       "    .dataframe tbody tr th {\n",
       "        vertical-align: top;\n",
       "    }\n",
       "\n",
       "    .dataframe thead th {\n",
       "        text-align: right;\n",
       "    }\n",
       "</style>\n",
       "<table border=\"1\" class=\"dataframe\">\n",
       "  <thead>\n",
       "    <tr style=\"text-align: right;\">\n",
       "      <th></th>\n",
       "      <th>model</th>\n",
       "      <th>mse</th>\n",
       "      <th>mae</th>\n",
       "      <th>mape</th>\n",
       "      <th>ev</th>\n",
       "      <th>r2</th>\n",
       "    </tr>\n",
       "  </thead>\n",
       "  <tbody>\n",
       "    <tr>\n",
       "      <th>0</th>\n",
       "      <td>baseline</td>\n",
       "      <td>14.737</td>\n",
       "      <td>3.102</td>\n",
       "      <td>standby</td>\n",
       "      <td>0.617</td>\n",
       "      <td>-0.000</td>\n",
       "    </tr>\n",
       "    <tr>\n",
       "      <th>1</th>\n",
       "      <td>lr</td>\n",
       "      <td>7.917</td>\n",
       "      <td>2.206</td>\n",
       "      <td>standby</td>\n",
       "      <td>0.796</td>\n",
       "      <td>0.463</td>\n",
       "    </tr>\n",
       "    <tr>\n",
       "      <th>2</th>\n",
       "      <td>knr</td>\n",
       "      <td>11.739</td>\n",
       "      <td>2.683</td>\n",
       "      <td>standby</td>\n",
       "      <td>0.698</td>\n",
       "      <td>0.203</td>\n",
       "    </tr>\n",
       "    <tr>\n",
       "      <th>3</th>\n",
       "      <td>tree</td>\n",
       "      <td>11.578</td>\n",
       "      <td>2.613</td>\n",
       "      <td>standby</td>\n",
       "      <td>0.701</td>\n",
       "      <td>0.214</td>\n",
       "    </tr>\n",
       "    <tr>\n",
       "      <th>4</th>\n",
       "      <td>forest</td>\n",
       "      <td>6.067</td>\n",
       "      <td>1.884</td>\n",
       "      <td>standby</td>\n",
       "      <td>0.844</td>\n",
       "      <td>0.588</td>\n",
       "    </tr>\n",
       "  </tbody>\n",
       "</table>\n",
       "</div>"
      ],
      "text/plain": [
       "      model     mse    mae     mape     ev     r2\n",
       "0  baseline  14.737  3.102  standby  0.617 -0.000\n",
       "1        lr   7.917  2.206  standby  0.796  0.463\n",
       "2       knr  11.739  2.683  standby  0.698  0.203\n",
       "3      tree  11.578  2.613  standby  0.701  0.214\n",
       "4    forest   6.067  1.884  standby  0.844  0.588"
      ]
     },
     "execution_count": 44,
     "metadata": {},
     "output_type": "execute_result"
    }
   ],
   "source": [
    "metrics"
   ]
  },
  {
   "cell_type": "markdown",
   "metadata": {},
   "source": [
    "## 2.- Regressors with pre data standarization\n",
    "\n",
    "- **Prepoc**  = StaandarScaler \n",
    "\n",
    "- **Models:** Linnear Regressor,  KNeighbours, Decission Tree, Random Forest\n",
    "\n"
   ]
  },
  {
   "cell_type": "code",
   "execution_count": 45,
   "metadata": {},
   "outputs": [],
   "source": [
    "# Loading naive models\n",
    "\n",
    "lr = LinearRegression()\n",
    "knr = KNeighborsRegressor()\n",
    "tree = DecisionTreeRegressor()\n",
    "forest = RandomForestRegressor()\n",
    "\n",
    "# Scaler\n",
    "\n",
    "scaler = StandardScaler()\n",
    "\n",
    "# Setting up train / test\n",
    "\n",
    "features_train, features_test, target_train, target_test = train_test_split(features,target)\n"
   ]
  },
  {
   "cell_type": "code",
   "execution_count": 46,
   "metadata": {},
   "outputs": [],
   "source": [
    "features_train = scaler.fit_transform(features_train)\n",
    "features_test = scaler.transform(features_test)"
   ]
  },
  {
   "cell_type": "code",
   "execution_count": 47,
   "metadata": {},
   "outputs": [],
   "source": [
    "lr.fit(features_train,target_train)\n",
    "prediction = lr.predict(features_test)\n",
    "\n",
    "metrics = metrics.append(evaluate(\"lr + std\", target_test, prediction), ignore_index=True)"
   ]
  },
  {
   "cell_type": "code",
   "execution_count": 48,
   "metadata": {},
   "outputs": [],
   "source": [
    "knr.fit(features_train,target_train)\n",
    "prediction = knr.predict(features_test)\n",
    "\n",
    "metrics = metrics.append(evaluate(\"knr + std\", target_test, prediction), ignore_index=True)"
   ]
  },
  {
   "cell_type": "code",
   "execution_count": 49,
   "metadata": {},
   "outputs": [],
   "source": [
    "tree.fit(features_train,target_train)\n",
    "prediction = tree.predict(features_test)\n",
    "\n",
    "metrics = metrics.append(evaluate(\"tree + stdr\", target_test, prediction), ignore_index=True)"
   ]
  },
  {
   "cell_type": "code",
   "execution_count": 50,
   "metadata": {},
   "outputs": [
    {
     "name": "stderr",
     "output_type": "stream",
     "text": [
      "<ipython-input-50-945cbb74259d>:1: DataConversionWarning: A column-vector y was passed when a 1d array was expected. Please change the shape of y to (n_samples,), for example using ravel().\n",
      "  forest.fit(features_train,target_train)\n"
     ]
    }
   ],
   "source": [
    "forest.fit(features_train,target_train)\n",
    "prediction = forest.predict(features_test)\n",
    "\n",
    "metrics = metrics.append(evaluate(\"forest+ std\", target_test, prediction), ignore_index=True)"
   ]
  },
  {
   "cell_type": "code",
   "execution_count": 108,
   "metadata": {},
   "outputs": [
    {
     "data": {
      "text/html": [
       "<div>\n",
       "<style scoped>\n",
       "    .dataframe tbody tr th:only-of-type {\n",
       "        vertical-align: middle;\n",
       "    }\n",
       "\n",
       "    .dataframe tbody tr th {\n",
       "        vertical-align: top;\n",
       "    }\n",
       "\n",
       "    .dataframe thead th {\n",
       "        text-align: right;\n",
       "    }\n",
       "</style>\n",
       "<table border=\"1\" class=\"dataframe\">\n",
       "  <thead>\n",
       "    <tr style=\"text-align: right;\">\n",
       "      <th></th>\n",
       "      <th>model</th>\n",
       "      <th>mse</th>\n",
       "      <th>mae</th>\n",
       "      <th>mape</th>\n",
       "      <th>ev</th>\n",
       "      <th>r2</th>\n",
       "    </tr>\n",
       "  </thead>\n",
       "  <tbody>\n",
       "    <tr>\n",
       "      <th>8</th>\n",
       "      <td>forest+ std</td>\n",
       "      <td>5.607</td>\n",
       "      <td>1.826</td>\n",
       "      <td>standby</td>\n",
       "      <td>0.848</td>\n",
       "      <td>0.620</td>\n",
       "    </tr>\n",
       "    <tr>\n",
       "      <th>4</th>\n",
       "      <td>forest</td>\n",
       "      <td>6.067</td>\n",
       "      <td>1.884</td>\n",
       "      <td>standby</td>\n",
       "      <td>0.844</td>\n",
       "      <td>0.588</td>\n",
       "    </tr>\n",
       "    <tr>\n",
       "      <th>6</th>\n",
       "      <td>knr + std</td>\n",
       "      <td>7.003</td>\n",
       "      <td>2.062</td>\n",
       "      <td>standby</td>\n",
       "      <td>0.811</td>\n",
       "      <td>0.525</td>\n",
       "    </tr>\n",
       "    <tr>\n",
       "      <th>5</th>\n",
       "      <td>lr + std</td>\n",
       "      <td>7.353</td>\n",
       "      <td>2.148</td>\n",
       "      <td>standby</td>\n",
       "      <td>0.801</td>\n",
       "      <td>0.501</td>\n",
       "    </tr>\n",
       "    <tr>\n",
       "      <th>1</th>\n",
       "      <td>lr</td>\n",
       "      <td>7.917</td>\n",
       "      <td>2.206</td>\n",
       "      <td>standby</td>\n",
       "      <td>0.796</td>\n",
       "      <td>0.463</td>\n",
       "    </tr>\n",
       "    <tr>\n",
       "      <th>7</th>\n",
       "      <td>tree + stdr</td>\n",
       "      <td>10.769</td>\n",
       "      <td>2.540</td>\n",
       "      <td>standby</td>\n",
       "      <td>0.709</td>\n",
       "      <td>0.269</td>\n",
       "    </tr>\n",
       "    <tr>\n",
       "      <th>3</th>\n",
       "      <td>tree</td>\n",
       "      <td>11.578</td>\n",
       "      <td>2.613</td>\n",
       "      <td>standby</td>\n",
       "      <td>0.701</td>\n",
       "      <td>0.214</td>\n",
       "    </tr>\n",
       "    <tr>\n",
       "      <th>2</th>\n",
       "      <td>knr</td>\n",
       "      <td>11.739</td>\n",
       "      <td>2.683</td>\n",
       "      <td>standby</td>\n",
       "      <td>0.698</td>\n",
       "      <td>0.203</td>\n",
       "    </tr>\n",
       "    <tr>\n",
       "      <th>0</th>\n",
       "      <td>baseline</td>\n",
       "      <td>14.737</td>\n",
       "      <td>3.102</td>\n",
       "      <td>standby</td>\n",
       "      <td>0.617</td>\n",
       "      <td>-0.000</td>\n",
       "    </tr>\n",
       "  </tbody>\n",
       "</table>\n",
       "</div>"
      ],
      "text/plain": [
       "         model     mse    mae     mape     ev     r2\n",
       "8  forest+ std   5.607  1.826  standby  0.848  0.620\n",
       "4       forest   6.067  1.884  standby  0.844  0.588\n",
       "6    knr + std   7.003  2.062  standby  0.811  0.525\n",
       "5     lr + std   7.353  2.148  standby  0.801  0.501\n",
       "1           lr   7.917  2.206  standby  0.796  0.463\n",
       "7  tree + stdr  10.769  2.540  standby  0.709  0.269\n",
       "3         tree  11.578  2.613  standby  0.701  0.214\n",
       "2          knr  11.739  2.683  standby  0.698  0.203\n",
       "0     baseline  14.737  3.102  standby  0.617 -0.000"
      ]
     },
     "execution_count": 108,
     "metadata": {},
     "output_type": "execute_result"
    }
   ],
   "source": [
    "metrics_ordered = metrics.sort_values(by='mse')\n",
    "metrics_ordered"
   ]
  },
  {
   "cell_type": "code",
   "execution_count": 104,
   "metadata": {},
   "outputs": [
    {
     "data": {
      "image/png": "[encoded data removed]",
      "text/plain": [
       "<Figure size 720x180 with 1 Axes>"
      ]
     },
     "metadata": {
      "needs_background": "light"
     },
     "output_type": "display_data"
    }
   ],
   "source": [
    "plt.subplots(figsize=(10,2.5))\n",
    "sns.barplot(x= metrics_ordered['mse'],y = metrics_ordered['model']);"
   ]
  },
  {
   "cell_type": "code",
   "execution_count": 105,
   "metadata": {},
   "outputs": [
    {
     "data": {
      "image/png": "[encoded data removed]",
      "text/plain": [
       "<Figure size 720x180 with 1 Axes>"
      ]
     },
     "metadata": {
      "needs_background": "light"
     },
     "output_type": "display_data"
    }
   ],
   "source": [
    "plt.subplots(figsize=(10,2.5))\n",
    "sns.barplot(x= metrics_ordered['mae'],y = metrics_ordered['model']);"
   ]
  },
  {
   "cell_type": "code",
   "execution_count": 106,
   "metadata": {},
   "outputs": [
    {
     "data": {
      "image/png": "[encoded data removed]",
      "text/plain": [
       "<Figure size 720x180 with 1 Axes>"
      ]
     },
     "metadata": {
      "needs_background": "light"
     },
     "output_type": "display_data"
    }
   ],
   "source": [
    "plt.subplots(figsize=(10,2.5))\n",
    "sns.barplot(x= metrics_ordered['ev'],y = metrics_ordered['model']);"
   ]
  },
  {
   "cell_type": "code",
   "execution_count": 107,
   "metadata": {},
   "outputs": [
    {
     "data": {
      "image/png": "[encoded data removed]",
      "text/plain": [
       "<Figure size 720x180 with 1 Axes>"
      ]
     },
     "metadata": {
      "needs_background": "light"
     },
     "output_type": "display_data"
    }
   ],
   "source": [
    "plt.subplots(figsize=(10,2.5))\n",
    "sns.barplot(x= metrics_ordered['r2'],y = metrics_ordered['model']);"
   ]
  },
  {
   "cell_type": "markdown",
   "metadata": {},
   "source": [
    "# 3.- Adding lags to features"
   ]
  },
  {
   "cell_type": "code",
   "execution_count": null,
   "metadata": {},
   "outputs": [],
   "source": []
  },
  {
   "cell_type": "code",
   "execution_count": null,
   "metadata": {},
   "outputs": [],
   "source": []
  },
  {
   "cell_type": "code",
   "execution_count": null,
   "metadata": {},
   "outputs": [],
   "source": []
  },
  {
   "cell_type": "markdown",
   "metadata": {},
   "source": [
    "# 4.- Pre clustering"
   ]
  },
  {
   "cell_type": "code",
   "execution_count": null,
   "metadata": {},
   "outputs": [],
   "source": []
  },
  {
   "cell_type": "code",
   "execution_count": null,
   "metadata": {},
   "outputs": [],
   "source": []
  },
  {
   "cell_type": "code",
   "execution_count": null,
   "metadata": {},
   "outputs": [],
   "source": []
  }
 ],
 "metadata": {
  "kernelspec": {
   "display_name": "Python 3",
   "language": "python",
   "name": "python3"
  },
  "language_info": {
   "codemirror_mode": {
    "name": "ipython",
    "version": 3
   },
   "file_extension": ".py",
   "mimetype": "text/x-python",
   "name": "python",
   "nbconvert_exporter": "python",
   "pygments_lexer": "ipython3",
   "version": "3.8.5"
  }
 },
 "nbformat": 4,
 "nbformat_minor": 4
}
