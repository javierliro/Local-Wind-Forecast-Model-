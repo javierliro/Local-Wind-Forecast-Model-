{
 "cells": [
  {
   "cell_type": "markdown",
   "metadata": {},
   "source": [
    "# Feature Engineering + Machine Learning"
   ]
  },
  {
   "cell_type": "markdown",
   "metadata": {},
   "source": [
    "## 0 - Imports libraries and dataframe"
   ]
  },
  {
   "cell_type": "code",
   "execution_count": 1,
   "metadata": {},
   "outputs": [],
   "source": [
    "%config Completer.use_jedi = False \n",
    "\n",
    "\n",
    "# Lbraries imports\n",
    "\n",
    "# Data manipulation\n",
    "\n",
    "import numpy as np\n",
    "import pandas as pd\n",
    "\n",
    "# Visualization \n",
    "\n",
    "import matplotlib.pyplot as plt\n",
    "import seaborn as sns\n",
    "\n",
    "# Machine Learning\n",
    "\n",
    "from sklearn.linear_model import LinearRegression\n",
    "from sklearn.neighbors import KNeighborsRegressor\n",
    "from sklearn.tree import DecisionTreeRegressor\n",
    "from sklearn.ensemble import RandomForestRegressor\n",
    "\n",
    "from sklearn.model_selection import train_test_split\n",
    "\n",
    "from sklearn.metrics import mean_squared_error, mean_absolute_error, explained_variance_score\n",
    "# from sklearn.metrics import mean_absolute_percentage_error\n",
    "\n",
    "\n",
    "from sklearn.preprocessing import StandardScaler\n",
    "\n",
    "from sklearn.model_selection import GridSearchCV\n",
    "\n",
    "from scipy.stats import linregress\n",
    "\n",
    "\n"
   ]
  },
  {
   "cell_type": "code",
   "execution_count": 2,
   "metadata": {
    "scrolled": true
   },
   "outputs": [
    {
     "data": {
      "text/html": [
       "<div>\n",
       "<style scoped>\n",
       "    .dataframe tbody tr th:only-of-type {\n",
       "        vertical-align: middle;\n",
       "    }\n",
       "\n",
       "    .dataframe tbody tr th {\n",
       "        vertical-align: top;\n",
       "    }\n",
       "\n",
       "    .dataframe thead th {\n",
       "        text-align: right;\n",
       "    }\n",
       "</style>\n",
       "<table border=\"1\" class=\"dataframe\">\n",
       "  <thead>\n",
       "    <tr style=\"text-align: right;\">\n",
       "      <th></th>\n",
       "      <th>slice dt iso</th>\n",
       "      <th>lat</th>\n",
       "      <th>lon</th>\n",
       "      <th>temperature</th>\n",
       "      <th>dew_point</th>\n",
       "      <th>pressure</th>\n",
       "      <th>humidity</th>\n",
       "      <th>clouds</th>\n",
       "      <th>wind_speed</th>\n",
       "      <th>wind_deg</th>\n",
       "      <th>...</th>\n",
       "      <th>Direction N-S</th>\n",
       "      <th>Direction E-W</th>\n",
       "      <th>Tarifa_WindGust</th>\n",
       "      <th>Tarifa_Wind</th>\n",
       "      <th>Tarifa_WindDirection</th>\n",
       "      <th>Tarifa_Direction N-S</th>\n",
       "      <th>Tarifa_Direction E-W</th>\n",
       "      <th>delta_Wind</th>\n",
       "      <th>delta_N-S</th>\n",
       "      <th>delta_E-W</th>\n",
       "    </tr>\n",
       "  </thead>\n",
       "  <tbody>\n",
       "    <tr>\n",
       "      <th>0</th>\n",
       "      <td>2019-02-16 09:00:00</td>\n",
       "      <td>36.013158</td>\n",
       "      <td>-5.598892</td>\n",
       "      <td>13.79</td>\n",
       "      <td>11.13</td>\n",
       "      <td>1021.601</td>\n",
       "      <td>83.994</td>\n",
       "      <td>100.0</td>\n",
       "      <td>25.963871</td>\n",
       "      <td>95.202</td>\n",
       "      <td>...</td>\n",
       "      <td>-0.090667</td>\n",
       "      <td>0.995881</td>\n",
       "      <td>35.118709</td>\n",
       "      <td>17.624149</td>\n",
       "      <td>72.0</td>\n",
       "      <td>0.309017</td>\n",
       "      <td>0.951057</td>\n",
       "      <td>-8.339722</td>\n",
       "      <td>0.399684</td>\n",
       "      <td>-0.044825</td>\n",
       "    </tr>\n",
       "    <tr>\n",
       "      <th>1</th>\n",
       "      <td>2019-02-16 12:00:00</td>\n",
       "      <td>36.013158</td>\n",
       "      <td>-5.598892</td>\n",
       "      <td>13.81</td>\n",
       "      <td>11.16</td>\n",
       "      <td>1022.066</td>\n",
       "      <td>84.064</td>\n",
       "      <td>96.0</td>\n",
       "      <td>25.437090</td>\n",
       "      <td>93.856</td>\n",
       "      <td>...</td>\n",
       "      <td>-0.067249</td>\n",
       "      <td>0.997736</td>\n",
       "      <td>35.053915</td>\n",
       "      <td>21.835803</td>\n",
       "      <td>86.0</td>\n",
       "      <td>0.069756</td>\n",
       "      <td>0.997564</td>\n",
       "      <td>-3.601288</td>\n",
       "      <td>0.137006</td>\n",
       "      <td>-0.000172</td>\n",
       "    </tr>\n",
       "    <tr>\n",
       "      <th>2</th>\n",
       "      <td>2019-02-16 15:00:00</td>\n",
       "      <td>36.013158</td>\n",
       "      <td>-5.598892</td>\n",
       "      <td>13.82</td>\n",
       "      <td>11.15</td>\n",
       "      <td>1020.887</td>\n",
       "      <td>83.926</td>\n",
       "      <td>92.0</td>\n",
       "      <td>23.938390</td>\n",
       "      <td>93.883</td>\n",
       "      <td>...</td>\n",
       "      <td>-0.067719</td>\n",
       "      <td>0.997704</td>\n",
       "      <td>34.859531</td>\n",
       "      <td>20.539909</td>\n",
       "      <td>82.0</td>\n",
       "      <td>0.139173</td>\n",
       "      <td>0.990268</td>\n",
       "      <td>-3.398480</td>\n",
       "      <td>0.206892</td>\n",
       "      <td>-0.007436</td>\n",
       "    </tr>\n",
       "    <tr>\n",
       "      <th>3</th>\n",
       "      <td>2019-02-16 18:00:00</td>\n",
       "      <td>36.013158</td>\n",
       "      <td>-5.598892</td>\n",
       "      <td>13.77</td>\n",
       "      <td>11.27</td>\n",
       "      <td>1020.964</td>\n",
       "      <td>84.583</td>\n",
       "      <td>94.0</td>\n",
       "      <td>19.924360</td>\n",
       "      <td>95.812</td>\n",
       "      <td>...</td>\n",
       "      <td>-0.101265</td>\n",
       "      <td>0.994860</td>\n",
       "      <td>35.766656</td>\n",
       "      <td>23.326080</td>\n",
       "      <td>87.0</td>\n",
       "      <td>0.052336</td>\n",
       "      <td>0.998630</td>\n",
       "      <td>3.401720</td>\n",
       "      <td>0.153601</td>\n",
       "      <td>0.003770</td>\n",
       "    </tr>\n",
       "    <tr>\n",
       "      <th>4</th>\n",
       "      <td>2019-02-16 21:00:00</td>\n",
       "      <td>36.013158</td>\n",
       "      <td>-5.598892</td>\n",
       "      <td>13.74</td>\n",
       "      <td>11.24</td>\n",
       "      <td>1022.636</td>\n",
       "      <td>84.845</td>\n",
       "      <td>88.0</td>\n",
       "      <td>16.271885</td>\n",
       "      <td>94.213</td>\n",
       "      <td>...</td>\n",
       "      <td>-0.073464</td>\n",
       "      <td>0.997298</td>\n",
       "      <td>NaN</td>\n",
       "      <td>NaN</td>\n",
       "      <td>83.0</td>\n",
       "      <td>0.121869</td>\n",
       "      <td>0.992546</td>\n",
       "      <td>NaN</td>\n",
       "      <td>0.195334</td>\n",
       "      <td>-0.004752</td>\n",
       "    </tr>\n",
       "    <tr>\n",
       "      <th>...</th>\n",
       "      <td>...</td>\n",
       "      <td>...</td>\n",
       "      <td>...</td>\n",
       "      <td>...</td>\n",
       "      <td>...</td>\n",
       "      <td>...</td>\n",
       "      <td>...</td>\n",
       "      <td>...</td>\n",
       "      <td>...</td>\n",
       "      <td>...</td>\n",
       "      <td>...</td>\n",
       "      <td>...</td>\n",
       "      <td>...</td>\n",
       "      <td>...</td>\n",
       "      <td>...</td>\n",
       "      <td>...</td>\n",
       "      <td>...</td>\n",
       "      <td>...</td>\n",
       "      <td>...</td>\n",
       "      <td>...</td>\n",
       "      <td>...</td>\n",
       "    </tr>\n",
       "    <tr>\n",
       "      <th>6341</th>\n",
       "      <td>2021-05-19 09:00:00</td>\n",
       "      <td>36.013158</td>\n",
       "      <td>-5.598892</td>\n",
       "      <td>23.05</td>\n",
       "      <td>12.91</td>\n",
       "      <td>1018.467</td>\n",
       "      <td>52.600</td>\n",
       "      <td>41.9</td>\n",
       "      <td>1.315980</td>\n",
       "      <td>231.962</td>\n",
       "      <td>...</td>\n",
       "      <td>-0.616184</td>\n",
       "      <td>-0.787602</td>\n",
       "      <td>6.933029</td>\n",
       "      <td>3.239733</td>\n",
       "      <td>249.0</td>\n",
       "      <td>-0.358368</td>\n",
       "      <td>-0.933580</td>\n",
       "      <td>1.923754</td>\n",
       "      <td>0.257816</td>\n",
       "      <td>-0.145978</td>\n",
       "    </tr>\n",
       "    <tr>\n",
       "      <th>6342</th>\n",
       "      <td>2021-05-19 12:00:00</td>\n",
       "      <td>36.013158</td>\n",
       "      <td>-5.598892</td>\n",
       "      <td>24.45</td>\n",
       "      <td>11.55</td>\n",
       "      <td>1018.233</td>\n",
       "      <td>44.200</td>\n",
       "      <td>28.7</td>\n",
       "      <td>4.089839</td>\n",
       "      <td>78.455</td>\n",
       "      <td>...</td>\n",
       "      <td>0.200138</td>\n",
       "      <td>0.979768</td>\n",
       "      <td>20.215936</td>\n",
       "      <td>12.829344</td>\n",
       "      <td>102.0</td>\n",
       "      <td>-0.207912</td>\n",
       "      <td>0.978148</td>\n",
       "      <td>8.739505</td>\n",
       "      <td>-0.408049</td>\n",
       "      <td>-0.001620</td>\n",
       "    </tr>\n",
       "    <tr>\n",
       "      <th>6343</th>\n",
       "      <td>2021-05-19 15:00:00</td>\n",
       "      <td>36.013158</td>\n",
       "      <td>-5.598892</td>\n",
       "      <td>22.65</td>\n",
       "      <td>12.45</td>\n",
       "      <td>1018.215</td>\n",
       "      <td>52.500</td>\n",
       "      <td>25.3</td>\n",
       "      <td>11.151810</td>\n",
       "      <td>68.753</td>\n",
       "      <td>...</td>\n",
       "      <td>0.362389</td>\n",
       "      <td>0.932027</td>\n",
       "      <td>28.768832</td>\n",
       "      <td>17.948123</td>\n",
       "      <td>74.0</td>\n",
       "      <td>0.275637</td>\n",
       "      <td>0.961262</td>\n",
       "      <td>6.796313</td>\n",
       "      <td>-0.086752</td>\n",
       "      <td>0.029235</td>\n",
       "    </tr>\n",
       "    <tr>\n",
       "      <th>6344</th>\n",
       "      <td>2021-05-19 18:00:00</td>\n",
       "      <td>36.013158</td>\n",
       "      <td>-5.598892</td>\n",
       "      <td>19.66</td>\n",
       "      <td>16.55</td>\n",
       "      <td>1018.845</td>\n",
       "      <td>82.600</td>\n",
       "      <td>21.5</td>\n",
       "      <td>11.254834</td>\n",
       "      <td>61.292</td>\n",
       "      <td>...</td>\n",
       "      <td>0.480346</td>\n",
       "      <td>0.877079</td>\n",
       "      <td>27.861707</td>\n",
       "      <td>17.818533</td>\n",
       "      <td>72.0</td>\n",
       "      <td>0.309017</td>\n",
       "      <td>0.951057</td>\n",
       "      <td>6.563700</td>\n",
       "      <td>-0.171329</td>\n",
       "      <td>0.073977</td>\n",
       "    </tr>\n",
       "    <tr>\n",
       "      <th>6345</th>\n",
       "      <td>2021-05-19 21:00:00</td>\n",
       "      <td>36.013158</td>\n",
       "      <td>-5.598892</td>\n",
       "      <td>17.80</td>\n",
       "      <td>17.16</td>\n",
       "      <td>1020.865</td>\n",
       "      <td>96.000</td>\n",
       "      <td>28.3</td>\n",
       "      <td>11.595006</td>\n",
       "      <td>59.161</td>\n",
       "      <td>...</td>\n",
       "      <td>0.512627</td>\n",
       "      <td>0.858611</td>\n",
       "      <td>30.971851</td>\n",
       "      <td>16.587435</td>\n",
       "      <td>69.0</td>\n",
       "      <td>0.358368</td>\n",
       "      <td>0.933580</td>\n",
       "      <td>4.992429</td>\n",
       "      <td>-0.154259</td>\n",
       "      <td>0.074969</td>\n",
       "    </tr>\n",
       "  </tbody>\n",
       "</table>\n",
       "<p>6346 rows × 22 columns</p>\n",
       "</div>"
      ],
      "text/plain": [
       "            slice dt iso        lat       lon  temperature  dew_point  \\\n",
       "0    2019-02-16 09:00:00  36.013158 -5.598892        13.79      11.13   \n",
       "1    2019-02-16 12:00:00  36.013158 -5.598892        13.81      11.16   \n",
       "2    2019-02-16 15:00:00  36.013158 -5.598892        13.82      11.15   \n",
       "3    2019-02-16 18:00:00  36.013158 -5.598892        13.77      11.27   \n",
       "4    2019-02-16 21:00:00  36.013158 -5.598892        13.74      11.24   \n",
       "...                  ...        ...       ...          ...        ...   \n",
       "6341 2021-05-19 09:00:00  36.013158 -5.598892        23.05      12.91   \n",
       "6342 2021-05-19 12:00:00  36.013158 -5.598892        24.45      11.55   \n",
       "6343 2021-05-19 15:00:00  36.013158 -5.598892        22.65      12.45   \n",
       "6344 2021-05-19 18:00:00  36.013158 -5.598892        19.66      16.55   \n",
       "6345 2021-05-19 21:00:00  36.013158 -5.598892        17.80      17.16   \n",
       "\n",
       "      pressure  humidity  clouds  wind_speed  wind_deg  ...  Direction N-S  \\\n",
       "0     1021.601    83.994   100.0   25.963871    95.202  ...      -0.090667   \n",
       "1     1022.066    84.064    96.0   25.437090    93.856  ...      -0.067249   \n",
       "2     1020.887    83.926    92.0   23.938390    93.883  ...      -0.067719   \n",
       "3     1020.964    84.583    94.0   19.924360    95.812  ...      -0.101265   \n",
       "4     1022.636    84.845    88.0   16.271885    94.213  ...      -0.073464   \n",
       "...        ...       ...     ...         ...       ...  ...            ...   \n",
       "6341  1018.467    52.600    41.9    1.315980   231.962  ...      -0.616184   \n",
       "6342  1018.233    44.200    28.7    4.089839    78.455  ...       0.200138   \n",
       "6343  1018.215    52.500    25.3   11.151810    68.753  ...       0.362389   \n",
       "6344  1018.845    82.600    21.5   11.254834    61.292  ...       0.480346   \n",
       "6345  1020.865    96.000    28.3   11.595006    59.161  ...       0.512627   \n",
       "\n",
       "      Direction E-W  Tarifa_WindGust  Tarifa_Wind  Tarifa_WindDirection  \\\n",
       "0          0.995881        35.118709    17.624149                  72.0   \n",
       "1          0.997736        35.053915    21.835803                  86.0   \n",
       "2          0.997704        34.859531    20.539909                  82.0   \n",
       "3          0.994860        35.766656    23.326080                  87.0   \n",
       "4          0.997298              NaN          NaN                  83.0   \n",
       "...             ...              ...          ...                   ...   \n",
       "6341      -0.787602         6.933029     3.239733                 249.0   \n",
       "6342       0.979768        20.215936    12.829344                 102.0   \n",
       "6343       0.932027        28.768832    17.948123                  74.0   \n",
       "6344       0.877079        27.861707    17.818533                  72.0   \n",
       "6345       0.858611        30.971851    16.587435                  69.0   \n",
       "\n",
       "      Tarifa_Direction N-S  Tarifa_Direction E-W  delta_Wind  delta_N-S  \\\n",
       "0                 0.309017              0.951057   -8.339722   0.399684   \n",
       "1                 0.069756              0.997564   -3.601288   0.137006   \n",
       "2                 0.139173              0.990268   -3.398480   0.206892   \n",
       "3                 0.052336              0.998630    3.401720   0.153601   \n",
       "4                 0.121869              0.992546         NaN   0.195334   \n",
       "...                    ...                   ...         ...        ...   \n",
       "6341             -0.358368             -0.933580    1.923754   0.257816   \n",
       "6342             -0.207912              0.978148    8.739505  -0.408049   \n",
       "6343              0.275637              0.961262    6.796313  -0.086752   \n",
       "6344              0.309017              0.951057    6.563700  -0.171329   \n",
       "6345              0.358368              0.933580    4.992429  -0.154259   \n",
       "\n",
       "      delta_E-W  \n",
       "0     -0.044825  \n",
       "1     -0.000172  \n",
       "2     -0.007436  \n",
       "3      0.003770  \n",
       "4     -0.004752  \n",
       "...         ...  \n",
       "6341  -0.145978  \n",
       "6342  -0.001620  \n",
       "6343   0.029235  \n",
       "6344   0.073977  \n",
       "6345   0.074969  \n",
       "\n",
       "[6346 rows x 22 columns]"
      ]
     },
     "execution_count": 2,
     "metadata": {},
     "output_type": "execute_result"
    }
   ],
   "source": [
    "pd.set_option('display.max_columns', 20, 'display.max_rows',30)\n",
    "\n",
    "df = pd.read_csv('Data/windProject_4ML.csv')\n",
    "df['slice dt iso'] = pd.to_datetime(df['slice dt iso'])\n",
    "\n",
    "df"
   ]
  },
  {
   "cell_type": "markdown",
   "metadata": {},
   "source": [
    "## 1 - NaN/Nulls Values Treatment\n",
    "\n",
    "Just one last step now that we have dropped few columns that are not interesed or can prvoce noise in our project,we can do a small paragraph and handle NaN / Null values before starting with machine learning "
   ]
  },
  {
   "cell_type": "code",
   "execution_count": 3,
   "metadata": {},
   "outputs": [
    {
     "data": {
      "text/plain": [
       "slice dt iso              0\n",
       "lat                       0\n",
       "lon                       0\n",
       "temperature               0\n",
       "dew_point                 0\n",
       "pressure                  0\n",
       "humidity                  0\n",
       "clouds                  793\n",
       "wind_speed                0\n",
       "wind_deg                  0\n",
       "rain                    120\n",
       "convective              793\n",
       "Direction N-S             0\n",
       "Direction E-W             0\n",
       "Tarifa_WindGust          29\n",
       "Tarifa_Wind              19\n",
       "Tarifa_WindDirection     17\n",
       "Tarifa_Direction N-S     17\n",
       "Tarifa_Direction E-W     17\n",
       "delta_Wind               19\n",
       "delta_N-S                17\n",
       "delta_E-W                17\n",
       "dtype: int64"
      ]
     },
     "execution_count": 3,
     "metadata": {},
     "output_type": "execute_result"
    }
   ],
   "source": [
    "df.isna().sum()"
   ]
  },
  {
   "cell_type": "markdown",
   "metadata": {},
   "source": [
    "### 1.1 - Tarifa Wind NaN"
   ]
  },
  {
   "cell_type": "code",
   "execution_count": 4,
   "metadata": {
    "scrolled": true
   },
   "outputs": [
    {
     "data": {
      "text/plain": [
       "Int64Index([4, 5, 6, 7, 8, 9, 10, 11, 12, 13, 14, 15, 17, 18, 19, 20, 21, 22,\n",
       "            23],\n",
       "           dtype='int64')"
      ]
     },
     "execution_count": 4,
     "metadata": {},
     "output_type": "execute_result"
    }
   ],
   "source": [
    "df[df['Tarifa_Wind'].isna()==True].index"
   ]
  },
  {
   "cell_type": "markdown",
   "metadata": {},
   "source": [
    "**Strategy:**\n",
    "\n",
    "- Tarifa Wind NaN - This is the meassurement for the weather station, they are consecutive registers, probably due to a problem in the station. If they were distributed we couuld filled them with the forecast wind, but cause they are all consecutive and in a two days period, giving them an aritifical value just give us more artificial accuracy in the artificial model. Also they are 19 cases out of 6346 (0.2%) so we opt for delleting all the registers for that two days. "
   ]
  },
  {
   "cell_type": "code",
   "execution_count": 5,
   "metadata": {},
   "outputs": [],
   "source": [
    "df.dropna(subset=['Tarifa_Wind'], inplace=True)\n",
    "df.reset_index(drop=True, inplace=True)"
   ]
  },
  {
   "cell_type": "markdown",
   "metadata": {},
   "source": [
    "### 1.2 - Wind direction"
   ]
  },
  {
   "cell_type": "code",
   "execution_count": 6,
   "metadata": {},
   "outputs": [
    {
     "data": {
      "text/plain": [
       "slice dt iso              0\n",
       "lat                       0\n",
       "lon                       0\n",
       "temperature               0\n",
       "dew_point                 0\n",
       "pressure                  0\n",
       "humidity                  0\n",
       "clouds                  790\n",
       "wind_speed                0\n",
       "wind_deg                  0\n",
       "rain                    117\n",
       "convective              790\n",
       "Direction N-S             0\n",
       "Direction E-W             0\n",
       "Tarifa_WindGust          10\n",
       "Tarifa_Wind               0\n",
       "Tarifa_WindDirection     11\n",
       "Tarifa_Direction N-S     11\n",
       "Tarifa_Direction E-W     11\n",
       "delta_Wind                0\n",
       "delta_N-S                11\n",
       "delta_E-W                11\n",
       "dtype: int64"
      ]
     },
     "execution_count": 6,
     "metadata": {},
     "output_type": "execute_result"
    }
   ],
   "source": [
    "df.isna().sum()"
   ]
  },
  {
   "cell_type": "code",
   "execution_count": 7,
   "metadata": {},
   "outputs": [
    {
     "data": {
      "text/plain": [
       "Int64Index([6, 3262, 3263, 3264, 3265, 3266, 3267, 3268, 3269, 3270, 3271], dtype='int64')"
      ]
     },
     "execution_count": 7,
     "metadata": {},
     "output_type": "execute_result"
    }
   ],
   "source": [
    "df[df['Tarifa_WindDirection'].isna()==True].index"
   ]
  },
  {
   "cell_type": "code",
   "execution_count": 8,
   "metadata": {},
   "outputs": [
    {
     "data": {
      "text/plain": [
       "Int64Index([3262, 3263, 3264, 3265, 3266, 3267, 3268, 3269, 3270, 3271], dtype='int64')"
      ]
     },
     "execution_count": 8,
     "metadata": {},
     "output_type": "execute_result"
    }
   ],
   "source": [
    "df[df['Tarifa_WindGust'].isna()==True].index"
   ]
  },
  {
   "cell_type": "code",
   "execution_count": 9,
   "metadata": {},
   "outputs": [
    {
     "data": {
      "image/png": "[encoded data removed]",
      "text/plain": [
       "<Figure size 432x288 with 1 Axes>"
      ]
     },
     "metadata": {
      "needs_background": "light"
     },
     "output_type": "display_data"
    }
   ],
   "source": [
    "sns.boxenplot(x=df['delta_Wind']);"
   ]
  },
  {
   "cell_type": "markdown",
   "metadata": {},
   "source": [
    "**Strategy:**\n",
    "\n",
    "- Tarifa Wind direction (and artifical created variables N/S E/O and compass) . We have just 11 missing values. The boxplot above shows that the deviation is generally less than ~10º and it s centered on 0º so we can approximate that registers with the forecast wind direction by that time, then we dont loose information and we are not affecting signifcatnly the data. "
   ]
  },
  {
   "cell_type": "code",
   "execution_count": 10,
   "metadata": {},
   "outputs": [],
   "source": [
    "df['Tarifa_WindDirection'].fillna(df['wind_deg'], inplace=True)\n",
    "df['Tarifa_Direction N-S'].fillna(df['Direction N-S'], inplace=True)\n",
    "df['Tarifa_Direction E-W'].fillna(df['Direction E-W'], inplace=True)"
   ]
  },
  {
   "cell_type": "code",
   "execution_count": 11,
   "metadata": {},
   "outputs": [],
   "source": [
    "df['delta_Wind'] = df['Tarifa_Wind']-df['wind_speed']\n",
    "df['delta_N-S'] = df['Tarifa_Direction N-S'] - df['Direction N-S'] \n",
    "df['delta_E-W'] = df['Tarifa_Direction E-W'] - df['Direction E-W']"
   ]
  },
  {
   "cell_type": "code",
   "execution_count": 12,
   "metadata": {},
   "outputs": [
    {
     "data": {
      "text/plain": [
       "slice dt iso              0\n",
       "lat                       0\n",
       "lon                       0\n",
       "temperature               0\n",
       "dew_point                 0\n",
       "pressure                  0\n",
       "humidity                  0\n",
       "clouds                  790\n",
       "wind_speed                0\n",
       "wind_deg                  0\n",
       "rain                    117\n",
       "convective              790\n",
       "Direction N-S             0\n",
       "Direction E-W             0\n",
       "Tarifa_WindGust          10\n",
       "Tarifa_Wind               0\n",
       "Tarifa_WindDirection      0\n",
       "Tarifa_Direction N-S      0\n",
       "Tarifa_Direction E-W      0\n",
       "delta_Wind                0\n",
       "delta_N-S                 0\n",
       "delta_E-W                 0\n",
       "dtype: int64"
      ]
     },
     "execution_count": 12,
     "metadata": {},
     "output_type": "execute_result"
    }
   ],
   "source": [
    "df.isna().sum()"
   ]
  },
  {
   "cell_type": "markdown",
   "metadata": {},
   "source": [
    "### 1.3 - Tarifa WindGust \n",
    "\n",
    "* **Strategy:** has a strong linear relation with wind, then we do a fast linear regression to fill the missing values based on the linear regression."
   ]
  },
  {
   "cell_type": "code",
   "execution_count": 13,
   "metadata": {},
   "outputs": [
    {
     "data": {
      "image/png": "[encoded data removed]",
      "text/plain": [
       "<Figure size 432x288 with 1 Axes>"
      ]
     },
     "metadata": {
      "needs_background": "light"
     },
     "output_type": "display_data"
    }
   ],
   "source": [
    "plt.scatter(y = df['Tarifa_WindGust'],x = df['Tarifa_Wind']);"
   ]
  },
  {
   "cell_type": "code",
   "execution_count": 14,
   "metadata": {},
   "outputs": [
    {
     "data": {
      "text/plain": [
       "LinregressResult(slope=1.5001229469033877, intercept=2.3636408838850045, rvalue=0.9811683750312549, pvalue=0.0, stderr=0.003972669756927271)"
      ]
     },
     "execution_count": 14,
     "metadata": {},
     "output_type": "execute_result"
    }
   ],
   "source": [
    "\n",
    "\n",
    "linregress(df.dropna()['Tarifa_Wind'], df.dropna()['Tarifa_WindGust'])"
   ]
  },
  {
   "cell_type": "code",
   "execution_count": 15,
   "metadata": {},
   "outputs": [],
   "source": [
    "df['Tarifa_WindGust'].fillna(df['Tarifa_Wind']*1.5+2.36, inplace=True)"
   ]
  },
  {
   "cell_type": "code",
   "execution_count": 16,
   "metadata": {},
   "outputs": [
    {
     "data": {
      "text/plain": [
       "slice dt iso              0\n",
       "lat                       0\n",
       "lon                       0\n",
       "temperature               0\n",
       "dew_point                 0\n",
       "pressure                  0\n",
       "humidity                  0\n",
       "clouds                  790\n",
       "wind_speed                0\n",
       "wind_deg                  0\n",
       "rain                    117\n",
       "convective              790\n",
       "Direction N-S             0\n",
       "Direction E-W             0\n",
       "Tarifa_WindGust           0\n",
       "Tarifa_Wind               0\n",
       "Tarifa_WindDirection      0\n",
       "Tarifa_Direction N-S      0\n",
       "Tarifa_Direction E-W      0\n",
       "delta_Wind                0\n",
       "delta_N-S                 0\n",
       "delta_E-W                 0\n",
       "dtype: int64"
      ]
     },
     "execution_count": 16,
     "metadata": {},
     "output_type": "execute_result"
    }
   ],
   "source": [
    "df.isna().sum()"
   ]
  },
  {
   "cell_type": "markdown",
   "metadata": {},
   "source": [
    "### 1.4 - Rain"
   ]
  },
  {
   "cell_type": "code",
   "execution_count": 17,
   "metadata": {
    "scrolled": true
   },
   "outputs": [
    {
     "data": {
      "text/html": [
       "<div>\n",
       "<style scoped>\n",
       "    .dataframe tbody tr th:only-of-type {\n",
       "        vertical-align: middle;\n",
       "    }\n",
       "\n",
       "    .dataframe tbody tr th {\n",
       "        vertical-align: top;\n",
       "    }\n",
       "\n",
       "    .dataframe thead th {\n",
       "        text-align: right;\n",
       "    }\n",
       "</style>\n",
       "<table border=\"1\" class=\"dataframe\">\n",
       "  <thead>\n",
       "    <tr style=\"text-align: right;\">\n",
       "      <th></th>\n",
       "      <th>slice dt iso</th>\n",
       "      <th>lat</th>\n",
       "      <th>lon</th>\n",
       "      <th>temperature</th>\n",
       "      <th>dew_point</th>\n",
       "      <th>pressure</th>\n",
       "      <th>humidity</th>\n",
       "      <th>clouds</th>\n",
       "      <th>wind_speed</th>\n",
       "      <th>wind_deg</th>\n",
       "      <th>...</th>\n",
       "      <th>Direction N-S</th>\n",
       "      <th>Direction E-W</th>\n",
       "      <th>Tarifa_WindGust</th>\n",
       "      <th>Tarifa_Wind</th>\n",
       "      <th>Tarifa_WindDirection</th>\n",
       "      <th>Tarifa_Direction N-S</th>\n",
       "      <th>Tarifa_Direction E-W</th>\n",
       "      <th>delta_Wind</th>\n",
       "      <th>delta_N-S</th>\n",
       "      <th>delta_E-W</th>\n",
       "    </tr>\n",
       "  </thead>\n",
       "  <tbody>\n",
       "    <tr>\n",
       "      <th>10</th>\n",
       "      <td>2019-02-20</td>\n",
       "      <td>36.013158</td>\n",
       "      <td>-5.598892</td>\n",
       "      <td>12.54</td>\n",
       "      <td>10.52</td>\n",
       "      <td>1021.143</td>\n",
       "      <td>87.831</td>\n",
       "      <td>NaN</td>\n",
       "      <td>8.564559</td>\n",
       "      <td>78.387</td>\n",
       "      <td>...</td>\n",
       "      <td>0.201300</td>\n",
       "      <td>0.979530</td>\n",
       "      <td>24.492384</td>\n",
       "      <td>15.421131</td>\n",
       "      <td>87.0</td>\n",
       "      <td>0.052336</td>\n",
       "      <td>0.998630</td>\n",
       "      <td>6.856572</td>\n",
       "      <td>-0.148964</td>\n",
       "      <td>0.019100</td>\n",
       "    </tr>\n",
       "    <tr>\n",
       "      <th>18</th>\n",
       "      <td>2019-02-21</td>\n",
       "      <td>36.013158</td>\n",
       "      <td>-5.598892</td>\n",
       "      <td>12.99</td>\n",
       "      <td>11.06</td>\n",
       "      <td>1024.057</td>\n",
       "      <td>88.100</td>\n",
       "      <td>NaN</td>\n",
       "      <td>15.274695</td>\n",
       "      <td>82.085</td>\n",
       "      <td>...</td>\n",
       "      <td>0.137704</td>\n",
       "      <td>0.990473</td>\n",
       "      <td>32.915691</td>\n",
       "      <td>20.539909</td>\n",
       "      <td>77.0</td>\n",
       "      <td>0.224951</td>\n",
       "      <td>0.974370</td>\n",
       "      <td>5.265215</td>\n",
       "      <td>0.087247</td>\n",
       "      <td>-0.016103</td>\n",
       "    </tr>\n",
       "    <tr>\n",
       "      <th>26</th>\n",
       "      <td>2019-02-22</td>\n",
       "      <td>36.013158</td>\n",
       "      <td>-5.598892</td>\n",
       "      <td>12.71</td>\n",
       "      <td>11.02</td>\n",
       "      <td>1029.674</td>\n",
       "      <td>89.551</td>\n",
       "      <td>NaN</td>\n",
       "      <td>14.932579</td>\n",
       "      <td>78.999</td>\n",
       "      <td>...</td>\n",
       "      <td>0.190826</td>\n",
       "      <td>0.981624</td>\n",
       "      <td>30.971851</td>\n",
       "      <td>18.725659</td>\n",
       "      <td>74.0</td>\n",
       "      <td>0.275637</td>\n",
       "      <td>0.961262</td>\n",
       "      <td>3.793080</td>\n",
       "      <td>0.084811</td>\n",
       "      <td>-0.020362</td>\n",
       "    </tr>\n",
       "    <tr>\n",
       "      <th>34</th>\n",
       "      <td>2019-02-23</td>\n",
       "      <td>36.013158</td>\n",
       "      <td>-5.598892</td>\n",
       "      <td>12.22</td>\n",
       "      <td>10.06</td>\n",
       "      <td>1029.572</td>\n",
       "      <td>86.651</td>\n",
       "      <td>NaN</td>\n",
       "      <td>6.756788</td>\n",
       "      <td>81.364</td>\n",
       "      <td>...</td>\n",
       "      <td>0.150157</td>\n",
       "      <td>0.988662</td>\n",
       "      <td>23.002107</td>\n",
       "      <td>14.125237</td>\n",
       "      <td>76.0</td>\n",
       "      <td>0.241922</td>\n",
       "      <td>0.970296</td>\n",
       "      <td>7.368449</td>\n",
       "      <td>0.091765</td>\n",
       "      <td>-0.018367</td>\n",
       "    </tr>\n",
       "    <tr>\n",
       "      <th>42</th>\n",
       "      <td>2019-02-24</td>\n",
       "      <td>36.013158</td>\n",
       "      <td>-5.598892</td>\n",
       "      <td>13.71</td>\n",
       "      <td>8.22</td>\n",
       "      <td>1026.179</td>\n",
       "      <td>69.222</td>\n",
       "      <td>NaN</td>\n",
       "      <td>3.491137</td>\n",
       "      <td>271.500</td>\n",
       "      <td>...</td>\n",
       "      <td>0.026177</td>\n",
       "      <td>-0.999657</td>\n",
       "      <td>4.017269</td>\n",
       "      <td>1.943840</td>\n",
       "      <td>23.0</td>\n",
       "      <td>0.920505</td>\n",
       "      <td>0.390731</td>\n",
       "      <td>-1.547297</td>\n",
       "      <td>0.894328</td>\n",
       "      <td>1.390388</td>\n",
       "    </tr>\n",
       "    <tr>\n",
       "      <th>...</th>\n",
       "      <td>...</td>\n",
       "      <td>...</td>\n",
       "      <td>...</td>\n",
       "      <td>...</td>\n",
       "      <td>...</td>\n",
       "      <td>...</td>\n",
       "      <td>...</td>\n",
       "      <td>...</td>\n",
       "      <td>...</td>\n",
       "      <td>...</td>\n",
       "      <td>...</td>\n",
       "      <td>...</td>\n",
       "      <td>...</td>\n",
       "      <td>...</td>\n",
       "      <td>...</td>\n",
       "      <td>...</td>\n",
       "      <td>...</td>\n",
       "      <td>...</td>\n",
       "      <td>...</td>\n",
       "      <td>...</td>\n",
       "      <td>...</td>\n",
       "    </tr>\n",
       "    <tr>\n",
       "      <th>898</th>\n",
       "      <td>2019-06-12</td>\n",
       "      <td>36.013158</td>\n",
       "      <td>-5.598892</td>\n",
       "      <td>16.65</td>\n",
       "      <td>14.45</td>\n",
       "      <td>1010.989</td>\n",
       "      <td>86.700</td>\n",
       "      <td>NaN</td>\n",
       "      <td>7.956137</td>\n",
       "      <td>250.060</td>\n",
       "      <td>...</td>\n",
       "      <td>-0.341036</td>\n",
       "      <td>-0.940050</td>\n",
       "      <td>9.006459</td>\n",
       "      <td>4.730011</td>\n",
       "      <td>290.0</td>\n",
       "      <td>0.342020</td>\n",
       "      <td>-0.939693</td>\n",
       "      <td>-3.226126</td>\n",
       "      <td>0.683056</td>\n",
       "      <td>0.000358</td>\n",
       "    </tr>\n",
       "    <tr>\n",
       "      <th>914</th>\n",
       "      <td>2019-06-14</td>\n",
       "      <td>36.013158</td>\n",
       "      <td>-5.598892</td>\n",
       "      <td>17.13</td>\n",
       "      <td>13.85</td>\n",
       "      <td>1014.610</td>\n",
       "      <td>80.800</td>\n",
       "      <td>NaN</td>\n",
       "      <td>9.779459</td>\n",
       "      <td>247.008</td>\n",
       "      <td>...</td>\n",
       "      <td>-0.390603</td>\n",
       "      <td>-0.920559</td>\n",
       "      <td>18.531275</td>\n",
       "      <td>11.922219</td>\n",
       "      <td>228.0</td>\n",
       "      <td>-0.669131</td>\n",
       "      <td>-0.743145</td>\n",
       "      <td>2.142760</td>\n",
       "      <td>-0.278528</td>\n",
       "      <td>0.177415</td>\n",
       "    </tr>\n",
       "    <tr>\n",
       "      <th>922</th>\n",
       "      <td>2019-06-15</td>\n",
       "      <td>36.013158</td>\n",
       "      <td>-5.598892</td>\n",
       "      <td>15.15</td>\n",
       "      <td>11.55</td>\n",
       "      <td>1019.531</td>\n",
       "      <td>79.700</td>\n",
       "      <td>NaN</td>\n",
       "      <td>10.955482</td>\n",
       "      <td>278.551</td>\n",
       "      <td>...</td>\n",
       "      <td>0.148690</td>\n",
       "      <td>-0.988884</td>\n",
       "      <td>10.043173</td>\n",
       "      <td>5.831520</td>\n",
       "      <td>315.0</td>\n",
       "      <td>0.707107</td>\n",
       "      <td>-0.707107</td>\n",
       "      <td>-5.123962</td>\n",
       "      <td>0.558417</td>\n",
       "      <td>0.281777</td>\n",
       "    </tr>\n",
       "    <tr>\n",
       "      <th>930</th>\n",
       "      <td>2019-06-16</td>\n",
       "      <td>36.013158</td>\n",
       "      <td>-5.598892</td>\n",
       "      <td>15.95</td>\n",
       "      <td>12.17</td>\n",
       "      <td>1017.110</td>\n",
       "      <td>77.800</td>\n",
       "      <td>NaN</td>\n",
       "      <td>6.080332</td>\n",
       "      <td>265.343</td>\n",
       "      <td>...</td>\n",
       "      <td>-0.081191</td>\n",
       "      <td>-0.996699</td>\n",
       "      <td>6.868235</td>\n",
       "      <td>3.110144</td>\n",
       "      <td>261.0</td>\n",
       "      <td>-0.156434</td>\n",
       "      <td>-0.987688</td>\n",
       "      <td>-2.970188</td>\n",
       "      <td>-0.075244</td>\n",
       "      <td>0.009010</td>\n",
       "    </tr>\n",
       "    <tr>\n",
       "      <th>938</th>\n",
       "      <td>2019-06-17</td>\n",
       "      <td>36.013158</td>\n",
       "      <td>-5.598892</td>\n",
       "      <td>16.33</td>\n",
       "      <td>14.73</td>\n",
       "      <td>1018.896</td>\n",
       "      <td>90.600</td>\n",
       "      <td>NaN</td>\n",
       "      <td>4.680767</td>\n",
       "      <td>36.199</td>\n",
       "      <td>...</td>\n",
       "      <td>0.806971</td>\n",
       "      <td>0.590592</td>\n",
       "      <td>9.330432</td>\n",
       "      <td>6.025904</td>\n",
       "      <td>87.0</td>\n",
       "      <td>0.052336</td>\n",
       "      <td>0.998630</td>\n",
       "      <td>1.345137</td>\n",
       "      <td>-0.754635</td>\n",
       "      <td>0.408038</td>\n",
       "    </tr>\n",
       "  </tbody>\n",
       "</table>\n",
       "<p>117 rows × 22 columns</p>\n",
       "</div>"
      ],
      "text/plain": [
       "    slice dt iso        lat       lon  temperature  dew_point  pressure  \\\n",
       "10    2019-02-20  36.013158 -5.598892        12.54      10.52  1021.143   \n",
       "18    2019-02-21  36.013158 -5.598892        12.99      11.06  1024.057   \n",
       "26    2019-02-22  36.013158 -5.598892        12.71      11.02  1029.674   \n",
       "34    2019-02-23  36.013158 -5.598892        12.22      10.06  1029.572   \n",
       "42    2019-02-24  36.013158 -5.598892        13.71       8.22  1026.179   \n",
       "..           ...        ...       ...          ...        ...       ...   \n",
       "898   2019-06-12  36.013158 -5.598892        16.65      14.45  1010.989   \n",
       "914   2019-06-14  36.013158 -5.598892        17.13      13.85  1014.610   \n",
       "922   2019-06-15  36.013158 -5.598892        15.15      11.55  1019.531   \n",
       "930   2019-06-16  36.013158 -5.598892        15.95      12.17  1017.110   \n",
       "938   2019-06-17  36.013158 -5.598892        16.33      14.73  1018.896   \n",
       "\n",
       "     humidity  clouds  wind_speed  wind_deg  ...  Direction N-S  \\\n",
       "10     87.831     NaN    8.564559    78.387  ...       0.201300   \n",
       "18     88.100     NaN   15.274695    82.085  ...       0.137704   \n",
       "26     89.551     NaN   14.932579    78.999  ...       0.190826   \n",
       "34     86.651     NaN    6.756788    81.364  ...       0.150157   \n",
       "42     69.222     NaN    3.491137   271.500  ...       0.026177   \n",
       "..        ...     ...         ...       ...  ...            ...   \n",
       "898    86.700     NaN    7.956137   250.060  ...      -0.341036   \n",
       "914    80.800     NaN    9.779459   247.008  ...      -0.390603   \n",
       "922    79.700     NaN   10.955482   278.551  ...       0.148690   \n",
       "930    77.800     NaN    6.080332   265.343  ...      -0.081191   \n",
       "938    90.600     NaN    4.680767    36.199  ...       0.806971   \n",
       "\n",
       "     Direction E-W  Tarifa_WindGust  Tarifa_Wind  Tarifa_WindDirection  \\\n",
       "10        0.979530        24.492384    15.421131                  87.0   \n",
       "18        0.990473        32.915691    20.539909                  77.0   \n",
       "26        0.981624        30.971851    18.725659                  74.0   \n",
       "34        0.988662        23.002107    14.125237                  76.0   \n",
       "42       -0.999657         4.017269     1.943840                  23.0   \n",
       "..             ...              ...          ...                   ...   \n",
       "898      -0.940050         9.006459     4.730011                 290.0   \n",
       "914      -0.920559        18.531275    11.922219                 228.0   \n",
       "922      -0.988884        10.043173     5.831520                 315.0   \n",
       "930      -0.996699         6.868235     3.110144                 261.0   \n",
       "938       0.590592         9.330432     6.025904                  87.0   \n",
       "\n",
       "     Tarifa_Direction N-S  Tarifa_Direction E-W  delta_Wind  delta_N-S  \\\n",
       "10               0.052336              0.998630    6.856572  -0.148964   \n",
       "18               0.224951              0.974370    5.265215   0.087247   \n",
       "26               0.275637              0.961262    3.793080   0.084811   \n",
       "34               0.241922              0.970296    7.368449   0.091765   \n",
       "42               0.920505              0.390731   -1.547297   0.894328   \n",
       "..                    ...                   ...         ...        ...   \n",
       "898              0.342020             -0.939693   -3.226126   0.683056   \n",
       "914             -0.669131             -0.743145    2.142760  -0.278528   \n",
       "922              0.707107             -0.707107   -5.123962   0.558417   \n",
       "930             -0.156434             -0.987688   -2.970188  -0.075244   \n",
       "938              0.052336              0.998630    1.345137  -0.754635   \n",
       "\n",
       "     delta_E-W  \n",
       "10    0.019100  \n",
       "18   -0.016103  \n",
       "26   -0.020362  \n",
       "34   -0.018367  \n",
       "42    1.390388  \n",
       "..         ...  \n",
       "898   0.000358  \n",
       "914   0.177415  \n",
       "922   0.281777  \n",
       "930   0.009010  \n",
       "938   0.408038  \n",
       "\n",
       "[117 rows x 22 columns]"
      ]
     },
     "execution_count": 17,
     "metadata": {},
     "output_type": "execute_result"
    }
   ],
   "source": [
    "mask = df['rain'].isna()\n",
    "df[mask]"
   ]
  },
  {
   "cell_type": "code",
   "execution_count": 18,
   "metadata": {},
   "outputs": [
    {
     "name": "stdout",
     "output_type": "stream",
     "text": [
      "median:  0.0 \n",
      "mean : 0.21884959742351004\n",
      "percentage of 3h slice without rain 77.9 %\n",
      "\n"
     ]
    },
    {
     "data": {
      "image/png": "[encoded data removed]",
      "text/plain": [
       "<Figure size 432x288 with 1 Axes>"
      ]
     },
     "metadata": {
      "needs_background": "light"
     },
     "output_type": "display_data"
    }
   ],
   "source": [
    "plt.hist(df['rain'], bins=10, range = (0,1));\n",
    "print(\"median: \" , df['rain'].median(),\"\\nmean :\", df['rain'].mean())\n",
    "print(\"percentage of 3h slice without rain\", round (df[df['rain']==0]['rain'].count()/len(df)*100,1) , \"%\\n\")"
   ]
  },
  {
   "cell_type": "markdown",
   "metadata": {},
   "source": [
    "- **Strategy** Because 77.9 % of 3h slices has no rain, we better approximate the NaN in rain with the median 0.0 than with the mean value, what would imply commiting sistematic error in 77.9 % of the cases in average. In the 22.1 % of the cases where there should be rain and we fill the na with 0.0 rain we would have a deviation of 0,21 from the mean value. "
   ]
  },
  {
   "cell_type": "code",
   "execution_count": 19,
   "metadata": {},
   "outputs": [],
   "source": [
    "df['rain'].fillna(0, inplace=True)"
   ]
  },
  {
   "cell_type": "markdown",
   "metadata": {},
   "source": [
    "### 1.5 - Clouds"
   ]
  },
  {
   "cell_type": "code",
   "execution_count": 20,
   "metadata": {},
   "outputs": [
    {
     "data": {
      "image/png": "[encoded data removed]",
      "text/plain": [
       "<Figure size 360x360 with 1 Axes>"
      ]
     },
     "metadata": {
      "needs_background": "light"
     },
     "output_type": "display_data"
    }
   ],
   "source": [
    "sns.displot(df['clouds']);"
   ]
  },
  {
   "cell_type": "code",
   "execution_count": 21,
   "metadata": {},
   "outputs": [
    {
     "name": "stdout",
     "output_type": "stream",
     "text": [
      "median:  33.0 % ; mean:  42.71 %\n",
      "average clouds when no rain 33.9 %\n",
      "average clouds when it is rainy 75.96 %\n"
     ]
    },
    {
     "data": {
      "image/png": "[encoded data removed]",
      "text/plain": [
       "<Figure size 432x432 with 3 Axes>"
      ]
     },
     "metadata": {
      "needs_background": "light"
     },
     "output_type": "display_data"
    }
   ],
   "source": [
    "sns.jointplot(x=df['clouds'],y=df['rain'], kind = 'kde', fill = True, xlim=(0,100),  ylim=(0,2.5));\n",
    "print(\"median: \", df['clouds'].median(), \"%\", \"; mean: \", round(df['clouds'].mean(),2), \"%\")\n",
    "print(\"average clouds when no rain\", round (df[df['rain']==0]['clouds'].mean(),2), \"%\")\n",
    "print(\"average clouds when it is rainy\", round(df[df['rain']!=0]['clouds'].mean(),2), \"%\")"
   ]
  },
  {
   "cell_type": "markdown",
   "metadata": {},
   "source": [
    "- **Strategy** We are going to fill the na in clouds with this values:\n",
    "\n",
    "average clouds when no rain 33.9 %\n",
    "average clouds when it is rainy 75.96 %\n"
   ]
  },
  {
   "cell_type": "code",
   "execution_count": 22,
   "metadata": {},
   "outputs": [],
   "source": [
    "mask = df['clouds'].isna()\n",
    "df[mask].index\n",
    "for i in df[mask].index:\n",
    "    if df.loc[i,'rain']==0:\n",
    "        df.loc[i,'clouds'] = 33.9\n",
    "    else:\n",
    "        df.loc[i,'clouds'] = 75.96"
   ]
  },
  {
   "cell_type": "markdown",
   "metadata": {},
   "source": [
    "* **convective**"
   ]
  },
  {
   "cell_type": "code",
   "execution_count": 23,
   "metadata": {},
   "outputs": [
    {
     "data": {
      "text/plain": [
       "slice dt iso              0\n",
       "lat                       0\n",
       "lon                       0\n",
       "temperature               0\n",
       "dew_point                 0\n",
       "pressure                  0\n",
       "humidity                  0\n",
       "clouds                    0\n",
       "wind_speed                0\n",
       "wind_deg                  0\n",
       "rain                      0\n",
       "convective              790\n",
       "Direction N-S             0\n",
       "Direction E-W             0\n",
       "Tarifa_WindGust           0\n",
       "Tarifa_Wind               0\n",
       "Tarifa_WindDirection      0\n",
       "Tarifa_Direction N-S      0\n",
       "Tarifa_Direction E-W      0\n",
       "delta_Wind                0\n",
       "delta_N-S                 0\n",
       "delta_E-W                 0\n",
       "dtype: int64"
      ]
     },
     "execution_count": 23,
     "metadata": {},
     "output_type": "execute_result"
    }
   ],
   "source": [
    "df.isna().sum()"
   ]
  },
  {
   "cell_type": "code",
   "execution_count": 24,
   "metadata": {},
   "outputs": [
    {
     "data": {
      "image/png": "[encoded data removed]",
      "text/plain": [
       "<Figure size 360x360 with 1 Axes>"
      ]
     },
     "metadata": {
      "needs_background": "light"
     },
     "output_type": "display_data"
    }
   ],
   "source": [
    "sns.relplot(x = df['rain'], y = df['convective']);"
   ]
  },
  {
   "cell_type": "code",
   "execution_count": 25,
   "metadata": {},
   "outputs": [
    {
     "data": {
      "image/png": "[encoded data removed]",
      "text/plain": [
       "<Figure size 432x288 with 1 Axes>"
      ]
     },
     "metadata": {
      "needs_background": "light"
     },
     "output_type": "display_data"
    }
   ],
   "source": [
    "plt.hist(x= df['convective'], bins = 20, range=(0,1));"
   ]
  },
  {
   "cell_type": "code",
   "execution_count": 26,
   "metadata": {},
   "outputs": [
    {
     "name": "stdout",
     "output_type": "stream",
     "text": [
      "Convective mean value : 0.3436812353259879\n",
      "Rain mean value:  0.21480259206574953\n"
     ]
    }
   ],
   "source": [
    "print('Convective mean value :', df['convective'].mean())\n",
    "print('Rain mean value: ' , df['rain'].mean())"
   ]
  },
  {
   "cell_type": "code",
   "execution_count": 27,
   "metadata": {},
   "outputs": [
    {
     "name": "stdout",
     "output_type": "stream",
     "text": [
      "convective median value when no rain 0.0\n",
      "convective median value when rain 0.625\n"
     ]
    }
   ],
   "source": [
    "print('convective median value when no rain', df[df['rain']==0]['convective'].median())\n",
    "print('convective median value when rain', df[df['rain']!=0]['convective'].median())"
   ]
  },
  {
   "cell_type": "code",
   "execution_count": 28,
   "metadata": {},
   "outputs": [
    {
     "name": "stdout",
     "output_type": "stream",
     "text": [
      "convective nan with no rain 671\n",
      "convective nan with rain 119\n"
     ]
    }
   ],
   "source": [
    "aux = df[df['convective'].isna()]\n",
    "print ('convective nan with no rain', aux[aux['rain']==0].shape[0])\n",
    "print ('convective nan with rain', aux[aux['rain']!=0].shape[0])\n"
   ]
  },
  {
   "cell_type": "markdown",
   "metadata": {},
   "source": [
    "- **Strategy**\n",
    "\n",
    "We dont find a clear linear relation between rain and convective (convective rain).\n",
    "what we found is that when there rain = 0, convective rain median value is also 0.\n",
    "Then...\n",
    "\n",
    "WE can approximate the missing values of convective (rain) by:\n",
    "-  **0 when rain is 0**\n",
    "-  **0.625 (median value of convective rain when rain != 0 .**\n"
   ]
  },
  {
   "cell_type": "code",
   "execution_count": 29,
   "metadata": {},
   "outputs": [],
   "source": [
    "mask = df['convective'].isna()\n",
    "\n",
    "for i in df[mask].index:\n",
    "    if df.loc[i,'rain']==0:\n",
    "        df.loc[i,'convective'] = 0\n",
    "    else:\n",
    "        df.loc[i,'convective'] = 0.625"
   ]
  },
  {
   "cell_type": "code",
   "execution_count": 30,
   "metadata": {},
   "outputs": [
    {
     "data": {
      "text/plain": [
       "slice dt iso            0\n",
       "lat                     0\n",
       "lon                     0\n",
       "temperature             0\n",
       "dew_point               0\n",
       "pressure                0\n",
       "humidity                0\n",
       "clouds                  0\n",
       "wind_speed              0\n",
       "wind_deg                0\n",
       "rain                    0\n",
       "convective              0\n",
       "Direction N-S           0\n",
       "Direction E-W           0\n",
       "Tarifa_WindGust         0\n",
       "Tarifa_Wind             0\n",
       "Tarifa_WindDirection    0\n",
       "Tarifa_Direction N-S    0\n",
       "Tarifa_Direction E-W    0\n",
       "delta_Wind              0\n",
       "delta_N-S               0\n",
       "delta_E-W               0\n",
       "dtype: int64"
      ]
     },
     "execution_count": 30,
     "metadata": {},
     "output_type": "execute_result"
    }
   ],
   "source": [
    "df.isna().sum()"
   ]
  },
  {
   "cell_type": "markdown",
   "metadata": {},
   "source": [
    "Let s test if there is duplicates..."
   ]
  },
  {
   "cell_type": "code",
   "execution_count": 31,
   "metadata": {},
   "outputs": [
    {
     "data": {
      "text/plain": [
       "(6327, 22)"
      ]
     },
     "execution_count": 31,
     "metadata": {},
     "output_type": "execute_result"
    }
   ],
   "source": [
    "df.shape"
   ]
  },
  {
   "cell_type": "code",
   "execution_count": 32,
   "metadata": {},
   "outputs": [
    {
     "data": {
      "text/html": [
       "<div>\n",
       "<style scoped>\n",
       "    .dataframe tbody tr th:only-of-type {\n",
       "        vertical-align: middle;\n",
       "    }\n",
       "\n",
       "    .dataframe tbody tr th {\n",
       "        vertical-align: top;\n",
       "    }\n",
       "\n",
       "    .dataframe thead th {\n",
       "        text-align: right;\n",
       "    }\n",
       "</style>\n",
       "<table border=\"1\" class=\"dataframe\">\n",
       "  <thead>\n",
       "    <tr style=\"text-align: right;\">\n",
       "      <th></th>\n",
       "      <th>slice dt iso</th>\n",
       "      <th>lat</th>\n",
       "      <th>lon</th>\n",
       "      <th>temperature</th>\n",
       "      <th>dew_point</th>\n",
       "      <th>pressure</th>\n",
       "      <th>humidity</th>\n",
       "      <th>clouds</th>\n",
       "      <th>wind_speed</th>\n",
       "      <th>wind_deg</th>\n",
       "      <th>...</th>\n",
       "      <th>Direction N-S</th>\n",
       "      <th>Direction E-W</th>\n",
       "      <th>Tarifa_WindGust</th>\n",
       "      <th>Tarifa_Wind</th>\n",
       "      <th>Tarifa_WindDirection</th>\n",
       "      <th>Tarifa_Direction N-S</th>\n",
       "      <th>Tarifa_Direction E-W</th>\n",
       "      <th>delta_Wind</th>\n",
       "      <th>delta_N-S</th>\n",
       "      <th>delta_E-W</th>\n",
       "    </tr>\n",
       "  </thead>\n",
       "  <tbody>\n",
       "    <tr>\n",
       "      <th>0</th>\n",
       "      <td>2019-02-16 09:00:00</td>\n",
       "      <td>36.013158</td>\n",
       "      <td>-5.598892</td>\n",
       "      <td>13.79</td>\n",
       "      <td>11.13</td>\n",
       "      <td>1021.601</td>\n",
       "      <td>83.994</td>\n",
       "      <td>100.0</td>\n",
       "      <td>25.963871</td>\n",
       "      <td>95.202</td>\n",
       "      <td>...</td>\n",
       "      <td>-0.090667</td>\n",
       "      <td>0.995881</td>\n",
       "      <td>35.118709</td>\n",
       "      <td>17.624149</td>\n",
       "      <td>72.0</td>\n",
       "      <td>0.309017</td>\n",
       "      <td>0.951057</td>\n",
       "      <td>-8.339722</td>\n",
       "      <td>0.399684</td>\n",
       "      <td>-0.044825</td>\n",
       "    </tr>\n",
       "    <tr>\n",
       "      <th>1</th>\n",
       "      <td>2019-02-16 12:00:00</td>\n",
       "      <td>36.013158</td>\n",
       "      <td>-5.598892</td>\n",
       "      <td>13.81</td>\n",
       "      <td>11.16</td>\n",
       "      <td>1022.066</td>\n",
       "      <td>84.064</td>\n",
       "      <td>96.0</td>\n",
       "      <td>25.437090</td>\n",
       "      <td>93.856</td>\n",
       "      <td>...</td>\n",
       "      <td>-0.067249</td>\n",
       "      <td>0.997736</td>\n",
       "      <td>35.053915</td>\n",
       "      <td>21.835803</td>\n",
       "      <td>86.0</td>\n",
       "      <td>0.069756</td>\n",
       "      <td>0.997564</td>\n",
       "      <td>-3.601288</td>\n",
       "      <td>0.137006</td>\n",
       "      <td>-0.000172</td>\n",
       "    </tr>\n",
       "    <tr>\n",
       "      <th>2</th>\n",
       "      <td>2019-02-16 15:00:00</td>\n",
       "      <td>36.013158</td>\n",
       "      <td>-5.598892</td>\n",
       "      <td>13.82</td>\n",
       "      <td>11.15</td>\n",
       "      <td>1020.887</td>\n",
       "      <td>83.926</td>\n",
       "      <td>92.0</td>\n",
       "      <td>23.938390</td>\n",
       "      <td>93.883</td>\n",
       "      <td>...</td>\n",
       "      <td>-0.067719</td>\n",
       "      <td>0.997704</td>\n",
       "      <td>34.859531</td>\n",
       "      <td>20.539909</td>\n",
       "      <td>82.0</td>\n",
       "      <td>0.139173</td>\n",
       "      <td>0.990268</td>\n",
       "      <td>-3.398480</td>\n",
       "      <td>0.206892</td>\n",
       "      <td>-0.007436</td>\n",
       "    </tr>\n",
       "    <tr>\n",
       "      <th>3</th>\n",
       "      <td>2019-02-16 18:00:00</td>\n",
       "      <td>36.013158</td>\n",
       "      <td>-5.598892</td>\n",
       "      <td>13.77</td>\n",
       "      <td>11.27</td>\n",
       "      <td>1020.964</td>\n",
       "      <td>84.583</td>\n",
       "      <td>94.0</td>\n",
       "      <td>19.924360</td>\n",
       "      <td>95.812</td>\n",
       "      <td>...</td>\n",
       "      <td>-0.101265</td>\n",
       "      <td>0.994860</td>\n",
       "      <td>35.766656</td>\n",
       "      <td>23.326080</td>\n",
       "      <td>87.0</td>\n",
       "      <td>0.052336</td>\n",
       "      <td>0.998630</td>\n",
       "      <td>3.401720</td>\n",
       "      <td>0.153601</td>\n",
       "      <td>0.003770</td>\n",
       "    </tr>\n",
       "    <tr>\n",
       "      <th>4</th>\n",
       "      <td>2019-02-18 09:00:00</td>\n",
       "      <td>36.013158</td>\n",
       "      <td>-5.598892</td>\n",
       "      <td>12.90</td>\n",
       "      <td>10.63</td>\n",
       "      <td>1016.936</td>\n",
       "      <td>85.879</td>\n",
       "      <td>100.0</td>\n",
       "      <td>10.457859</td>\n",
       "      <td>82.105</td>\n",
       "      <td>...</td>\n",
       "      <td>0.137358</td>\n",
       "      <td>0.990521</td>\n",
       "      <td>24.103616</td>\n",
       "      <td>10.010776</td>\n",
       "      <td>88.0</td>\n",
       "      <td>0.034899</td>\n",
       "      <td>0.999391</td>\n",
       "      <td>-0.447083</td>\n",
       "      <td>-0.102459</td>\n",
       "      <td>0.008869</td>\n",
       "    </tr>\n",
       "    <tr>\n",
       "      <th>...</th>\n",
       "      <td>...</td>\n",
       "      <td>...</td>\n",
       "      <td>...</td>\n",
       "      <td>...</td>\n",
       "      <td>...</td>\n",
       "      <td>...</td>\n",
       "      <td>...</td>\n",
       "      <td>...</td>\n",
       "      <td>...</td>\n",
       "      <td>...</td>\n",
       "      <td>...</td>\n",
       "      <td>...</td>\n",
       "      <td>...</td>\n",
       "      <td>...</td>\n",
       "      <td>...</td>\n",
       "      <td>...</td>\n",
       "      <td>...</td>\n",
       "      <td>...</td>\n",
       "      <td>...</td>\n",
       "      <td>...</td>\n",
       "      <td>...</td>\n",
       "    </tr>\n",
       "    <tr>\n",
       "      <th>6322</th>\n",
       "      <td>2021-05-19 09:00:00</td>\n",
       "      <td>36.013158</td>\n",
       "      <td>-5.598892</td>\n",
       "      <td>23.05</td>\n",
       "      <td>12.91</td>\n",
       "      <td>1018.467</td>\n",
       "      <td>52.600</td>\n",
       "      <td>41.9</td>\n",
       "      <td>1.315980</td>\n",
       "      <td>231.962</td>\n",
       "      <td>...</td>\n",
       "      <td>-0.616184</td>\n",
       "      <td>-0.787602</td>\n",
       "      <td>6.933029</td>\n",
       "      <td>3.239733</td>\n",
       "      <td>249.0</td>\n",
       "      <td>-0.358368</td>\n",
       "      <td>-0.933580</td>\n",
       "      <td>1.923754</td>\n",
       "      <td>0.257816</td>\n",
       "      <td>-0.145978</td>\n",
       "    </tr>\n",
       "    <tr>\n",
       "      <th>6323</th>\n",
       "      <td>2021-05-19 12:00:00</td>\n",
       "      <td>36.013158</td>\n",
       "      <td>-5.598892</td>\n",
       "      <td>24.45</td>\n",
       "      <td>11.55</td>\n",
       "      <td>1018.233</td>\n",
       "      <td>44.200</td>\n",
       "      <td>28.7</td>\n",
       "      <td>4.089839</td>\n",
       "      <td>78.455</td>\n",
       "      <td>...</td>\n",
       "      <td>0.200138</td>\n",
       "      <td>0.979768</td>\n",
       "      <td>20.215936</td>\n",
       "      <td>12.829344</td>\n",
       "      <td>102.0</td>\n",
       "      <td>-0.207912</td>\n",
       "      <td>0.978148</td>\n",
       "      <td>8.739505</td>\n",
       "      <td>-0.408049</td>\n",
       "      <td>-0.001620</td>\n",
       "    </tr>\n",
       "    <tr>\n",
       "      <th>6324</th>\n",
       "      <td>2021-05-19 15:00:00</td>\n",
       "      <td>36.013158</td>\n",
       "      <td>-5.598892</td>\n",
       "      <td>22.65</td>\n",
       "      <td>12.45</td>\n",
       "      <td>1018.215</td>\n",
       "      <td>52.500</td>\n",
       "      <td>25.3</td>\n",
       "      <td>11.151810</td>\n",
       "      <td>68.753</td>\n",
       "      <td>...</td>\n",
       "      <td>0.362389</td>\n",
       "      <td>0.932027</td>\n",
       "      <td>28.768832</td>\n",
       "      <td>17.948123</td>\n",
       "      <td>74.0</td>\n",
       "      <td>0.275637</td>\n",
       "      <td>0.961262</td>\n",
       "      <td>6.796313</td>\n",
       "      <td>-0.086752</td>\n",
       "      <td>0.029235</td>\n",
       "    </tr>\n",
       "    <tr>\n",
       "      <th>6325</th>\n",
       "      <td>2021-05-19 18:00:00</td>\n",
       "      <td>36.013158</td>\n",
       "      <td>-5.598892</td>\n",
       "      <td>19.66</td>\n",
       "      <td>16.55</td>\n",
       "      <td>1018.845</td>\n",
       "      <td>82.600</td>\n",
       "      <td>21.5</td>\n",
       "      <td>11.254834</td>\n",
       "      <td>61.292</td>\n",
       "      <td>...</td>\n",
       "      <td>0.480346</td>\n",
       "      <td>0.877079</td>\n",
       "      <td>27.861707</td>\n",
       "      <td>17.818533</td>\n",
       "      <td>72.0</td>\n",
       "      <td>0.309017</td>\n",
       "      <td>0.951057</td>\n",
       "      <td>6.563700</td>\n",
       "      <td>-0.171329</td>\n",
       "      <td>0.073977</td>\n",
       "    </tr>\n",
       "    <tr>\n",
       "      <th>6326</th>\n",
       "      <td>2021-05-19 21:00:00</td>\n",
       "      <td>36.013158</td>\n",
       "      <td>-5.598892</td>\n",
       "      <td>17.80</td>\n",
       "      <td>17.16</td>\n",
       "      <td>1020.865</td>\n",
       "      <td>96.000</td>\n",
       "      <td>28.3</td>\n",
       "      <td>11.595006</td>\n",
       "      <td>59.161</td>\n",
       "      <td>...</td>\n",
       "      <td>0.512627</td>\n",
       "      <td>0.858611</td>\n",
       "      <td>30.971851</td>\n",
       "      <td>16.587435</td>\n",
       "      <td>69.0</td>\n",
       "      <td>0.358368</td>\n",
       "      <td>0.933580</td>\n",
       "      <td>4.992429</td>\n",
       "      <td>-0.154259</td>\n",
       "      <td>0.074969</td>\n",
       "    </tr>\n",
       "  </tbody>\n",
       "</table>\n",
       "<p>6327 rows × 22 columns</p>\n",
       "</div>"
      ],
      "text/plain": [
       "            slice dt iso        lat       lon  temperature  dew_point  \\\n",
       "0    2019-02-16 09:00:00  36.013158 -5.598892        13.79      11.13   \n",
       "1    2019-02-16 12:00:00  36.013158 -5.598892        13.81      11.16   \n",
       "2    2019-02-16 15:00:00  36.013158 -5.598892        13.82      11.15   \n",
       "3    2019-02-16 18:00:00  36.013158 -5.598892        13.77      11.27   \n",
       "4    2019-02-18 09:00:00  36.013158 -5.598892        12.90      10.63   \n",
       "...                  ...        ...       ...          ...        ...   \n",
       "6322 2021-05-19 09:00:00  36.013158 -5.598892        23.05      12.91   \n",
       "6323 2021-05-19 12:00:00  36.013158 -5.598892        24.45      11.55   \n",
       "6324 2021-05-19 15:00:00  36.013158 -5.598892        22.65      12.45   \n",
       "6325 2021-05-19 18:00:00  36.013158 -5.598892        19.66      16.55   \n",
       "6326 2021-05-19 21:00:00  36.013158 -5.598892        17.80      17.16   \n",
       "\n",
       "      pressure  humidity  clouds  wind_speed  wind_deg  ...  Direction N-S  \\\n",
       "0     1021.601    83.994   100.0   25.963871    95.202  ...      -0.090667   \n",
       "1     1022.066    84.064    96.0   25.437090    93.856  ...      -0.067249   \n",
       "2     1020.887    83.926    92.0   23.938390    93.883  ...      -0.067719   \n",
       "3     1020.964    84.583    94.0   19.924360    95.812  ...      -0.101265   \n",
       "4     1016.936    85.879   100.0   10.457859    82.105  ...       0.137358   \n",
       "...        ...       ...     ...         ...       ...  ...            ...   \n",
       "6322  1018.467    52.600    41.9    1.315980   231.962  ...      -0.616184   \n",
       "6323  1018.233    44.200    28.7    4.089839    78.455  ...       0.200138   \n",
       "6324  1018.215    52.500    25.3   11.151810    68.753  ...       0.362389   \n",
       "6325  1018.845    82.600    21.5   11.254834    61.292  ...       0.480346   \n",
       "6326  1020.865    96.000    28.3   11.595006    59.161  ...       0.512627   \n",
       "\n",
       "      Direction E-W  Tarifa_WindGust  Tarifa_Wind  Tarifa_WindDirection  \\\n",
       "0          0.995881        35.118709    17.624149                  72.0   \n",
       "1          0.997736        35.053915    21.835803                  86.0   \n",
       "2          0.997704        34.859531    20.539909                  82.0   \n",
       "3          0.994860        35.766656    23.326080                  87.0   \n",
       "4          0.990521        24.103616    10.010776                  88.0   \n",
       "...             ...              ...          ...                   ...   \n",
       "6322      -0.787602         6.933029     3.239733                 249.0   \n",
       "6323       0.979768        20.215936    12.829344                 102.0   \n",
       "6324       0.932027        28.768832    17.948123                  74.0   \n",
       "6325       0.877079        27.861707    17.818533                  72.0   \n",
       "6326       0.858611        30.971851    16.587435                  69.0   \n",
       "\n",
       "      Tarifa_Direction N-S  Tarifa_Direction E-W  delta_Wind  delta_N-S  \\\n",
       "0                 0.309017              0.951057   -8.339722   0.399684   \n",
       "1                 0.069756              0.997564   -3.601288   0.137006   \n",
       "2                 0.139173              0.990268   -3.398480   0.206892   \n",
       "3                 0.052336              0.998630    3.401720   0.153601   \n",
       "4                 0.034899              0.999391   -0.447083  -0.102459   \n",
       "...                    ...                   ...         ...        ...   \n",
       "6322             -0.358368             -0.933580    1.923754   0.257816   \n",
       "6323             -0.207912              0.978148    8.739505  -0.408049   \n",
       "6324              0.275637              0.961262    6.796313  -0.086752   \n",
       "6325              0.309017              0.951057    6.563700  -0.171329   \n",
       "6326              0.358368              0.933580    4.992429  -0.154259   \n",
       "\n",
       "      delta_E-W  \n",
       "0     -0.044825  \n",
       "1     -0.000172  \n",
       "2     -0.007436  \n",
       "3      0.003770  \n",
       "4      0.008869  \n",
       "...         ...  \n",
       "6322  -0.145978  \n",
       "6323  -0.001620  \n",
       "6324   0.029235  \n",
       "6325   0.073977  \n",
       "6326   0.074969  \n",
       "\n",
       "[6327 rows x 22 columns]"
      ]
     },
     "execution_count": 32,
     "metadata": {},
     "output_type": "execute_result"
    }
   ],
   "source": [
    "df.drop_duplicates()"
   ]
  },
  {
   "cell_type": "markdown",
   "metadata": {},
   "source": [
    "No duplicates!"
   ]
  },
  {
   "cell_type": "markdown",
   "metadata": {},
   "source": [
    "# 2 Machine Learning..."
   ]
  },
  {
   "cell_type": "code",
   "execution_count": 33,
   "metadata": {},
   "outputs": [],
   "source": [
    "# Function to divide dataframe into train and test\n",
    "\n",
    "def train_test_division(features, target):\n",
    "    features_train, features_test, target_train, target_test = train_test_split(features,target)\n",
    "    target_train = target_train.values.ravel()\n",
    "    target_test = target_test.values.ravel()\n",
    "    \n",
    "    return features_train, features_test, target_train, target_test"
   ]
  },
  {
   "cell_type": "code",
   "execution_count": 34,
   "metadata": {},
   "outputs": [],
   "source": [
    "# Function to calculate MAPE\n",
    "\n",
    "def mean_absolute_percentage_error(y_true, y_pred): \n",
    "    return float(np.mean(np.abs((y_true - y_pred) / y_true)))"
   ]
  },
  {
   "cell_type": "code",
   "execution_count": 35,
   "metadata": {},
   "outputs": [],
   "source": [
    "# Function to evaluate model errors\n",
    "\n",
    "def evaluate(model, target_test, prediction):\n",
    "    mse = round(mean_squared_error(target_test, prediction), 3)\n",
    "    mae = round(mean_absolute_error(target_test, prediction), 3)\n",
    "    mape = round(mean_absolute_percentage_error(target_test, prediction),2)\n",
    "    ev = round(explained_variance_score(target_test, prediction), 2)\n",
    "    new_row = {\"model\" : model , \"mse\": mse, \"mae\" : mae, \"mape\": mape, \"ev\" : ev}\n",
    "    \n",
    "    return new_row"
   ]
  },
  {
   "cell_type": "code",
   "execution_count": 36,
   "metadata": {},
   "outputs": [],
   "source": [
    "def plot_metrics(metrics):\n",
    "    \n",
    "    fig, axes = plt.subplots(4,1,figsize=(10,10))\n",
    "    fig.tight_layout()\n",
    "\n",
    "    names = ['mse','mae','mape','ev']\n",
    "\n",
    "    for i in range(0,len(names)):\n",
    "        if names[i]!='ev':\n",
    "            metrics_ordered = metrics.sort_values(by=names[i])\n",
    "            clrs = ['grey' if (x > min(metrics_ordered[names[i]])) else 'green' for x in metrics_ordered[names[i]]]\n",
    "        else:\n",
    "            metrics_ordered = metrics.sort_values(by=names[i], ascending=False)\n",
    "            clrs = ['grey' if (x < max(metrics_ordered[names[i]])) else 'green' for x in metrics_ordered[names[i]]]\n",
    "\n",
    "        sns.barplot(x= metrics_ordered[names[i]],y = metrics_ordered['model'], ax = axes[i], palette='RdGy');\n",
    "        axes[i].set_ylabel(names[i]);\n",
    "        axes[i].set_xlabel(None)\n"
   ]
  },
  {
   "cell_type": "code",
   "execution_count": 37,
   "metadata": {},
   "outputs": [],
   "source": [
    "# We re going to create a Dataframe to collect metric values\n",
    "\n",
    "metrics = pd.DataFrame(columns = (\"model\", \"mse\", \"mae\",\"mape\", \"ev\"))"
   ]
  },
  {
   "cell_type": "markdown",
   "metadata": {},
   "source": [
    "## 1.-  Evaluation of openweathermap.org forecast model (baseline)\n",
    "\n",
    "First step is to measure how good is the forecast model that for us is used as features, and it s going to be the model to challenge. \n"
   ]
  },
  {
   "cell_type": "code",
   "execution_count": 38,
   "metadata": {},
   "outputs": [],
   "source": [
    "target_baseline = df['Tarifa_Wind']\n",
    "prediction_baseline = df['wind_speed']"
   ]
  },
  {
   "cell_type": "code",
   "execution_count": 39,
   "metadata": {},
   "outputs": [
    {
     "data": {
      "text/html": [
       "<div>\n",
       "<style scoped>\n",
       "    .dataframe tbody tr th:only-of-type {\n",
       "        vertical-align: middle;\n",
       "    }\n",
       "\n",
       "    .dataframe tbody tr th {\n",
       "        vertical-align: top;\n",
       "    }\n",
       "\n",
       "    .dataframe thead th {\n",
       "        text-align: right;\n",
       "    }\n",
       "</style>\n",
       "<table border=\"1\" class=\"dataframe\">\n",
       "  <thead>\n",
       "    <tr style=\"text-align: right;\">\n",
       "      <th></th>\n",
       "      <th>model</th>\n",
       "      <th>mse</th>\n",
       "      <th>mae</th>\n",
       "      <th>mape</th>\n",
       "      <th>ev</th>\n",
       "    </tr>\n",
       "  </thead>\n",
       "  <tbody>\n",
       "    <tr>\n",
       "      <th>0</th>\n",
       "      <td>baseline</td>\n",
       "      <td>14.737</td>\n",
       "      <td>3.102</td>\n",
       "      <td>0.35</td>\n",
       "      <td>0.62</td>\n",
       "    </tr>\n",
       "  </tbody>\n",
       "</table>\n",
       "</div>"
      ],
      "text/plain": [
       "      model     mse    mae  mape    ev\n",
       "0  baseline  14.737  3.102  0.35  0.62"
      ]
     },
     "execution_count": 39,
     "metadata": {},
     "output_type": "execute_result"
    }
   ],
   "source": [
    "metrics = metrics.append(evaluate(\"baseline\", target_baseline,prediction_baseline), \n",
    "                         ignore_index=True)\n",
    "\n",
    "metrics"
   ]
  },
  {
   "cell_type": "markdown",
   "metadata": {},
   "source": [
    "## 2.- Regressors  without further preprocesing\n",
    "\n",
    "- Linnear Regressor\n",
    "- KNeighbours\n",
    "- Decission Tree\n",
    "- Random Forest"
   ]
  },
  {
   "cell_type": "code",
   "execution_count": 40,
   "metadata": {},
   "outputs": [
    {
     "data": {
      "text/plain": [
       "Index(['slice dt iso', 'lat', 'lon', 'temperature', 'dew_point', 'pressure',\n",
       "       'humidity', 'clouds', 'wind_speed', 'wind_deg', 'rain', 'convective',\n",
       "       'Direction N-S', 'Direction E-W', 'Tarifa_WindGust', 'Tarifa_Wind',\n",
       "       'Tarifa_WindDirection', 'Tarifa_Direction N-S', 'Tarifa_Direction E-W',\n",
       "       'delta_Wind', 'delta_N-S', 'delta_E-W'],\n",
       "      dtype='object')"
      ]
     },
     "execution_count": 40,
     "metadata": {},
     "output_type": "execute_result"
    }
   ],
   "source": [
    "df.columns"
   ]
  },
  {
   "cell_type": "code",
   "execution_count": 41,
   "metadata": {},
   "outputs": [],
   "source": [
    "features = df.loc[:,['temperature', 'dew_point', 'pressure','humidity', 'clouds',\n",
    "                     'wind_speed', 'rain', 'convective','Direction N-S', 'Direction E-W']]"
   ]
  },
  {
   "cell_type": "code",
   "execution_count": 42,
   "metadata": {},
   "outputs": [],
   "source": [
    "target = df.loc[:,['Tarifa_Wind']]"
   ]
  },
  {
   "cell_type": "code",
   "execution_count": 43,
   "metadata": {},
   "outputs": [],
   "source": [
    "# Set up train and test\n",
    "\n",
    "features_train, features_test, target_train, target_test = train_test_division(features, target)"
   ]
  },
  {
   "cell_type": "code",
   "execution_count": 44,
   "metadata": {},
   "outputs": [],
   "source": [
    "# Loading naive models\n",
    "\n",
    "lr = LinearRegression()\n",
    "knr = KNeighborsRegressor()\n",
    "tree = DecisionTreeRegressor()\n",
    "forest = RandomForestRegressor()"
   ]
  },
  {
   "cell_type": "code",
   "execution_count": 45,
   "metadata": {},
   "outputs": [],
   "source": [
    "lr.fit(features_train,target_train)\n",
    "prediction = lr.predict(features_test)\n",
    "\n",
    "metrics = metrics.append(evaluate(\"lr\", target_test, prediction), ignore_index=True)"
   ]
  },
  {
   "cell_type": "code",
   "execution_count": 46,
   "metadata": {},
   "outputs": [],
   "source": [
    "knr.fit(features_train,target_train)\n",
    "prediction = knr.predict(features_test)\n",
    "\n",
    "metrics = metrics.append(evaluate(\"knr\", target_test, prediction), ignore_index=True)"
   ]
  },
  {
   "cell_type": "code",
   "execution_count": 47,
   "metadata": {},
   "outputs": [],
   "source": [
    "tree.fit(features_train,target_train)\n",
    "prediction = tree.predict(features_test)\n",
    "\n",
    "metrics = metrics.append(evaluate(\"tree\", target_test, prediction), ignore_index=True)"
   ]
  },
  {
   "cell_type": "code",
   "execution_count": 48,
   "metadata": {},
   "outputs": [],
   "source": [
    "forest.fit(features_train,target_train)\n",
    "prediction = forest.predict(features_test)\n",
    "\n",
    "metrics = metrics.append(evaluate(\"forest\", target_test, prediction), ignore_index=True)"
   ]
  },
  {
   "cell_type": "code",
   "execution_count": 49,
   "metadata": {},
   "outputs": [
    {
     "data": {
      "text/html": [
       "<div>\n",
       "<style scoped>\n",
       "    .dataframe tbody tr th:only-of-type {\n",
       "        vertical-align: middle;\n",
       "    }\n",
       "\n",
       "    .dataframe tbody tr th {\n",
       "        vertical-align: top;\n",
       "    }\n",
       "\n",
       "    .dataframe thead th {\n",
       "        text-align: right;\n",
       "    }\n",
       "</style>\n",
       "<table border=\"1\" class=\"dataframe\">\n",
       "  <thead>\n",
       "    <tr style=\"text-align: right;\">\n",
       "      <th></th>\n",
       "      <th>model</th>\n",
       "      <th>mse</th>\n",
       "      <th>mae</th>\n",
       "      <th>mape</th>\n",
       "      <th>ev</th>\n",
       "    </tr>\n",
       "  </thead>\n",
       "  <tbody>\n",
       "    <tr>\n",
       "      <th>4</th>\n",
       "      <td>forest</td>\n",
       "      <td>5.576</td>\n",
       "      <td>1.817</td>\n",
       "      <td>0.23</td>\n",
       "      <td>0.85</td>\n",
       "    </tr>\n",
       "    <tr>\n",
       "      <th>1</th>\n",
       "      <td>lr</td>\n",
       "      <td>7.399</td>\n",
       "      <td>2.135</td>\n",
       "      <td>0.28</td>\n",
       "      <td>0.79</td>\n",
       "    </tr>\n",
       "    <tr>\n",
       "      <th>2</th>\n",
       "      <td>knr</td>\n",
       "      <td>10.977</td>\n",
       "      <td>2.560</td>\n",
       "      <td>0.33</td>\n",
       "      <td>0.70</td>\n",
       "    </tr>\n",
       "    <tr>\n",
       "      <th>3</th>\n",
       "      <td>tree</td>\n",
       "      <td>11.883</td>\n",
       "      <td>2.634</td>\n",
       "      <td>0.31</td>\n",
       "      <td>0.67</td>\n",
       "    </tr>\n",
       "    <tr>\n",
       "      <th>0</th>\n",
       "      <td>baseline</td>\n",
       "      <td>14.737</td>\n",
       "      <td>3.102</td>\n",
       "      <td>0.35</td>\n",
       "      <td>0.62</td>\n",
       "    </tr>\n",
       "  </tbody>\n",
       "</table>\n",
       "</div>"
      ],
      "text/plain": [
       "      model     mse    mae  mape    ev\n",
       "4    forest   5.576  1.817  0.23  0.85\n",
       "1        lr   7.399  2.135  0.28  0.79\n",
       "2       knr  10.977  2.560  0.33  0.70\n",
       "3      tree  11.883  2.634  0.31  0.67\n",
       "0  baseline  14.737  3.102  0.35  0.62"
      ]
     },
     "execution_count": 49,
     "metadata": {},
     "output_type": "execute_result"
    }
   ],
   "source": [
    "metrics.sort_values(by='mse')"
   ]
  },
  {
   "cell_type": "code",
   "execution_count": 50,
   "metadata": {},
   "outputs": [
    {
     "data": {
      "image/png": "[encoded data removed]",
      "text/plain": [
       "<Figure size 720x720 with 4 Axes>"
      ]
     },
     "metadata": {
      "needs_background": "light"
     },
     "output_type": "display_data"
    }
   ],
   "source": [
    "plot_metrics(metrics)"
   ]
  },
  {
   "cell_type": "markdown",
   "metadata": {},
   "source": [
    "## 2.- Regressors with pre data standarization\n",
    "\n",
    "- **Prepoc**  = StaandarScaler \n",
    "\n",
    "- **Models:** Linnear Regressor,  KNeighbours, Decission Tree, Random Forest\n",
    "\n"
   ]
  },
  {
   "cell_type": "code",
   "execution_count": 51,
   "metadata": {},
   "outputs": [],
   "source": [
    "# Loading naive models\n",
    "\n",
    "lr = LinearRegression()\n",
    "knr = KNeighborsRegressor()\n",
    "tree = DecisionTreeRegressor()\n",
    "forest = RandomForestRegressor()\n",
    "\n",
    "# Setting up train / test\n",
    "\n",
    "features_train, features_test, target_train, target_test = train_test_division(features,target)\n"
   ]
  },
  {
   "cell_type": "code",
   "execution_count": 52,
   "metadata": {},
   "outputs": [],
   "source": [
    "# Scaler\n",
    "\n",
    "scaler = StandardScaler()\n",
    "\n",
    "features_train = scaler.fit_transform(features_train)\n",
    "features_test = scaler.transform(features_test)"
   ]
  },
  {
   "cell_type": "code",
   "execution_count": 53,
   "metadata": {},
   "outputs": [],
   "source": [
    "lr.fit(features_train,target_train)\n",
    "prediction = lr.predict(features_test)\n",
    "\n",
    "metrics = metrics.append(evaluate(\"lr + std\", target_test, prediction), ignore_index=True)"
   ]
  },
  {
   "cell_type": "code",
   "execution_count": 54,
   "metadata": {},
   "outputs": [],
   "source": [
    "knr.fit(features_train,target_train)\n",
    "prediction = knr.predict(features_test)\n",
    "\n",
    "metrics = metrics.append(evaluate(\"knr + std\", target_test, prediction), ignore_index=True)"
   ]
  },
  {
   "cell_type": "code",
   "execution_count": 55,
   "metadata": {},
   "outputs": [],
   "source": [
    "tree.fit(features_train,target_train)\n",
    "prediction = tree.predict(features_test)\n",
    "\n",
    "metrics = metrics.append(evaluate(\"tree + stdr\", target_test, prediction), ignore_index=True)"
   ]
  },
  {
   "cell_type": "code",
   "execution_count": 56,
   "metadata": {},
   "outputs": [],
   "source": [
    "forest.fit(features_train,target_train)\n",
    "prediction = forest.predict(features_test)\n",
    "\n",
    "metrics = metrics.append(evaluate(\"forest+ std\", target_test, prediction), ignore_index=True)"
   ]
  },
  {
   "cell_type": "code",
   "execution_count": 57,
   "metadata": {},
   "outputs": [
    {
     "data": {
      "image/png": "[encoded data removed]",
      "text/plain": [
       "<Figure size 720x720 with 4 Axes>"
      ]
     },
     "metadata": {
      "needs_background": "light"
     },
     "output_type": "display_data"
    }
   ],
   "source": [
    "plot_metrics(metrics)"
   ]
  },
  {
   "cell_type": "markdown",
   "metadata": {},
   "source": [
    "# *.- Adding lags to features\n",
    "\n",
    "We are going to check how adding lags can affect to the metrics in our model, becasuse the conditions in the morning can affect the conditions in the afternoon. Let s do a first shot. "
   ]
  },
  {
   "cell_type": "code",
   "execution_count": 58,
   "metadata": {},
   "outputs": [
    {
     "data": {
      "text/html": [
       "<div>\n",
       "<style scoped>\n",
       "    .dataframe tbody tr th:only-of-type {\n",
       "        vertical-align: middle;\n",
       "    }\n",
       "\n",
       "    .dataframe tbody tr th {\n",
       "        vertical-align: top;\n",
       "    }\n",
       "\n",
       "    .dataframe thead th {\n",
       "        text-align: right;\n",
       "    }\n",
       "</style>\n",
       "<table border=\"1\" class=\"dataframe\">\n",
       "  <thead>\n",
       "    <tr style=\"text-align: right;\">\n",
       "      <th></th>\n",
       "      <th>slice dt iso</th>\n",
       "      <th>lat</th>\n",
       "      <th>lon</th>\n",
       "      <th>temperature</th>\n",
       "      <th>dew_point</th>\n",
       "      <th>pressure</th>\n",
       "      <th>humidity</th>\n",
       "      <th>clouds</th>\n",
       "      <th>wind_speed</th>\n",
       "      <th>wind_deg</th>\n",
       "      <th>...</th>\n",
       "      <th>Tarifa_Direction E-W</th>\n",
       "      <th>delta_Wind</th>\n",
       "      <th>delta_N-S</th>\n",
       "      <th>delta_E-W</th>\n",
       "      <th>wind_speed-1</th>\n",
       "      <th>wind_speed-2</th>\n",
       "      <th>wind_deg-1</th>\n",
       "      <th>wind_deg-2</th>\n",
       "      <th>temperature-1</th>\n",
       "      <th>temperature-2</th>\n",
       "    </tr>\n",
       "  </thead>\n",
       "  <tbody>\n",
       "    <tr>\n",
       "      <th>0</th>\n",
       "      <td>2019-02-16 15:00:00</td>\n",
       "      <td>36.013158</td>\n",
       "      <td>-5.598892</td>\n",
       "      <td>13.82</td>\n",
       "      <td>11.15</td>\n",
       "      <td>1020.887</td>\n",
       "      <td>83.926</td>\n",
       "      <td>92.0</td>\n",
       "      <td>23.938390</td>\n",
       "      <td>93.883</td>\n",
       "      <td>...</td>\n",
       "      <td>0.990268</td>\n",
       "      <td>-3.398480</td>\n",
       "      <td>0.206892</td>\n",
       "      <td>-0.007436</td>\n",
       "      <td>25.437090</td>\n",
       "      <td>25.963871</td>\n",
       "      <td>93.856</td>\n",
       "      <td>95.202</td>\n",
       "      <td>13.81</td>\n",
       "      <td>13.79</td>\n",
       "    </tr>\n",
       "    <tr>\n",
       "      <th>1</th>\n",
       "      <td>2019-02-16 18:00:00</td>\n",
       "      <td>36.013158</td>\n",
       "      <td>-5.598892</td>\n",
       "      <td>13.77</td>\n",
       "      <td>11.27</td>\n",
       "      <td>1020.964</td>\n",
       "      <td>84.583</td>\n",
       "      <td>94.0</td>\n",
       "      <td>19.924360</td>\n",
       "      <td>95.812</td>\n",
       "      <td>...</td>\n",
       "      <td>0.998630</td>\n",
       "      <td>3.401720</td>\n",
       "      <td>0.153601</td>\n",
       "      <td>0.003770</td>\n",
       "      <td>23.938390</td>\n",
       "      <td>25.437090</td>\n",
       "      <td>93.883</td>\n",
       "      <td>93.856</td>\n",
       "      <td>13.82</td>\n",
       "      <td>13.81</td>\n",
       "    </tr>\n",
       "    <tr>\n",
       "      <th>2</th>\n",
       "      <td>2019-02-18 09:00:00</td>\n",
       "      <td>36.013158</td>\n",
       "      <td>-5.598892</td>\n",
       "      <td>12.90</td>\n",
       "      <td>10.63</td>\n",
       "      <td>1016.936</td>\n",
       "      <td>85.879</td>\n",
       "      <td>100.0</td>\n",
       "      <td>10.457859</td>\n",
       "      <td>82.105</td>\n",
       "      <td>...</td>\n",
       "      <td>0.999391</td>\n",
       "      <td>-0.447083</td>\n",
       "      <td>-0.102459</td>\n",
       "      <td>0.008869</td>\n",
       "      <td>19.924360</td>\n",
       "      <td>23.938390</td>\n",
       "      <td>95.812</td>\n",
       "      <td>93.883</td>\n",
       "      <td>13.77</td>\n",
       "      <td>13.82</td>\n",
       "    </tr>\n",
       "    <tr>\n",
       "      <th>3</th>\n",
       "      <td>2019-02-19 09:00:00</td>\n",
       "      <td>36.013158</td>\n",
       "      <td>-5.598892</td>\n",
       "      <td>12.68</td>\n",
       "      <td>9.45</td>\n",
       "      <td>1019.711</td>\n",
       "      <td>81.056</td>\n",
       "      <td>3.0</td>\n",
       "      <td>4.634115</td>\n",
       "      <td>55.910</td>\n",
       "      <td>...</td>\n",
       "      <td>0.766044</td>\n",
       "      <td>1.100213</td>\n",
       "      <td>0.082293</td>\n",
       "      <td>-0.062114</td>\n",
       "      <td>10.457859</td>\n",
       "      <td>19.924360</td>\n",
       "      <td>82.105</td>\n",
       "      <td>95.812</td>\n",
       "      <td>12.90</td>\n",
       "      <td>13.77</td>\n",
       "    </tr>\n",
       "    <tr>\n",
       "      <th>4</th>\n",
       "      <td>2019-02-19 12:00:00</td>\n",
       "      <td>36.013158</td>\n",
       "      <td>-5.598892</td>\n",
       "      <td>14.08</td>\n",
       "      <td>9.95</td>\n",
       "      <td>1019.695</td>\n",
       "      <td>75.970</td>\n",
       "      <td>1.0</td>\n",
       "      <td>9.672548</td>\n",
       "      <td>97.588</td>\n",
       "      <td>...</td>\n",
       "      <td>0.991243</td>\n",
       "      <td>2.379260</td>\n",
       "      <td>0.000000</td>\n",
       "      <td>0.000000</td>\n",
       "      <td>4.634115</td>\n",
       "      <td>10.457859</td>\n",
       "      <td>55.910</td>\n",
       "      <td>82.105</td>\n",
       "      <td>12.68</td>\n",
       "      <td>12.90</td>\n",
       "    </tr>\n",
       "  </tbody>\n",
       "</table>\n",
       "<p>5 rows × 28 columns</p>\n",
       "</div>"
      ],
      "text/plain": [
       "         slice dt iso        lat       lon  temperature  dew_point  pressure  \\\n",
       "0 2019-02-16 15:00:00  36.013158 -5.598892        13.82      11.15  1020.887   \n",
       "1 2019-02-16 18:00:00  36.013158 -5.598892        13.77      11.27  1020.964   \n",
       "2 2019-02-18 09:00:00  36.013158 -5.598892        12.90      10.63  1016.936   \n",
       "3 2019-02-19 09:00:00  36.013158 -5.598892        12.68       9.45  1019.711   \n",
       "4 2019-02-19 12:00:00  36.013158 -5.598892        14.08       9.95  1019.695   \n",
       "\n",
       "   humidity  clouds  wind_speed  wind_deg  ...  Tarifa_Direction E-W  \\\n",
       "0    83.926    92.0   23.938390    93.883  ...              0.990268   \n",
       "1    84.583    94.0   19.924360    95.812  ...              0.998630   \n",
       "2    85.879   100.0   10.457859    82.105  ...              0.999391   \n",
       "3    81.056     3.0    4.634115    55.910  ...              0.766044   \n",
       "4    75.970     1.0    9.672548    97.588  ...              0.991243   \n",
       "\n",
       "   delta_Wind  delta_N-S  delta_E-W  wind_speed-1  wind_speed-2  wind_deg-1  \\\n",
       "0   -3.398480   0.206892  -0.007436     25.437090     25.963871      93.856   \n",
       "1    3.401720   0.153601   0.003770     23.938390     25.437090      93.883   \n",
       "2   -0.447083  -0.102459   0.008869     19.924360     23.938390      95.812   \n",
       "3    1.100213   0.082293  -0.062114     10.457859     19.924360      82.105   \n",
       "4    2.379260   0.000000   0.000000      4.634115     10.457859      55.910   \n",
       "\n",
       "   wind_deg-2  temperature-1  temperature-2  \n",
       "0      95.202          13.81          13.79  \n",
       "1      93.856          13.82          13.81  \n",
       "2      93.883          13.77          13.82  \n",
       "3      95.812          12.90          13.77  \n",
       "4      82.105          12.68          12.90  \n",
       "\n",
       "[5 rows x 28 columns]"
      ]
     },
     "execution_count": 58,
     "metadata": {},
     "output_type": "execute_result"
    }
   ],
   "source": [
    "df['wind_speed-1']=df['wind_speed'].shift(1)\n",
    "df['wind_speed-2']=df['wind_speed'].shift(2)\n",
    "df['wind_deg-1']=df['wind_deg'].shift(1)\n",
    "df['wind_deg-2']=df['wind_deg'].shift(2)\n",
    "df['temperature-1']=df['temperature'].shift(1)\n",
    "df['temperature-2']=df['temperature'].shift(2)\n",
    "\n",
    "df.dropna(inplace=True)\n",
    "\n",
    "df.reset_index(drop=True, inplace=True)\n",
    "df.head()"
   ]
  },
  {
   "cell_type": "code",
   "execution_count": 59,
   "metadata": {},
   "outputs": [],
   "source": [
    "features = df.loc[:,['temperature', 'dew_point', 'pressure','humidity', 'clouds',\n",
    "                     'wind_speed', 'rain', 'convective','Direction N-S', 'Direction E-W', \n",
    "                     'wind_speed-1', 'wind_speed-2','wind_deg-1', 'wind_deg-2', 'temperature-1', 'temperature-2']]\n",
    "target = df.loc[:,['Tarifa_Wind']]"
   ]
  },
  {
   "cell_type": "code",
   "execution_count": 60,
   "metadata": {},
   "outputs": [],
   "source": [
    "# Loading naive model\n",
    "forest = RandomForestRegressor()\n",
    "\n",
    "# Setting up train / test\n",
    "features_train, features_test, target_train, target_test = train_test_division(features,target)\n"
   ]
  },
  {
   "cell_type": "code",
   "execution_count": 61,
   "metadata": {},
   "outputs": [],
   "source": [
    "# Scaler\n",
    "\n",
    "scaler = StandardScaler()\n",
    "\n",
    "features_train = scaler.fit_transform(features_train)\n",
    "features_test = scaler.transform(features_test)"
   ]
  },
  {
   "cell_type": "code",
   "execution_count": 62,
   "metadata": {},
   "outputs": [],
   "source": [
    "# Model fit and predict\n",
    "\n",
    "forest.fit(features_train,target_train)\n",
    "prediction = forest.predict(features_test)\n",
    "\n",
    "metrics = metrics.append(evaluate(\"forest+ std + lags\", target_test, prediction), ignore_index=True)"
   ]
  },
  {
   "cell_type": "code",
   "execution_count": 63,
   "metadata": {},
   "outputs": [
    {
     "data": {
      "image/png": "[encoded data removed]",
      "text/plain": [
       "<Figure size 720x720 with 4 Axes>"
      ]
     },
     "metadata": {
      "needs_background": "light"
     },
     "output_type": "display_data"
    }
   ],
   "source": [
    "plot_metrics(metrics)"
   ]
  },
  {
   "cell_type": "markdown",
   "metadata": {},
   "source": [
    "Using lags features of the most significact features is improving the 3 out of 4 metrics, so definitvely helps the model its predict capacity."
   ]
  },
  {
   "cell_type": "markdown",
   "metadata": {},
   "source": [
    "# *.- Adding seasonal features\n",
    "\n",
    "It is observed that there is a dayly seasonalty effect in the wind behavivour, probably due to strong sun incidence in the land what provoke higher temperatures and thermal wind currents from sea to land. To allow our model to interprete that seasonality we are going to add dayly seasonal variables. \n",
    "\n",
    "We are going to make use of the datestamps hours to create a sinoidal and cosinoidal functions with 24 h period to allow the ML to find determine this seasonal behaveour (if any). "
   ]
  },
  {
   "cell_type": "code",
   "execution_count": 64,
   "metadata": {},
   "outputs": [],
   "source": [
    "df['hour'] = 0\n",
    "for i in df.index:\n",
    "    df.loc[i,'hour'] = df.loc[i,'slice dt iso'].hour"
   ]
  },
  {
   "cell_type": "code",
   "execution_count": 65,
   "metadata": {},
   "outputs": [],
   "source": [
    "period = 24\n",
    "\n",
    "for i in df.index:\n",
    "    df.loc[i,'s-24'] = np.sin(2*np.pi*df.loc[i,'hour']/period)\n",
    "    df.loc[i,'c-24'] = np.cos(2*np.pi*df.loc[i,'hour']/period)"
   ]
  },
  {
   "cell_type": "code",
   "execution_count": 66,
   "metadata": {},
   "outputs": [
    {
     "data": {
      "image/png": "[encoded data removed]",
      "text/plain": [
       "<Figure size 1440x576 with 2 Axes>"
      ]
     },
     "metadata": {
      "needs_background": "light"
     },
     "output_type": "display_data"
    }
   ],
   "source": [
    "figure, axes = plt.subplots(2,1,figsize=(20,8))\n",
    "\n",
    "axes[0].plot(df['slice dt iso'][0:50],df['s-24'][0:50]);\n",
    "axes[1].plot(df['slice dt iso'][50:1000],df['s-24'][50:1000]);"
   ]
  },
  {
   "cell_type": "code",
   "execution_count": 67,
   "metadata": {},
   "outputs": [
    {
     "data": {
      "text/plain": [
       "Index(['slice dt iso', 'lat', 'lon', 'temperature', 'dew_point', 'pressure',\n",
       "       'humidity', 'clouds', 'wind_speed', 'wind_deg', 'rain', 'convective',\n",
       "       'Direction N-S', 'Direction E-W', 'Tarifa_WindGust', 'Tarifa_Wind',\n",
       "       'Tarifa_WindDirection', 'Tarifa_Direction N-S', 'Tarifa_Direction E-W',\n",
       "       'delta_Wind', 'delta_N-S', 'delta_E-W', 'wind_speed-1', 'wind_speed-2',\n",
       "       'wind_deg-1', 'wind_deg-2', 'temperature-1', 'temperature-2', 'hour',\n",
       "       's-24', 'c-24'],\n",
       "      dtype='object')"
      ]
     },
     "execution_count": 67,
     "metadata": {},
     "output_type": "execute_result"
    }
   ],
   "source": [
    "# Selecting features and target columns\n",
    "\n",
    "df.columns"
   ]
  },
  {
   "cell_type": "markdown",
   "metadata": {},
   "source": [
    "This graphics just to check if the correct creation of the seasonal features. we can see that there are some anomalies due to some missing registers in the dataframe, but the function periodicity is 24 h"
   ]
  },
  {
   "cell_type": "code",
   "execution_count": 68,
   "metadata": {},
   "outputs": [],
   "source": [
    "features = df.loc[:,['temperature', 'dew_point', 'pressure','humidity', 'clouds',\n",
    "                     'wind_speed', 'rain', 'convective','Direction N-S', 'Direction E-W', \n",
    "                     'wind_speed-1', 'wind_speed-2','wind_deg-1', 'wind_deg-2', 'temperature-1', 'temperature-2',\n",
    "                     's-24', 'c-24']]\n",
    "target = df.loc[:,['Tarifa_Wind']]"
   ]
  },
  {
   "cell_type": "code",
   "execution_count": 69,
   "metadata": {},
   "outputs": [],
   "source": [
    "# Loading naive model\n",
    "forest = RandomForestRegressor()\n",
    "\n",
    "# Setting up train / test\n",
    "features_train, features_test, target_train, target_test = train_test_division(features,target)"
   ]
  },
  {
   "cell_type": "code",
   "execution_count": 70,
   "metadata": {},
   "outputs": [],
   "source": [
    "# Scaler\n",
    "\n",
    "scaler = StandardScaler()\n",
    "\n",
    "features_train = scaler.fit_transform(features_train)\n",
    "features_test = scaler.transform(features_test)"
   ]
  },
  {
   "cell_type": "code",
   "execution_count": 71,
   "metadata": {},
   "outputs": [],
   "source": [
    "forest.fit(features_train,target_train)\n",
    "prediction = forest.predict(features_test)\n",
    "\n",
    "metrics = metrics.append(evaluate(\"forest+ std + lags + seasonal feat\", target_test, prediction), ignore_index=True)"
   ]
  },
  {
   "cell_type": "code",
   "execution_count": 72,
   "metadata": {},
   "outputs": [
    {
     "data": {
      "image/png": "[encoded data removed]",
      "text/plain": [
       "<Figure size 720x720 with 4 Axes>"
      ]
     },
     "metadata": {
      "needs_background": "light"
     },
     "output_type": "display_data"
    }
   ],
   "source": [
    "plot_metrics(metrics)"
   ]
  },
  {
   "cell_type": "markdown",
   "metadata": {},
   "source": [
    "We obtain another further improvement in the metrics adding the seasonal features."
   ]
  },
  {
   "cell_type": "markdown",
   "metadata": {},
   "source": [
    "# 3.- Hyperparamters optimization with GridSeachCV\n",
    "\n",
    "In this preliminary asssesment of 4 differnet regression models, we are obtaining the best results with **Random Forest with an StandardScaler prerprocessing**. Now on we are goint to focus in that model. "
   ]
  },
  {
   "cell_type": "code",
   "execution_count": 73,
   "metadata": {},
   "outputs": [],
   "source": [
    "# Loading naive model\n",
    "\n",
    "forest = RandomForestRegressor()\n",
    "\n",
    "# Setting up train / test\n",
    "\n",
    "features_train, features_test, target_train, target_test = train_test_division(features,target)\n"
   ]
  },
  {
   "cell_type": "code",
   "execution_count": 74,
   "metadata": {},
   "outputs": [],
   "source": [
    "# Scaler\n",
    "scaler = StandardScaler()\n",
    "\n",
    "features_train = scaler.fit_transform(features_train)\n",
    "features_test = scaler.transform(features_test)"
   ]
  },
  {
   "cell_type": "code",
   "execution_count": 75,
   "metadata": {},
   "outputs": [
    {
     "data": {
      "text/plain": [
       "{'bootstrap': True,\n",
       " 'ccp_alpha': 0.0,\n",
       " 'criterion': 'mse',\n",
       " 'max_depth': None,\n",
       " 'max_features': 'auto',\n",
       " 'max_leaf_nodes': None,\n",
       " 'max_samples': None,\n",
       " 'min_impurity_decrease': 0.0,\n",
       " 'min_impurity_split': None,\n",
       " 'min_samples_leaf': 1,\n",
       " 'min_samples_split': 2,\n",
       " 'min_weight_fraction_leaf': 0.0,\n",
       " 'n_estimators': 100,\n",
       " 'n_jobs': None,\n",
       " 'oob_score': False,\n",
       " 'random_state': None,\n",
       " 'verbose': 0,\n",
       " 'warm_start': False}"
      ]
     },
     "execution_count": 75,
     "metadata": {},
     "output_type": "execute_result"
    }
   ],
   "source": [
    "forest.get_params()"
   ]
  },
  {
   "cell_type": "code",
   "execution_count": 76,
   "metadata": {},
   "outputs": [
    {
     "name": "stdout",
     "output_type": "stream",
     "text": [
      "CPU times: user 21.9 s, sys: 244 ms, total: 22.2 s\n",
      "Wall time: 3min 19s\n"
     ]
    },
    {
     "data": {
      "text/plain": [
       "GridSearchCV(estimator=RandomForestRegressor(), n_jobs=4,\n",
       "             param_grid={'max_depth': [None, 5, 10, 15, 20],\n",
       "                         'n_estimators': [10, 100, 300, 600]},\n",
       "             scoring='neg_mean_squared_error')"
      ]
     },
     "execution_count": 76,
     "metadata": {},
     "output_type": "execute_result"
    }
   ],
   "source": [
    "%%time\n",
    "\n",
    "param_grid = {'n_estimators' : [10, 100, 300, 600],\n",
    "              'max_depth' : [None, 5, 10,15, 20]}\n",
    "\n",
    "cv = GridSearchCV(forest, param_grid, n_jobs=4, scoring='neg_mean_squared_error')\n",
    "\n",
    "cv.fit(features_train, target_train)"
   ]
  },
  {
   "cell_type": "code",
   "execution_count": 77,
   "metadata": {},
   "outputs": [
    {
     "data": {
      "text/plain": [
       "{'max_depth': None, 'n_estimators': 600}"
      ]
     },
     "execution_count": 77,
     "metadata": {},
     "output_type": "execute_result"
    }
   ],
   "source": [
    "cv.best_params_"
   ]
  },
  {
   "cell_type": "code",
   "execution_count": 78,
   "metadata": {},
   "outputs": [],
   "source": [
    "prediction = cv.best_estimator_.predict(features_test)\n",
    "\n",
    "metrics = metrics.append(evaluate(\"forest+ std + lags + seasonals + paramsCV\", target_test, prediction), ignore_index=True)"
   ]
  },
  {
   "cell_type": "code",
   "execution_count": 79,
   "metadata": {},
   "outputs": [
    {
     "data": {
      "image/png": "[encoded data removed]",
      "text/plain": [
       "<Figure size 720x720 with 4 Axes>"
      ]
     },
     "metadata": {
      "needs_background": "light"
     },
     "output_type": "display_data"
    }
   ],
   "source": [
    "plot_metrics(metrics)"
   ]
  },
  {
   "cell_type": "markdown",
   "metadata": {},
   "source": [
    "# * .-  pipeline"
   ]
  },
  {
   "cell_type": "code",
   "execution_count": null,
   "metadata": {},
   "outputs": [],
   "source": []
  },
  {
   "cell_type": "code",
   "execution_count": null,
   "metadata": {},
   "outputs": [],
   "source": []
  },
  {
   "cell_type": "code",
   "execution_count": null,
   "metadata": {},
   "outputs": [],
   "source": []
  },
  {
   "cell_type": "code",
   "execution_count": null,
   "metadata": {},
   "outputs": [],
   "source": []
  },
  {
   "cell_type": "code",
   "execution_count": null,
   "metadata": {},
   "outputs": [],
   "source": []
  }
 ],
 "metadata": {
  "kernelspec": {
   "display_name": "Python 3",
   "language": "python",
   "name": "python3"
  },
  "language_info": {
   "codemirror_mode": {
    "name": "ipython",
    "version": 3
   },
   "file_extension": ".py",
   "mimetype": "text/x-python",
   "name": "python",
   "nbconvert_exporter": "python",
   "pygments_lexer": "ipython3",
   "version": "3.8.5"
  }
 },
 "nbformat": 4,
 "nbformat_minor": 4
}
